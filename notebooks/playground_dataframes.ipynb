{
 "cells": [
  {
   "cell_type": "markdown",
   "metadata": {},
   "source": [
    "Notebook to run logistic regression on small (conductor up to 5000) dataset, and check its accuracy compared to the full dataset."
   ]
  },
  {
   "cell_type": "code",
   "execution_count": 1,
   "metadata": {},
   "outputs": [],
   "source": [
    "import pandas as pd\n",
    "import numpy as np\n",
    "import torch\n",
    "import torch.nn as nn\n",
    "import torch.optim as optim\n",
    "from torch.utils.data import DataLoader, TensorDataset\n",
    "from sklearn.model_selection import train_test_split\n",
    "from sklearn.preprocessing import LabelEncoder, StandardScaler\n",
    "\n"
   ]
  },
  {
   "cell_type": "markdown",
   "metadata": {},
   "source": [
    "## 0. Run the logistic regression model on the small dataset."
   ]
  },
  {
   "cell_type": "code",
   "execution_count": 2,
   "metadata": {},
   "outputs": [
    {
     "name": "stdout",
     "output_type": "stream",
     "text": [
      "   2  3  5  7  11  13  17  19  23  29  ...  1163  1171  1181  1187  1193  \\\n",
      "0  0  0  3  4   0   3   3   4  -8  -5  ...   -52    20    11   -24   -29   \n",
      "1  2 -3  1  4  -1   6   4  -2   3   1  ...   -42    35    30   -12    -9   \n",
      "2  0  0 -2  0  -4  -2   6  -8   0   6  ...     4   -20   -18   -36     6   \n",
      "3 -1  0  1  4   1   2  -2   4   4  -6  ...    36    12   -34   -12     6   \n",
      "4 -1  1  0 -3   2   1  -3  -1   1  -5  ...   -44    -8    57    32   -24   \n",
      "\n",
      "   1201  1213  1217  1223  rank  \n",
      "0    15    14   -33    56     0  \n",
      "1   -40    -9     8    36     0  \n",
      "2     2     6    -2    24     1  \n",
      "3   -30   -26    -2    40     0  \n",
      "4    17    36    37    -9     1  \n",
      "\n",
      "[5 rows x 201 columns]\n"
     ]
    }
   ],
   "source": [
    "# Load the dataframe\n",
    "df = pd.read_csv(\"../data_files/ecq_rank_0_or_1_cond_limit_5000_one_per_isog_class_balanced.csv\")\n",
    "# Print the first few rows of the dataframe\n",
    "print(df.head())"
   ]
  },
  {
   "cell_type": "code",
   "execution_count": 3,
   "metadata": {},
   "outputs": [
    {
     "name": "stdout",
     "output_type": "stream",
     "text": [
      "The column names are of type:  {<class 'str'>}\n",
      "The training set has  1348  examples.\n",
      "The test set has  900  examples.\n"
     ]
    }
   ],
   "source": [
    "# But the columns themselves are strings!\n",
    "column_names = df.columns.tolist()\n",
    "column_types = set([type(name) for name in column_names])\n",
    "print(\"The column names are of type: \", column_types)\n",
    "\n",
    "# Divide dataframe into features and label (rank); change data types to float\n",
    "X = df.drop(columns=['rank']).values.astype(np.float32)\n",
    "y = df['rank'].values.astype(np.float32)\n",
    "\n",
    "# Split the data into training and test sets\n",
    "X_train, X_test, y_train, y_test = train_test_split(X, y, test_size=0.4, random_state=42)\n",
    "\n",
    "print(\"The training set has \", X_train.shape[0], \" examples.\")\n",
    "print(\"The test set has \", X_test.shape[0], \" examples.\")\n"
   ]
  },
  {
   "cell_type": "code",
   "execution_count": 4,
   "metadata": {},
   "outputs": [],
   "source": [
    "# Scale the features\n",
    "primes_strings = column_names[:-1]\n",
    "primes = [int(primes_strings[i]) for i in range(len(primes_strings))]\n",
    "def scale_by_ap(data_set):\n",
    "    scaling_factor = [1/(2*np.sqrt(primes[i])) for i in range(len(primes))]\n",
    "    scaling_factor = np.array(scaling_factor, dtype=np.float32)\n",
    "    return data_set * scaling_factor\n",
    "\n",
    "# scaler = StandardScaler()\n",
    "X_train = scale_by_ap(X_train)\n",
    "X_test = scale_by_ap(X_test)\n",
    "\n",
    "# Convert to PyTorch tensors\n",
    "X_train_tensor = torch.tensor(X_train)\n",
    "y_train_tensor = torch.tensor(y_train).view(-1, 1)  # Reshape y to be a column vector\n",
    "X_test_tensor = torch.tensor(X_test)\n",
    "y_test_tensor = torch.tensor(y_test).view(-1, 1)  # Reshape y to be a column vector\n"
   ]
  },
  {
   "cell_type": "code",
   "execution_count": 5,
   "metadata": {},
   "outputs": [],
   "source": [
    "del df, X, y, X_train, y_train, X_test, y_test"
   ]
  },
  {
   "cell_type": "code",
   "execution_count": 7,
   "metadata": {},
   "outputs": [
    {
     "name": "stdout",
     "output_type": "stream",
     "text": [
      "Now we train\n",
      "Epoch [10/40], Loss: 0.0212\n",
      "Epoch [20/40], Loss: 0.0455\n",
      "Epoch [30/40], Loss: 0.0104\n",
      "Epoch [40/40], Loss: 0.0601\n",
      "Accuracy on test set: 99.33%\n"
     ]
    }
   ],
   "source": [
    "# Create DataLoader for training data\n",
    "train_dataset = TensorDataset(X_train_tensor, y_train_tensor)\n",
    "train_dataloader = DataLoader(train_dataset, batch_size=2, shuffle=True)\n",
    "\n",
    "# Define the logistic regression model\n",
    "class LogisticRegressionModel(nn.Module):\n",
    "    def __init__(self, input_dim):\n",
    "        super(LogisticRegressionModel, self).__init__()\n",
    "        self.linear = nn.Linear(input_dim, 1)\n",
    "\n",
    "    def forward(self, x):\n",
    "        return torch.sigmoid(self.linear(x))\n",
    "\n",
    "input_dim = X_train_tensor.shape[1]\n",
    "model = LogisticRegressionModel(input_dim)\n",
    "\n",
    "# Define the loss function and optimizer\n",
    "criterion = nn.BCELoss()\n",
    "optimizer = optim.SGD(model.parameters(), lr=0.01)\n",
    "\n",
    "print(\"Now we train\")\n",
    "# Train the model\n",
    "num_epochs = 40\n",
    "\n",
    "for epoch in range(num_epochs):\n",
    "    for inputs, labels in train_dataloader:\n",
    "        # Zero the gradients\n",
    "        optimizer.zero_grad()\n",
    "\n",
    "        # Forward pass\n",
    "        outputs = model(inputs)\n",
    "        loss = criterion(outputs, labels)\n",
    "\n",
    "        # Backward pass and optimization\n",
    "        loss.backward()\n",
    "        optimizer.step()\n",
    "\n",
    "    if (epoch+1) % 10 == 0:\n",
    "        print(f'Epoch [{epoch+1}/{num_epochs}], Loss: {loss.item():.4f}')\n",
    "\n",
    "# Evaluate the model on the test set\n",
    "with torch.no_grad():\n",
    "    predicted = model(X_test_tensor).round()\n",
    "    accuracy = (predicted.eq(y_test_tensor).sum().item()) / y_test_tensor.size(0)\n",
    "    print(f'Accuracy on test set: {accuracy * 100:.2f}%')\n"
   ]
  },
  {
   "cell_type": "markdown",
   "metadata": {},
   "source": [
    "## 1. Calculate the accuracy of the model on the large dataset for each interval (2^n, 2^(n+1)]"
   ]
  },
  {
   "cell_type": "code",
   "execution_count": 8,
   "metadata": {},
   "outputs": [
    {
     "data": {
      "text/html": [
       "<div>\n",
       "<style scoped>\n",
       "    .dataframe tbody tr th:only-of-type {\n",
       "        vertical-align: middle;\n",
       "    }\n",
       "\n",
       "    .dataframe tbody tr th {\n",
       "        vertical-align: top;\n",
       "    }\n",
       "\n",
       "    .dataframe thead th {\n",
       "        text-align: right;\n",
       "    }\n",
       "</style>\n",
       "<table border=\"1\" class=\"dataframe\">\n",
       "  <thead>\n",
       "    <tr style=\"text-align: right;\">\n",
       "      <th></th>\n",
       "      <th>2</th>\n",
       "      <th>3</th>\n",
       "      <th>5</th>\n",
       "      <th>7</th>\n",
       "      <th>11</th>\n",
       "      <th>13</th>\n",
       "      <th>17</th>\n",
       "      <th>19</th>\n",
       "      <th>23</th>\n",
       "      <th>29</th>\n",
       "      <th>...</th>\n",
       "      <th>1171</th>\n",
       "      <th>1181</th>\n",
       "      <th>1187</th>\n",
       "      <th>1193</th>\n",
       "      <th>1201</th>\n",
       "      <th>1213</th>\n",
       "      <th>1217</th>\n",
       "      <th>1223</th>\n",
       "      <th>conductor</th>\n",
       "      <th>rank</th>\n",
       "    </tr>\n",
       "  </thead>\n",
       "  <tbody>\n",
       "    <tr>\n",
       "      <th>0</th>\n",
       "      <td>-0.7071</td>\n",
       "      <td>-0.2887</td>\n",
       "      <td>0.2236</td>\n",
       "      <td>-0.3780</td>\n",
       "      <td>0.1508</td>\n",
       "      <td>0.5547</td>\n",
       "      <td>-0.2425</td>\n",
       "      <td>0.0000</td>\n",
       "      <td>-0.1043</td>\n",
       "      <td>0.0000</td>\n",
       "      <td>...</td>\n",
       "      <td>-0.0438</td>\n",
       "      <td>-0.2619</td>\n",
       "      <td>-0.1742</td>\n",
       "      <td>-0.3040</td>\n",
       "      <td>0.0289</td>\n",
       "      <td>-0.5886</td>\n",
       "      <td>-0.602</td>\n",
       "      <td>0.2002</td>\n",
       "      <td>11</td>\n",
       "      <td>0</td>\n",
       "    </tr>\n",
       "    <tr>\n",
       "      <th>1</th>\n",
       "      <td>-0.3536</td>\n",
       "      <td>-0.5774</td>\n",
       "      <td>0.0000</td>\n",
       "      <td>0.1890</td>\n",
       "      <td>0.0000</td>\n",
       "      <td>-0.5547</td>\n",
       "      <td>0.7276</td>\n",
       "      <td>0.2294</td>\n",
       "      <td>0.0000</td>\n",
       "      <td>-0.5571</td>\n",
       "      <td>...</td>\n",
       "      <td>0.2922</td>\n",
       "      <td>0.8730</td>\n",
       "      <td>-0.1742</td>\n",
       "      <td>0.9554</td>\n",
       "      <td>0.2020</td>\n",
       "      <td>0.3733</td>\n",
       "      <td>-0.086</td>\n",
       "      <td>-0.3431</td>\n",
       "      <td>14</td>\n",
       "      <td>0</td>\n",
       "    </tr>\n",
       "    <tr>\n",
       "      <th>2</th>\n",
       "      <td>-0.3536</td>\n",
       "      <td>-0.2887</td>\n",
       "      <td>0.2236</td>\n",
       "      <td>0.0000</td>\n",
       "      <td>-0.6030</td>\n",
       "      <td>-0.2774</td>\n",
       "      <td>0.2425</td>\n",
       "      <td>0.4588</td>\n",
       "      <td>0.0000</td>\n",
       "      <td>-0.1857</td>\n",
       "      <td>...</td>\n",
       "      <td>-0.1753</td>\n",
       "      <td>-0.4947</td>\n",
       "      <td>0.1742</td>\n",
       "      <td>-0.5501</td>\n",
       "      <td>-0.2020</td>\n",
       "      <td>-0.2584</td>\n",
       "      <td>0.258</td>\n",
       "      <td>0.2288</td>\n",
       "      <td>15</td>\n",
       "      <td>0</td>\n",
       "    </tr>\n",
       "    <tr>\n",
       "      <th>3</th>\n",
       "      <td>-0.3536</td>\n",
       "      <td>0.0000</td>\n",
       "      <td>-0.4472</td>\n",
       "      <td>0.7559</td>\n",
       "      <td>0.0000</td>\n",
       "      <td>-0.2774</td>\n",
       "      <td>0.1213</td>\n",
       "      <td>-0.4588</td>\n",
       "      <td>0.4170</td>\n",
       "      <td>0.5571</td>\n",
       "      <td>...</td>\n",
       "      <td>0.4091</td>\n",
       "      <td>-0.4947</td>\n",
       "      <td>0.0000</td>\n",
       "      <td>0.3764</td>\n",
       "      <td>-0.2020</td>\n",
       "      <td>-0.1436</td>\n",
       "      <td>0.946</td>\n",
       "      <td>-0.8007</td>\n",
       "      <td>17</td>\n",
       "      <td>0</td>\n",
       "    </tr>\n",
       "    <tr>\n",
       "      <th>4</th>\n",
       "      <td>0.0000</td>\n",
       "      <td>-0.5774</td>\n",
       "      <td>0.6708</td>\n",
       "      <td>-0.1890</td>\n",
       "      <td>0.4523</td>\n",
       "      <td>-0.5547</td>\n",
       "      <td>-0.3638</td>\n",
       "      <td>0.1147</td>\n",
       "      <td>0.0000</td>\n",
       "      <td>0.5571</td>\n",
       "      <td>...</td>\n",
       "      <td>0.8182</td>\n",
       "      <td>-0.2619</td>\n",
       "      <td>0.6966</td>\n",
       "      <td>0.5211</td>\n",
       "      <td>0.0721</td>\n",
       "      <td>-0.6604</td>\n",
       "      <td>0.430</td>\n",
       "      <td>0.6434</td>\n",
       "      <td>19</td>\n",
       "      <td>0</td>\n",
       "    </tr>\n",
       "  </tbody>\n",
       "</table>\n",
       "<p>5 rows × 202 columns</p>\n",
       "</div>"
      ],
      "text/plain": [
       "        2       3       5       7      11      13      17      19      23  \\\n",
       "0 -0.7071 -0.2887  0.2236 -0.3780  0.1508  0.5547 -0.2425  0.0000 -0.1043   \n",
       "1 -0.3536 -0.5774  0.0000  0.1890  0.0000 -0.5547  0.7276  0.2294  0.0000   \n",
       "2 -0.3536 -0.2887  0.2236  0.0000 -0.6030 -0.2774  0.2425  0.4588  0.0000   \n",
       "3 -0.3536  0.0000 -0.4472  0.7559  0.0000 -0.2774  0.1213 -0.4588  0.4170   \n",
       "4  0.0000 -0.5774  0.6708 -0.1890  0.4523 -0.5547 -0.3638  0.1147  0.0000   \n",
       "\n",
       "       29  ...    1171    1181    1187    1193    1201    1213   1217    1223  \\\n",
       "0  0.0000  ... -0.0438 -0.2619 -0.1742 -0.3040  0.0289 -0.5886 -0.602  0.2002   \n",
       "1 -0.5571  ...  0.2922  0.8730 -0.1742  0.9554  0.2020  0.3733 -0.086 -0.3431   \n",
       "2 -0.1857  ... -0.1753 -0.4947  0.1742 -0.5501 -0.2020 -0.2584  0.258  0.2288   \n",
       "3  0.5571  ...  0.4091 -0.4947  0.0000  0.3764 -0.2020 -0.1436  0.946 -0.8007   \n",
       "4  0.5571  ...  0.8182 -0.2619  0.6966  0.5211  0.0721 -0.6604  0.430  0.6434   \n",
       "\n",
       "   conductor  rank  \n",
       "0         11     0  \n",
       "1         14     0  \n",
       "2         15     0  \n",
       "3         17     0  \n",
       "4         19     0  \n",
       "\n",
       "[5 rows x 202 columns]"
      ]
     },
     "execution_count": 8,
     "metadata": {},
     "output_type": "execute_result"
    }
   ],
   "source": [
    "df_big = pd.read_csv('../data_files/ecq_B_200_all_one_per_iso.csv')\n",
    "df_big.head()"
   ]
  },
  {
   "cell_type": "code",
   "execution_count": 10,
   "metadata": {},
   "outputs": [
    {
     "name": "stdout",
     "output_type": "stream",
     "text": [
      "(1876304, 202)\n"
     ]
    }
   ],
   "source": [
    "# take the rows with 0 or 1 rank\n",
    "df = df_big[df_big['rank'].isin([0, 1])]\n",
    "del df_big\n",
    "print(df.shape)"
   ]
  },
  {
   "cell_type": "code",
   "execution_count": 14,
   "metadata": {},
   "outputs": [
    {
     "name": "stdout",
     "output_type": "stream",
     "text": [
      "Dataframe 3 has shape (3, 202)\n",
      "Dataframe 4 has shape (10, 202)\n",
      "Dataframe 5 has shape (36, 202)\n",
      "Dataframe 6 has shape (92, 202)\n",
      "Dataframe 7 has shape (253, 202)\n",
      "Dataframe 8 has shape (603, 202)\n",
      "Dataframe 9 has shape (1528, 202)\n",
      "Dataframe 10 has shape (3374, 202)\n",
      "Dataframe 11 has shape (7428, 202)\n",
      "Dataframe 12 has shape (15796, 202)\n",
      "Dataframe 13 has shape (32177, 202)\n",
      "Dataframe 14 has shape (65516, 202)\n",
      "Dataframe 15 has shape (129148, 202)\n",
      "Dataframe 16 has shape (255442, 202)\n",
      "Dataframe 17 has shape (496366, 202)\n",
      "Dataframe 18 has shape (868532, 202)\n"
     ]
    }
   ],
   "source": [
    "# Divide up dataframes\n",
    "dfs = {n: df[(df['conductor']> 2**n) & (df['conductor'] <= 2**(n+1))] for n in range(3, 19)}\n",
    "for item in dfs:\n",
    "    print(f\"Dataframe {item} has shape {dfs[item].shape}\")\n",
    "del df"
   ]
  },
  {
   "cell_type": "code",
   "execution_count": 25,
   "metadata": {},
   "outputs": [
    {
     "name": "stdout",
     "output_type": "stream",
     "text": [
      "Accuracy on test set for key 3 is: 100.00%\n",
      "Accuracy on test set for key 4 is: 90.00%\n",
      "Accuracy on test set for key 5 is: 97.22%\n",
      "Accuracy on test set for key 6 is: 97.83%\n",
      "Accuracy on test set for key 7 is: 99.21%\n",
      "Accuracy on test set for key 8 is: 100.00%\n",
      "Accuracy on test set for key 9 is: 99.74%\n",
      "Accuracy on test set for key 10 is: 96.86%\n",
      "Accuracy on test set for key 11 is: 93.13%\n",
      "Accuracy on test set for key 12 is: 88.12%\n",
      "Accuracy on test set for key 13 is: 82.78%\n",
      "Accuracy on test set for key 14 is: 72.10%\n",
      "Accuracy on test set for key 15 is: 60.78%\n",
      "Accuracy on test set for key 16 is: 52.38%\n",
      "Accuracy on test set for key 17 is: 47.20%\n",
      "Accuracy on test set for key 18 is: 45.83%\n"
     ]
    }
   ],
   "source": [
    "# Calculate the accuracy\n",
    "accs = {}\n",
    "for n in dfs:\n",
    "    X_verify = dfs[n].drop(columns=['rank', 'conductor']).values.astype(np.float32)\n",
    "    y_verify = dfs[n]['rank'].values.astype(np.float32)\n",
    "    X_verify_tensor = torch.tensor(X_verify)\n",
    "    y_verify_tensor = torch.tensor(y_verify).view(-1, 1)  # Reshape y to be a column vector\n",
    "\n",
    "    # Evaluate the model on the test set\n",
    "    with torch.no_grad():\n",
    "    \n",
    "        predicted = model(X_verify_tensor).round()\n",
    "        accuracy = (predicted.eq(y_verify_tensor).sum().item()) / y_verify_tensor.size(0)\n",
    "        print(f'Accuracy on test set for key {n} is: {accuracy * 100:.2f}%')\n",
    "        accs[n]=accuracy\n"
   ]
  },
  {
   "cell_type": "markdown",
   "metadata": {},
   "source": [
    "## 2. Plot the accuracy"
   ]
  },
  {
   "cell_type": "code",
   "execution_count": 24,
   "metadata": {},
   "outputs": [
    {
     "data": {
      "image/png": "[encoded data removed]",
      "text/plain": [
       "<Figure size 640x480 with 1 Axes>"
      ]
     },
     "metadata": {},
     "output_type": "display_data"
    }
   ],
   "source": [
    "import matplotlib.pyplot as plt\n",
    "\n",
    "\n",
    "# Create a line plot\n",
    "plt.plot(list(accs.keys()), list(accs.values()))\n",
    "\n",
    "# Optionally, add a title and labels\n",
    "plt.title('Accuracy for each conductor interval')\n",
    "plt.xlabel('Exponent n with conductor in the interval $(2^n, 2^{n+1}]$')\n",
    "plt.ylabel('Accuracy')\n",
    "\n",
    "# Show the plot\n",
    "plt.show()"
   ]
  },
  {
   "cell_type": "code",
   "execution_count": null,
   "metadata": {},
   "outputs": [],
   "source": []
  },
  {
   "cell_type": "code",
   "execution_count": null,
   "metadata": {},
   "outputs": [],
   "source": []
  }
 ],
 "metadata": {
  "kernelspec": {
   "display_name": "Python 3",
   "language": "python",
   "name": "python3"
  },
  "language_info": {
   "codemirror_mode": {
    "name": "ipython",
    "version": 3
   },
   "file_extension": ".py",
   "mimetype": "text/x-python",
   "name": "python",
   "nbconvert_exporter": "python",
   "pygments_lexer": "ipython3",
   "version": "3.12.0"
  }
 },
 "nbformat": 4,
 "nbformat_minor": 2
}
