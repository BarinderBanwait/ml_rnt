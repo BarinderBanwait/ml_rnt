{
 "cells": [
  {
   "cell_type": "code",
   "execution_count": 1,
   "metadata": {},
   "outputs": [],
   "source": [
    "from sklearn.linear_model import LogisticRegression\n",
    "import utils"
   ]
  },
  {
   "cell_type": "code",
   "execution_count": 2,
   "metadata": {},
   "outputs": [
    {
     "name": "stdout",
     "output_type": "stream",
     "text": [
      "Loaded the big dataset with 200 a_p's and 541081 curves..\n",
      "**************************************************\n",
      "Generating the accuracy by the number of a_p's dataframe for range [0, 10000]..\n",
      "There are 38042 curves within the conductor range [0, 10000].\n",
      "**************************************************\n",
      "Generating the accuracy by the number of a_p's dataframe for range [0, 20000]..\n",
      "There are 81217 curves within the conductor range [0, 20000].\n"
     ]
    }
   ],
   "source": [
    "path = r\"C:..\\data_files\\parquet_by_conductors\\ecq_B_200_cond_0_123456_one_per_iso.parquet\"\n",
    "df = utils.load_data(path)\n",
    "\n",
    "# choose your desired bounds (including the end points)\n",
    "bounds_list = [(0,10000), (0,20000)]\n",
    "\n",
    "# choose your model\n",
    "model = LogisticRegression(max_iter = 3000)\n",
    "\n",
    "# choose your desired step size for number of a_p's\n",
    "step_size = 50\n",
    "\n",
    "res_dict = {}\n",
    "for bounds in bounds_list:\n",
    "    lower_bound, upper_bound = bounds\n",
    "    res_dict[bounds] = utils.Generate_AccByNumAps_df(df, lower_bound, upper_bound, model, step_size = step_size)"
   ]
  },
  {
   "cell_type": "code",
   "execution_count": 3,
   "metadata": {},
   "outputs": [
    {
     "data": {
      "text/plain": [
       "{(0,\n",
       "  10000):   num_a_p  accuracy\n",
       " 0      50  0.948165\n",
       " 1     100  0.977815\n",
       " 2     150  0.986647,\n",
       " (0,\n",
       "  20000):   num_a_p  accuracy\n",
       " 0      50  0.908594\n",
       " 1     100  0.955627\n",
       " 2     150  0.970795}"
      ]
     },
     "execution_count": 3,
     "metadata": {},
     "output_type": "execute_result"
    }
   ],
   "source": [
    "res_dict"
   ]
  }
 ],
 "metadata": {
  "kernelspec": {
   "display_name": "Python 3",
   "language": "python",
   "name": "python3"
  },
  "language_info": {
   "codemirror_mode": {
    "name": "ipython",
    "version": 3
   },
   "file_extension": ".py",
   "mimetype": "text/x-python",
   "name": "python",
   "nbconvert_exporter": "python",
   "pygments_lexer": "ipython3",
   "version": "3.10.7"
  }
 },
 "nbformat": 4,
 "nbformat_minor": 2
}
