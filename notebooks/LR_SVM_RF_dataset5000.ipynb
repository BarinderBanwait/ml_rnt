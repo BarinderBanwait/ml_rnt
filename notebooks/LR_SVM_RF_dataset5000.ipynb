{
 "cells": [
  {
   "cell_type": "code",
   "execution_count": 1,
   "metadata": {},
   "outputs": [],
   "source": [
    "# python version 3.10.7\n",
    "# scikit-learn == 1.1.2\n",
    "import pandas as pd\n",
    "import numpy as np\n",
    "from sklearn.svm import SVC\n",
    "from sklearn.linear_model import LogisticRegression\n",
    "from sklearn.ensemble import RandomForestClassifier\n",
    "from sklearn.metrics import matthews_corrcoef"
   ]
  },
  {
   "cell_type": "markdown",
   "metadata": {},
   "source": [
    "# load datasets"
   ]
  },
  {
   "cell_type": "code",
   "execution_count": 2,
   "metadata": {},
   "outputs": [
    {
     "name": "stdout",
     "output_type": "stream",
     "text": [
      "We are using 201 a_p's for this dataset.\n"
     ]
    }
   ],
   "source": [
    "df = pd.read_csv(r\"..\\data_files\\ecq_rank_0_or_1_cond_limit_5000_one_per_isog_class_balanced.csv\")\n",
    "print(f\"We are using {len(df.columns)} a_p's for this dataset.\")\n",
    "\n",
    "# create a normalize df: df_norm where \n",
    "# df_norm[p] = df[p]/sqrt(p)\n",
    "df_norm = df.copy()\n",
    "cols = df_norm.columns[:-1]\n",
    "for p in cols:\n",
    "    df_norm[p] = (df[p]) / int(np.sqrt(int(p)))"
   ]
  },
  {
   "cell_type": "markdown",
   "metadata": {},
   "source": [
    "# create train and test data"
   ]
  },
  {
   "cell_type": "code",
   "execution_count": 3,
   "metadata": {},
   "outputs": [],
   "source": [
    "from sklearn.model_selection import train_test_split\n",
    "# create train and test sets from df\n",
    "# shuffle=False\n",
    "# default test_size=0.25\n",
    "X = df.drop(columns=['rank']).values\n",
    "y = df['rank'].values\n",
    "X_train, X_test, y_train, y_test = train_test_split(X, y, shuffle=False)\n",
    "\n",
    "# create train and test sets from df_norm\n",
    "# shuffle=False\n",
    "# default test_size=0.25\n",
    "X_norm = df_norm.drop(columns=['rank']).values\n",
    "y_norm = df_norm['rank'].values\n",
    "X_train_norm, X_test_norm, y_train_norm, y_test_norm = train_test_split(X_norm, y_norm, shuffle=False)"
   ]
  },
  {
   "cell_type": "markdown",
   "metadata": {},
   "source": [
    "# models"
   ]
  },
  {
   "cell_type": "code",
   "execution_count": 4,
   "metadata": {},
   "outputs": [],
   "source": [
    "# available models: SVM, Random Forest, Logistic Regression\n",
    "models = {'SVM' : [SVC, {'kernel' : 'linear'}],\n",
    "          'Random Forest' : [RandomForestClassifier, {'n_estimators' : 100}], \n",
    "          'Logistic Regression' : [LogisticRegression, {'max_iter' : 3000}]\n",
    "          }"
   ]
  },
  {
   "cell_type": "code",
   "execution_count": 5,
   "metadata": {},
   "outputs": [
    {
     "name": "stderr",
     "output_type": "stream",
     "text": [
      "C:\\Users\\Xiaoyu Huang\\AppData\\Local\\Temp\\ipykernel_15516\\2561516631.py:33: FutureWarning: The frame.append method is deprecated and will be removed from pandas in a future version. Use pandas.concat instead.\n",
      "  results = results.append({'Model': model_name,\n",
      "C:\\Users\\Xiaoyu Huang\\AppData\\Local\\Temp\\ipykernel_15516\\2561516631.py:33: FutureWarning: The frame.append method is deprecated and will be removed from pandas in a future version. Use pandas.concat instead.\n",
      "  results = results.append({'Model': model_name,\n",
      "C:\\Users\\Xiaoyu Huang\\AppData\\Local\\Temp\\ipykernel_15516\\2561516631.py:33: FutureWarning: The frame.append method is deprecated and will be removed from pandas in a future version. Use pandas.concat instead.\n",
      "  results = results.append({'Model': model_name,\n"
     ]
    }
   ],
   "source": [
    "# create a df to store the results\n",
    "results = pd.DataFrame(columns=['Model', 'Accuracy on train set', 'MCC on test set', 'Accuracy on train set (Normalized)', 'MCC on test set (Normalized)'])\n",
    "\n",
    "for model_name in models:\n",
    "    # create a model\n",
    "    params = models[model_name][1]\n",
    "    model = models[model_name][0]\n",
    "    clf = model(**params)\n",
    "    \n",
    "    # train a svm model for X_train and y_train\n",
    "    clf.fit(X_train, y_train)\n",
    "    # show the accuracy of the model on the train data\n",
    "    y_train_pred = clf.predict(X_train)\n",
    "    train_accuracy = clf.score(X_train, y_train)\n",
    "    # show the MCC of the model on the test data\n",
    "    y_test_pred = clf.predict(X_test)\n",
    "    test_mcc_score = matthews_corrcoef(y_test, y_test_pred)\n",
    "    # print(f\"For NON-NORMALZED dateset: Accuracy on train set: {clf.score(X_train, y_train)}. MCC on test set: {test_mcc_score}\")\n",
    "\n",
    "    # --------------------------------------------\n",
    "    # train a svm model for X_train_norm and y_train_norm\n",
    "    clf.fit(X_train_norm, y_train_norm)\n",
    "    # show the accuracy of the model on the train data\n",
    "    norm_y_train_pred = clf.predict(X_train_norm)\n",
    "    norm_train_accuracy = clf.score(X_train_norm, y_train_norm)\n",
    "    # show the MCC of the model on the train and data\n",
    "    norm_y_test_pred = clf.predict(X_test_norm)\n",
    "    norm_test_mcc_score = matthews_corrcoef(y_test_norm, norm_y_test_pred)\n",
    "    # print(f\"For NORMALZED dateset: Accuracy on train set: {clf.score(X_train_norm, y_train_norm)}. MCC on test set: {norm_test_mcc_score}\")\n",
    "\n",
    "    # --------------------------------------------\n",
    "    # store the results in the results df\n",
    "    results = results.append({'Model': model_name, \n",
    "                              'Accuracy on train set': train_accuracy, \n",
    "                              'MCC on test set': test_mcc_score,\n",
    "                              'Accuracy on train set (Normalized)': norm_train_accuracy, \n",
    "                              'MCC on test set (Normalized)': norm_test_mcc_score}, \n",
    "                              ignore_index=True)\n",
    "    "
   ]
  },
  {
   "cell_type": "markdown",
   "metadata": {},
   "source": [
    "# results"
   ]
  },
  {
   "cell_type": "code",
   "execution_count": 6,
   "metadata": {},
   "outputs": [
    {
     "data": {
      "text/html": [
       "<div>\n",
       "<style scoped>\n",
       "    .dataframe tbody tr th:only-of-type {\n",
       "        vertical-align: middle;\n",
       "    }\n",
       "\n",
       "    .dataframe tbody tr th {\n",
       "        vertical-align: top;\n",
       "    }\n",
       "\n",
       "    .dataframe thead th {\n",
       "        text-align: right;\n",
       "    }\n",
       "</style>\n",
       "<table border=\"1\" class=\"dataframe\">\n",
       "  <thead>\n",
       "    <tr style=\"text-align: right;\">\n",
       "      <th></th>\n",
       "      <th>Model</th>\n",
       "      <th>Accuracy on train set</th>\n",
       "      <th>MCC on test set</th>\n",
       "      <th>Accuracy on train set (Normalized)</th>\n",
       "      <th>MCC on test set (Normalized)</th>\n",
       "    </tr>\n",
       "  </thead>\n",
       "  <tbody>\n",
       "    <tr>\n",
       "      <th>0</th>\n",
       "      <td>SVM</td>\n",
       "      <td>1.0</td>\n",
       "      <td>0.992883</td>\n",
       "      <td>1.0</td>\n",
       "      <td>0.992908</td>\n",
       "    </tr>\n",
       "    <tr>\n",
       "      <th>1</th>\n",
       "      <td>Random Forest</td>\n",
       "      <td>1.0</td>\n",
       "      <td>0.843438</td>\n",
       "      <td>1.0</td>\n",
       "      <td>0.818511</td>\n",
       "    </tr>\n",
       "    <tr>\n",
       "      <th>2</th>\n",
       "      <td>Logistic Regression</td>\n",
       "      <td>1.0</td>\n",
       "      <td>0.992908</td>\n",
       "      <td>1.0</td>\n",
       "      <td>0.989380</td>\n",
       "    </tr>\n",
       "  </tbody>\n",
       "</table>\n",
       "</div>"
      ],
      "text/plain": [
       "                 Model  Accuracy on train set  MCC on test set  \\\n",
       "0                  SVM                    1.0         0.992883   \n",
       "1        Random Forest                    1.0         0.843438   \n",
       "2  Logistic Regression                    1.0         0.992908   \n",
       "\n",
       "   Accuracy on train set (Normalized)  MCC on test set (Normalized)  \n",
       "0                                 1.0                      0.992908  \n",
       "1                                 1.0                      0.818511  \n",
       "2                                 1.0                      0.989380  "
      ]
     },
     "execution_count": 6,
     "metadata": {},
     "output_type": "execute_result"
    }
   ],
   "source": [
    "results"
   ]
  },
  {
   "cell_type": "code",
   "execution_count": 7,
   "metadata": {},
   "outputs": [],
   "source": [
    "# # demo using SVM model\n",
    "# model_name = 'SVM'\n",
    "\n",
    "# # create a model\n",
    "# clf = models[model_name]()\n",
    "# # train a svm model for X_train and y_train\n",
    "# clf.fit(X_train, y_train)\n",
    "# # show the accuracy of the model on the train and data\n",
    "# y_test_pred = clf.predict(X_test)\n",
    "# test_mcc_score = matthews_corrcoef(y_test, y_test_pred)\n",
    "# print(f\"For NON-NORMALZED dateset: Accuracy on train set: {clf.score(X_train, y_train)}. MCC on test set: {test_mcc_score}\")\n",
    "\n",
    "# # --------------------------------------------\n",
    "# # train a svm model for X_train_norm and y_train_norm\n",
    "# clf.fit(X_train_norm, y_train_norm)\n",
    "# # show the accuracy of the model on the train and data\n",
    "# norm_y_test_pred = clf.predict(X_test_norm)\n",
    "# norm_test_mcc_score = matthews_corrcoef(y_test_norm, norm_y_test_pred)\n",
    "# print(f\"For NORMALZED dateset: Accuracy on train set: {clf.score(X_train_norm, y_train_norm)}. MCC on test set: {norm_test_mcc_score}\")"
   ]
  }
 ],
 "metadata": {
  "kernelspec": {
   "display_name": "Python 3",
   "language": "python",
   "name": "python3"
  },
  "language_info": {
   "codemirror_mode": {
    "name": "ipython",
    "version": 3
   },
   "file_extension": ".py",
   "mimetype": "text/x-python",
   "name": "python",
   "nbconvert_exporter": "python",
   "pygments_lexer": "ipython3",
   "version": "3.10.7"
  }
 },
 "nbformat": 4,
 "nbformat_minor": 2
}
