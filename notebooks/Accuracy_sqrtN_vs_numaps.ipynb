{
 "cells": [
  {
   "cell_type": "code",
   "execution_count": 1,
   "metadata": {},
   "outputs": [],
   "source": [
    "from sklearn.linear_model import LogisticRegression\n",
    "from sklearn.metrics import accuracy_score, matthews_corrcoef\n",
    "from collections import defaultdict\n",
    "import numpy as np\n",
    "import utils\n",
    "import matplotlib.pyplot as plt\n",
    "import math\n"
   ]
  },
  {
   "cell_type": "code",
   "execution_count": 3,
   "metadata": {},
   "outputs": [
    {
     "name": "stdout",
     "output_type": "stream",
     "text": [
      "Loaded the big dataset with 1000 a_p's and 2164705 curves..\n"
     ]
    }
   ],
   "source": [
    "path = r\"../data_files/ecq_B_1000_all_one_per_iso_1_524287.parquet\"\n",
    "df = utils.load_data(path)\n",
    "\n",
    "#divide among high and low rank (0&1 low, 2&3 high)\n",
    "#df['rank'] = df['rank'].apply(lambda x: 0 if x < 2 else 1)\n"
   ]
  },
  {
   "cell_type": "markdown",
   "metadata": {},
   "source": [
    "Import utilities and obtain dictionary of accuracies"
   ]
  },
  {
   "cell_type": "code",
   "execution_count": 4,
   "metadata": {},
   "outputs": [
    {
     "name": "stdout",
     "output_type": "stream",
     "text": [
      "**************************************************\n",
      "Generating the accuracy by the number of a_p's dataframe for range [2200, 5000]..\n",
      "There are 10757 curves within the conductor range [2200, 5000].\n"
     ]
    },
    {
     "name": "stderr",
     "output_type": "stream",
     "text": [
      "/Users/angelicababei/ml_rnt/notebooks/utils.py:112: FutureWarning: The behavior of DataFrame concatenation with empty or all-NA entries is deprecated. In a future version, this will no longer exclude empty or all-NA columns when determining the result dtypes. To retain the old behavior, exclude the relevant entries before the concat operation.\n",
      "  res_df = pd.concat([res_df, pd.DataFrame({'num_a_p': i, 'performance': res}, index = [0])], ignore_index = True)\n"
     ]
    },
    {
     "name": "stdout",
     "output_type": "stream",
     "text": [
      "**************************************************\n",
      "Generating the accuracy by the number of a_p's dataframe for range [2200, 5000]..\n",
      "There are 10757 curves within the conductor range [2200, 5000].\n"
     ]
    },
    {
     "name": "stderr",
     "output_type": "stream",
     "text": [
      "/Users/angelicababei/ml_rnt/notebooks/utils.py:112: FutureWarning: The behavior of DataFrame concatenation with empty or all-NA entries is deprecated. In a future version, this will no longer exclude empty or all-NA columns when determining the result dtypes. To retain the old behavior, exclude the relevant entries before the concat operation.\n",
      "  res_df = pd.concat([res_df, pd.DataFrame({'num_a_p': i, 'performance': res}, index = [0])], ignore_index = True)\n"
     ]
    },
    {
     "name": "stdout",
     "output_type": "stream",
     "text": [
      "**************************************************\n",
      "Generating the accuracy by the number of a_p's dataframe for range [2200, 5000]..\n",
      "There are 10757 curves within the conductor range [2200, 5000].\n"
     ]
    },
    {
     "name": "stderr",
     "output_type": "stream",
     "text": [
      "/Users/angelicababei/ml_rnt/notebooks/utils.py:112: FutureWarning: The behavior of DataFrame concatenation with empty or all-NA entries is deprecated. In a future version, this will no longer exclude empty or all-NA columns when determining the result dtypes. To retain the old behavior, exclude the relevant entries before the concat operation.\n",
      "  res_df = pd.concat([res_df, pd.DataFrame({'num_a_p': i, 'performance': res}, index = [0])], ignore_index = True)\n"
     ]
    },
    {
     "name": "stdout",
     "output_type": "stream",
     "text": [
      "Conductor with exponent 60 needs the following number of ap values: {0.98: 120.0, 0.95: 50.0, 0.9: 40.0, 0.85: 30.0, 0.8: 26.666666666666668, 0.75: 20.0, 0.7: 20.0, 0.65: 20.0, 0.6: 10.0, 0.55: 10.0, 0.5: 10.0, 0.45: 10.0, 0.4: 10.0, 0.35: 10.0, 0.3: 10.0, 0.25: 10.0}\n",
      "**************************************************\n",
      "Generating the accuracy by the number of a_p's dataframe for range [5000, 7800]..\n",
      "There are 11623 curves within the conductor range [5000, 7800].\n"
     ]
    },
    {
     "name": "stderr",
     "output_type": "stream",
     "text": [
      "/Users/angelicababei/ml_rnt/notebooks/utils.py:112: FutureWarning: The behavior of DataFrame concatenation with empty or all-NA entries is deprecated. In a future version, this will no longer exclude empty or all-NA columns when determining the result dtypes. To retain the old behavior, exclude the relevant entries before the concat operation.\n",
      "  res_df = pd.concat([res_df, pd.DataFrame({'num_a_p': i, 'performance': res}, index = [0])], ignore_index = True)\n"
     ]
    },
    {
     "name": "stdout",
     "output_type": "stream",
     "text": [
      "**************************************************\n",
      "Generating the accuracy by the number of a_p's dataframe for range [5000, 7800]..\n",
      "There are 11623 curves within the conductor range [5000, 7800].\n"
     ]
    },
    {
     "name": "stderr",
     "output_type": "stream",
     "text": [
      "/Users/angelicababei/ml_rnt/notebooks/utils.py:112: FutureWarning: The behavior of DataFrame concatenation with empty or all-NA entries is deprecated. In a future version, this will no longer exclude empty or all-NA columns when determining the result dtypes. To retain the old behavior, exclude the relevant entries before the concat operation.\n",
      "  res_df = pd.concat([res_df, pd.DataFrame({'num_a_p': i, 'performance': res}, index = [0])], ignore_index = True)\n"
     ]
    },
    {
     "name": "stdout",
     "output_type": "stream",
     "text": [
      "**************************************************\n",
      "Generating the accuracy by the number of a_p's dataframe for range [5000, 7800]..\n",
      "There are 11623 curves within the conductor range [5000, 7800].\n"
     ]
    },
    {
     "name": "stderr",
     "output_type": "stream",
     "text": [
      "/Users/angelicababei/ml_rnt/notebooks/utils.py:112: FutureWarning: The behavior of DataFrame concatenation with empty or all-NA entries is deprecated. In a future version, this will no longer exclude empty or all-NA columns when determining the result dtypes. To retain the old behavior, exclude the relevant entries before the concat operation.\n",
      "  res_df = pd.concat([res_df, pd.DataFrame({'num_a_p': i, 'performance': res}, index = [0])], ignore_index = True)\n"
     ]
    },
    {
     "name": "stdout",
     "output_type": "stream",
     "text": [
      "Conductor with exponent 80 needs the following number of ap values: {0.95: 90.0, 0.9: 60.0, 0.85: 40.0, 0.8: 30.0, 0.75: 30.0, 0.7: 20.0, 0.65: 20.0, 0.6: 20.0, 0.55: 16.666666666666668, 0.5: 10.0, 0.45: 10.0, 0.4: 10.0, 0.35: 10.0, 0.3: 10.0, 0.25: 10.0, 0.98: 480.0}\n",
      "**************************************************\n",
      "Generating the accuracy by the number of a_p's dataframe for range [8600, 11400]..\n",
      "There are 11890 curves within the conductor range [8600, 11400].\n"
     ]
    },
    {
     "name": "stderr",
     "output_type": "stream",
     "text": [
      "/Users/angelicababei/ml_rnt/notebooks/utils.py:112: FutureWarning: The behavior of DataFrame concatenation with empty or all-NA entries is deprecated. In a future version, this will no longer exclude empty or all-NA columns when determining the result dtypes. To retain the old behavior, exclude the relevant entries before the concat operation.\n",
      "  res_df = pd.concat([res_df, pd.DataFrame({'num_a_p': i, 'performance': res}, index = [0])], ignore_index = True)\n"
     ]
    },
    {
     "name": "stdout",
     "output_type": "stream",
     "text": [
      "**************************************************\n",
      "Generating the accuracy by the number of a_p's dataframe for range [8600, 11400]..\n",
      "There are 11890 curves within the conductor range [8600, 11400].\n"
     ]
    },
    {
     "name": "stderr",
     "output_type": "stream",
     "text": [
      "/Users/angelicababei/ml_rnt/notebooks/utils.py:112: FutureWarning: The behavior of DataFrame concatenation with empty or all-NA entries is deprecated. In a future version, this will no longer exclude empty or all-NA columns when determining the result dtypes. To retain the old behavior, exclude the relevant entries before the concat operation.\n",
      "  res_df = pd.concat([res_df, pd.DataFrame({'num_a_p': i, 'performance': res}, index = [0])], ignore_index = True)\n"
     ]
    },
    {
     "name": "stdout",
     "output_type": "stream",
     "text": [
      "**************************************************\n",
      "Generating the accuracy by the number of a_p's dataframe for range [8600, 11400]..\n",
      "There are 11890 curves within the conductor range [8600, 11400].\n"
     ]
    },
    {
     "name": "stderr",
     "output_type": "stream",
     "text": [
      "/Users/angelicababei/ml_rnt/notebooks/utils.py:112: FutureWarning: The behavior of DataFrame concatenation with empty or all-NA entries is deprecated. In a future version, this will no longer exclude empty or all-NA columns when determining the result dtypes. To retain the old behavior, exclude the relevant entries before the concat operation.\n",
      "  res_df = pd.concat([res_df, pd.DataFrame({'num_a_p': i, 'performance': res}, index = [0])], ignore_index = True)\n"
     ]
    },
    {
     "name": "stdout",
     "output_type": "stream",
     "text": [
      "Conductor with exponent 100 needs the following number of ap values: {0.95: 120.0, 0.9: 76.66666666666667, 0.85: 60.0, 0.8: 50.0, 0.75: 40.0, 0.7: 30.0, 0.65: 26.666666666666668, 0.6: 20.0, 0.55: 20.0, 0.5: 16.666666666666668, 0.45: 10.0, 0.4: 10.0, 0.35: 10.0, 0.3: 10.0, 0.25: 10.0}\n",
      "**************************************************\n",
      "Generating the accuracy by the number of a_p's dataframe for range [13000, 15800]..\n",
      "There are 12140 curves within the conductor range [13000, 15800].\n"
     ]
    },
    {
     "name": "stderr",
     "output_type": "stream",
     "text": [
      "/Users/angelicababei/ml_rnt/notebooks/utils.py:112: FutureWarning: The behavior of DataFrame concatenation with empty or all-NA entries is deprecated. In a future version, this will no longer exclude empty or all-NA columns when determining the result dtypes. To retain the old behavior, exclude the relevant entries before the concat operation.\n",
      "  res_df = pd.concat([res_df, pd.DataFrame({'num_a_p': i, 'performance': res}, index = [0])], ignore_index = True)\n"
     ]
    },
    {
     "name": "stdout",
     "output_type": "stream",
     "text": [
      "**************************************************\n",
      "Generating the accuracy by the number of a_p's dataframe for range [13000, 15800]..\n",
      "There are 12140 curves within the conductor range [13000, 15800].\n"
     ]
    },
    {
     "name": "stderr",
     "output_type": "stream",
     "text": [
      "/Users/angelicababei/ml_rnt/notebooks/utils.py:112: FutureWarning: The behavior of DataFrame concatenation with empty or all-NA entries is deprecated. In a future version, this will no longer exclude empty or all-NA columns when determining the result dtypes. To retain the old behavior, exclude the relevant entries before the concat operation.\n",
      "  res_df = pd.concat([res_df, pd.DataFrame({'num_a_p': i, 'performance': res}, index = [0])], ignore_index = True)\n"
     ]
    },
    {
     "name": "stdout",
     "output_type": "stream",
     "text": [
      "**************************************************\n",
      "Generating the accuracy by the number of a_p's dataframe for range [13000, 15800]..\n",
      "There are 12140 curves within the conductor range [13000, 15800].\n"
     ]
    },
    {
     "name": "stderr",
     "output_type": "stream",
     "text": [
      "/Users/angelicababei/ml_rnt/notebooks/utils.py:112: FutureWarning: The behavior of DataFrame concatenation with empty or all-NA entries is deprecated. In a future version, this will no longer exclude empty or all-NA columns when determining the result dtypes. To retain the old behavior, exclude the relevant entries before the concat operation.\n",
      "  res_df = pd.concat([res_df, pd.DataFrame({'num_a_p': i, 'performance': res}, index = [0])], ignore_index = True)\n"
     ]
    },
    {
     "name": "stdout",
     "output_type": "stream",
     "text": [
      "Conductor with exponent 120 needs the following number of ap values: {0.95: 203.33333333333334, 0.9: 100.0, 0.85: 76.66666666666667, 0.8: 53.333333333333336, 0.75: 40.0, 0.7: 33.333333333333336, 0.65: 30.0, 0.6: 20.0, 0.55: 20.0, 0.5: 20.0, 0.45: 16.666666666666668, 0.4: 10.0, 0.35: 10.0, 0.3: 10.0, 0.25: 10.0}\n",
      "**************************************************\n",
      "Generating the accuracy by the number of a_p's dataframe for range [18200, 21000]..\n",
      "There are 12357 curves within the conductor range [18200, 21000].\n"
     ]
    },
    {
     "name": "stderr",
     "output_type": "stream",
     "text": [
      "/Users/angelicababei/ml_rnt/notebooks/utils.py:112: FutureWarning: The behavior of DataFrame concatenation with empty or all-NA entries is deprecated. In a future version, this will no longer exclude empty or all-NA columns when determining the result dtypes. To retain the old behavior, exclude the relevant entries before the concat operation.\n",
      "  res_df = pd.concat([res_df, pd.DataFrame({'num_a_p': i, 'performance': res}, index = [0])], ignore_index = True)\n"
     ]
    },
    {
     "name": "stdout",
     "output_type": "stream",
     "text": [
      "**************************************************\n",
      "Generating the accuracy by the number of a_p's dataframe for range [18200, 21000]..\n",
      "There are 12357 curves within the conductor range [18200, 21000].\n"
     ]
    },
    {
     "name": "stderr",
     "output_type": "stream",
     "text": [
      "/Users/angelicababei/ml_rnt/notebooks/utils.py:112: FutureWarning: The behavior of DataFrame concatenation with empty or all-NA entries is deprecated. In a future version, this will no longer exclude empty or all-NA columns when determining the result dtypes. To retain the old behavior, exclude the relevant entries before the concat operation.\n",
      "  res_df = pd.concat([res_df, pd.DataFrame({'num_a_p': i, 'performance': res}, index = [0])], ignore_index = True)\n"
     ]
    },
    {
     "name": "stdout",
     "output_type": "stream",
     "text": [
      "**************************************************\n",
      "Generating the accuracy by the number of a_p's dataframe for range [18200, 21000]..\n",
      "There are 12357 curves within the conductor range [18200, 21000].\n"
     ]
    },
    {
     "name": "stderr",
     "output_type": "stream",
     "text": [
      "/Users/angelicababei/ml_rnt/notebooks/utils.py:112: FutureWarning: The behavior of DataFrame concatenation with empty or all-NA entries is deprecated. In a future version, this will no longer exclude empty or all-NA columns when determining the result dtypes. To retain the old behavior, exclude the relevant entries before the concat operation.\n",
      "  res_df = pd.concat([res_df, pd.DataFrame({'num_a_p': i, 'performance': res}, index = [0])], ignore_index = True)\n"
     ]
    },
    {
     "name": "stdout",
     "output_type": "stream",
     "text": [
      "Conductor with exponent 140 needs the following number of ap values: {0.9: 140.0, 0.85: 93.33333333333333, 0.8: 76.66666666666667, 0.75: 50.0, 0.7: 36.666666666666664, 0.65: 30.0, 0.6: 23.333333333333332, 0.55: 20.0, 0.5: 20.0, 0.45: 20.0, 0.4: 13.333333333333334, 0.35: 10.0, 0.3: 10.0, 0.25: 10.0}\n",
      "**************************************************\n",
      "Generating the accuracy by the number of a_p's dataframe for range [24200, 27000]..\n",
      "There are 12238 curves within the conductor range [24200, 27000].\n"
     ]
    },
    {
     "name": "stderr",
     "output_type": "stream",
     "text": [
      "/Users/angelicababei/ml_rnt/notebooks/utils.py:112: FutureWarning: The behavior of DataFrame concatenation with empty or all-NA entries is deprecated. In a future version, this will no longer exclude empty or all-NA columns when determining the result dtypes. To retain the old behavior, exclude the relevant entries before the concat operation.\n",
      "  res_df = pd.concat([res_df, pd.DataFrame({'num_a_p': i, 'performance': res}, index = [0])], ignore_index = True)\n"
     ]
    },
    {
     "name": "stdout",
     "output_type": "stream",
     "text": [
      "**************************************************\n",
      "Generating the accuracy by the number of a_p's dataframe for range [24200, 27000]..\n",
      "There are 12238 curves within the conductor range [24200, 27000].\n"
     ]
    },
    {
     "name": "stderr",
     "output_type": "stream",
     "text": [
      "/Users/angelicababei/ml_rnt/notebooks/utils.py:112: FutureWarning: The behavior of DataFrame concatenation with empty or all-NA entries is deprecated. In a future version, this will no longer exclude empty or all-NA columns when determining the result dtypes. To retain the old behavior, exclude the relevant entries before the concat operation.\n",
      "  res_df = pd.concat([res_df, pd.DataFrame({'num_a_p': i, 'performance': res}, index = [0])], ignore_index = True)\n"
     ]
    },
    {
     "name": "stdout",
     "output_type": "stream",
     "text": [
      "**************************************************\n",
      "Generating the accuracy by the number of a_p's dataframe for range [24200, 27000]..\n",
      "There are 12238 curves within the conductor range [24200, 27000].\n"
     ]
    },
    {
     "name": "stderr",
     "output_type": "stream",
     "text": [
      "/Users/angelicababei/ml_rnt/notebooks/utils.py:112: FutureWarning: The behavior of DataFrame concatenation with empty or all-NA entries is deprecated. In a future version, this will no longer exclude empty or all-NA columns when determining the result dtypes. To retain the old behavior, exclude the relevant entries before the concat operation.\n",
      "  res_df = pd.concat([res_df, pd.DataFrame({'num_a_p': i, 'performance': res}, index = [0])], ignore_index = True)\n"
     ]
    },
    {
     "name": "stdout",
     "output_type": "stream",
     "text": [
      "Conductor with exponent 160 needs the following number of ap values: {0.9: 206.66666666666666, 0.85: 133.33333333333334, 0.8: 96.66666666666667, 0.75: 66.66666666666667, 0.7: 50.0, 0.65: 40.0, 0.6: 30.0, 0.55: 20.0, 0.5: 20.0, 0.45: 20.0, 0.4: 20.0, 0.35: 16.666666666666668, 0.3: 10.0, 0.25: 10.0}\n",
      "**************************************************\n",
      "Generating the accuracy by the number of a_p's dataframe for range [31000, 33800]..\n",
      "There are 12434 curves within the conductor range [31000, 33800].\n"
     ]
    },
    {
     "name": "stderr",
     "output_type": "stream",
     "text": [
      "/Users/angelicababei/ml_rnt/notebooks/utils.py:112: FutureWarning: The behavior of DataFrame concatenation with empty or all-NA entries is deprecated. In a future version, this will no longer exclude empty or all-NA columns when determining the result dtypes. To retain the old behavior, exclude the relevant entries before the concat operation.\n",
      "  res_df = pd.concat([res_df, pd.DataFrame({'num_a_p': i, 'performance': res}, index = [0])], ignore_index = True)\n"
     ]
    },
    {
     "name": "stdout",
     "output_type": "stream",
     "text": [
      "**************************************************\n",
      "Generating the accuracy by the number of a_p's dataframe for range [31000, 33800]..\n",
      "There are 12434 curves within the conductor range [31000, 33800].\n"
     ]
    },
    {
     "name": "stderr",
     "output_type": "stream",
     "text": [
      "/Users/angelicababei/ml_rnt/notebooks/utils.py:112: FutureWarning: The behavior of DataFrame concatenation with empty or all-NA entries is deprecated. In a future version, this will no longer exclude empty or all-NA columns when determining the result dtypes. To retain the old behavior, exclude the relevant entries before the concat operation.\n",
      "  res_df = pd.concat([res_df, pd.DataFrame({'num_a_p': i, 'performance': res}, index = [0])], ignore_index = True)\n"
     ]
    },
    {
     "name": "stdout",
     "output_type": "stream",
     "text": [
      "**************************************************\n",
      "Generating the accuracy by the number of a_p's dataframe for range [31000, 33800]..\n",
      "There are 12434 curves within the conductor range [31000, 33800].\n"
     ]
    },
    {
     "name": "stderr",
     "output_type": "stream",
     "text": [
      "/Users/angelicababei/ml_rnt/notebooks/utils.py:112: FutureWarning: The behavior of DataFrame concatenation with empty or all-NA entries is deprecated. In a future version, this will no longer exclude empty or all-NA columns when determining the result dtypes. To retain the old behavior, exclude the relevant entries before the concat operation.\n",
      "  res_df = pd.concat([res_df, pd.DataFrame({'num_a_p': i, 'performance': res}, index = [0])], ignore_index = True)\n"
     ]
    },
    {
     "name": "stdout",
     "output_type": "stream",
     "text": [
      "Conductor with exponent 180 needs the following number of ap values: {0.9: 256.6666666666667, 0.85: 170.0, 0.8: 116.66666666666667, 0.75: 83.33333333333333, 0.7: 60.0, 0.65: 40.0, 0.6: 30.0, 0.55: 20.0, 0.5: 20.0, 0.45: 20.0, 0.4: 20.0, 0.35: 20.0, 0.3: 10.0, 0.25: 10.0}\n",
      "**************************************************\n",
      "Generating the accuracy by the number of a_p's dataframe for range [38600, 41400]..\n",
      "There are 12757 curves within the conductor range [38600, 41400].\n"
     ]
    },
    {
     "name": "stderr",
     "output_type": "stream",
     "text": [
      "/Users/angelicababei/ml_rnt/notebooks/utils.py:112: FutureWarning: The behavior of DataFrame concatenation with empty or all-NA entries is deprecated. In a future version, this will no longer exclude empty or all-NA columns when determining the result dtypes. To retain the old behavior, exclude the relevant entries before the concat operation.\n",
      "  res_df = pd.concat([res_df, pd.DataFrame({'num_a_p': i, 'performance': res}, index = [0])], ignore_index = True)\n"
     ]
    },
    {
     "name": "stdout",
     "output_type": "stream",
     "text": [
      "**************************************************\n",
      "Generating the accuracy by the number of a_p's dataframe for range [38600, 41400]..\n",
      "There are 12757 curves within the conductor range [38600, 41400].\n"
     ]
    },
    {
     "name": "stderr",
     "output_type": "stream",
     "text": [
      "/Users/angelicababei/ml_rnt/notebooks/utils.py:112: FutureWarning: The behavior of DataFrame concatenation with empty or all-NA entries is deprecated. In a future version, this will no longer exclude empty or all-NA columns when determining the result dtypes. To retain the old behavior, exclude the relevant entries before the concat operation.\n",
      "  res_df = pd.concat([res_df, pd.DataFrame({'num_a_p': i, 'performance': res}, index = [0])], ignore_index = True)\n"
     ]
    },
    {
     "name": "stdout",
     "output_type": "stream",
     "text": [
      "**************************************************\n",
      "Generating the accuracy by the number of a_p's dataframe for range [38600, 41400]..\n",
      "There are 12757 curves within the conductor range [38600, 41400].\n"
     ]
    },
    {
     "name": "stderr",
     "output_type": "stream",
     "text": [
      "/Users/angelicababei/ml_rnt/notebooks/utils.py:112: FutureWarning: The behavior of DataFrame concatenation with empty or all-NA entries is deprecated. In a future version, this will no longer exclude empty or all-NA columns when determining the result dtypes. To retain the old behavior, exclude the relevant entries before the concat operation.\n",
      "  res_df = pd.concat([res_df, pd.DataFrame({'num_a_p': i, 'performance': res}, index = [0])], ignore_index = True)\n"
     ]
    },
    {
     "name": "stdout",
     "output_type": "stream",
     "text": [
      "Conductor with exponent 200 needs the following number of ap values: {0.9: 286.6666666666667, 0.85: 183.33333333333334, 0.8: 126.66666666666667, 0.75: 90.0, 0.7: 60.0, 0.65: 40.0, 0.6: 30.0, 0.55: 26.666666666666668, 0.5: 20.0, 0.45: 20.0, 0.4: 20.0, 0.35: 20.0, 0.3: 16.666666666666668, 0.25: 10.0}\n",
      "**************************************************\n",
      "Generating the accuracy by the number of a_p's dataframe for range [47000, 49800]..\n",
      "There are 12404 curves within the conductor range [47000, 49800].\n"
     ]
    },
    {
     "name": "stderr",
     "output_type": "stream",
     "text": [
      "/Users/angelicababei/ml_rnt/notebooks/utils.py:112: FutureWarning: The behavior of DataFrame concatenation with empty or all-NA entries is deprecated. In a future version, this will no longer exclude empty or all-NA columns when determining the result dtypes. To retain the old behavior, exclude the relevant entries before the concat operation.\n",
      "  res_df = pd.concat([res_df, pd.DataFrame({'num_a_p': i, 'performance': res}, index = [0])], ignore_index = True)\n"
     ]
    },
    {
     "name": "stdout",
     "output_type": "stream",
     "text": [
      "**************************************************\n",
      "Generating the accuracy by the number of a_p's dataframe for range [47000, 49800]..\n",
      "There are 12404 curves within the conductor range [47000, 49800].\n"
     ]
    },
    {
     "name": "stderr",
     "output_type": "stream",
     "text": [
      "/Users/angelicababei/ml_rnt/notebooks/utils.py:112: FutureWarning: The behavior of DataFrame concatenation with empty or all-NA entries is deprecated. In a future version, this will no longer exclude empty or all-NA columns when determining the result dtypes. To retain the old behavior, exclude the relevant entries before the concat operation.\n",
      "  res_df = pd.concat([res_df, pd.DataFrame({'num_a_p': i, 'performance': res}, index = [0])], ignore_index = True)\n"
     ]
    },
    {
     "name": "stdout",
     "output_type": "stream",
     "text": [
      "**************************************************\n",
      "Generating the accuracy by the number of a_p's dataframe for range [47000, 49800]..\n",
      "There are 12404 curves within the conductor range [47000, 49800].\n"
     ]
    },
    {
     "name": "stderr",
     "output_type": "stream",
     "text": [
      "/Users/angelicababei/ml_rnt/notebooks/utils.py:112: FutureWarning: The behavior of DataFrame concatenation with empty or all-NA entries is deprecated. In a future version, this will no longer exclude empty or all-NA columns when determining the result dtypes. To retain the old behavior, exclude the relevant entries before the concat operation.\n",
      "  res_df = pd.concat([res_df, pd.DataFrame({'num_a_p': i, 'performance': res}, index = [0])], ignore_index = True)\n"
     ]
    },
    {
     "name": "stdout",
     "output_type": "stream",
     "text": [
      "Conductor with exponent 220 needs the following number of ap values: {0.9: 353.3333333333333, 0.85: 206.66666666666666, 0.8: 143.33333333333334, 0.75: 86.66666666666667, 0.7: 70.0, 0.65: 46.666666666666664, 0.6: 33.333333333333336, 0.55: 30.0, 0.5: 20.0, 0.45: 20.0, 0.4: 20.0, 0.35: 20.0, 0.3: 20.0, 0.25: 10.0}\n",
      "**************************************************\n",
      "Generating the accuracy by the number of a_p's dataframe for range [56200, 59000]..\n",
      "There are 12392 curves within the conductor range [56200, 59000].\n"
     ]
    },
    {
     "name": "stderr",
     "output_type": "stream",
     "text": [
      "/Users/angelicababei/ml_rnt/notebooks/utils.py:112: FutureWarning: The behavior of DataFrame concatenation with empty or all-NA entries is deprecated. In a future version, this will no longer exclude empty or all-NA columns when determining the result dtypes. To retain the old behavior, exclude the relevant entries before the concat operation.\n",
      "  res_df = pd.concat([res_df, pd.DataFrame({'num_a_p': i, 'performance': res}, index = [0])], ignore_index = True)\n"
     ]
    },
    {
     "name": "stdout",
     "output_type": "stream",
     "text": [
      "**************************************************\n",
      "Generating the accuracy by the number of a_p's dataframe for range [56200, 59000]..\n",
      "There are 12392 curves within the conductor range [56200, 59000].\n"
     ]
    },
    {
     "name": "stderr",
     "output_type": "stream",
     "text": [
      "/Users/angelicababei/ml_rnt/notebooks/utils.py:112: FutureWarning: The behavior of DataFrame concatenation with empty or all-NA entries is deprecated. In a future version, this will no longer exclude empty or all-NA columns when determining the result dtypes. To retain the old behavior, exclude the relevant entries before the concat operation.\n",
      "  res_df = pd.concat([res_df, pd.DataFrame({'num_a_p': i, 'performance': res}, index = [0])], ignore_index = True)\n"
     ]
    },
    {
     "name": "stdout",
     "output_type": "stream",
     "text": [
      "**************************************************\n",
      "Generating the accuracy by the number of a_p's dataframe for range [56200, 59000]..\n",
      "There are 12392 curves within the conductor range [56200, 59000].\n"
     ]
    },
    {
     "name": "stderr",
     "output_type": "stream",
     "text": [
      "/Users/angelicababei/ml_rnt/notebooks/utils.py:112: FutureWarning: The behavior of DataFrame concatenation with empty or all-NA entries is deprecated. In a future version, this will no longer exclude empty or all-NA columns when determining the result dtypes. To retain the old behavior, exclude the relevant entries before the concat operation.\n",
      "  res_df = pd.concat([res_df, pd.DataFrame({'num_a_p': i, 'performance': res}, index = [0])], ignore_index = True)\n"
     ]
    },
    {
     "name": "stdout",
     "output_type": "stream",
     "text": [
      "Conductor with exponent 240 needs the following number of ap values: {0.9: 403.3333333333333, 0.85: 230.0, 0.8: 153.33333333333334, 0.75: 110.0, 0.7: 73.33333333333333, 0.65: 50.0, 0.6: 40.0, 0.55: 30.0, 0.5: 26.666666666666668, 0.45: 20.0, 0.4: 20.0, 0.35: 20.0, 0.3: 20.0, 0.25: 10.0}\n",
      "**************************************************\n",
      "Generating the accuracy by the number of a_p's dataframe for range [66200, 69000]..\n",
      "There are 12398 curves within the conductor range [66200, 69000].\n"
     ]
    },
    {
     "name": "stderr",
     "output_type": "stream",
     "text": [
      "/Users/angelicababei/ml_rnt/notebooks/utils.py:112: FutureWarning: The behavior of DataFrame concatenation with empty or all-NA entries is deprecated. In a future version, this will no longer exclude empty or all-NA columns when determining the result dtypes. To retain the old behavior, exclude the relevant entries before the concat operation.\n",
      "  res_df = pd.concat([res_df, pd.DataFrame({'num_a_p': i, 'performance': res}, index = [0])], ignore_index = True)\n"
     ]
    },
    {
     "name": "stdout",
     "output_type": "stream",
     "text": [
      "**************************************************\n",
      "Generating the accuracy by the number of a_p's dataframe for range [66200, 69000]..\n",
      "There are 12398 curves within the conductor range [66200, 69000].\n"
     ]
    },
    {
     "name": "stderr",
     "output_type": "stream",
     "text": [
      "/Users/angelicababei/ml_rnt/notebooks/utils.py:112: FutureWarning: The behavior of DataFrame concatenation with empty or all-NA entries is deprecated. In a future version, this will no longer exclude empty or all-NA columns when determining the result dtypes. To retain the old behavior, exclude the relevant entries before the concat operation.\n",
      "  res_df = pd.concat([res_df, pd.DataFrame({'num_a_p': i, 'performance': res}, index = [0])], ignore_index = True)\n"
     ]
    },
    {
     "name": "stdout",
     "output_type": "stream",
     "text": [
      "**************************************************\n",
      "Generating the accuracy by the number of a_p's dataframe for range [66200, 69000]..\n",
      "There are 12398 curves within the conductor range [66200, 69000].\n"
     ]
    },
    {
     "name": "stderr",
     "output_type": "stream",
     "text": [
      "/Users/angelicababei/ml_rnt/notebooks/utils.py:112: FutureWarning: The behavior of DataFrame concatenation with empty or all-NA entries is deprecated. In a future version, this will no longer exclude empty or all-NA columns when determining the result dtypes. To retain the old behavior, exclude the relevant entries before the concat operation.\n",
      "  res_df = pd.concat([res_df, pd.DataFrame({'num_a_p': i, 'performance': res}, index = [0])], ignore_index = True)\n"
     ]
    },
    {
     "name": "stdout",
     "output_type": "stream",
     "text": [
      "Conductor with exponent 260 needs the following number of ap values: {0.9: 540.0, 0.85: 270.0, 0.8: 193.33333333333334, 0.75: 130.0, 0.7: 83.33333333333333, 0.65: 60.0, 0.6: 43.333333333333336, 0.55: 30.0, 0.5: 30.0, 0.45: 20.0, 0.4: 20.0, 0.35: 20.0, 0.3: 20.0, 0.25: 20.0}\n",
      "**************************************************\n",
      "Generating the accuracy by the number of a_p's dataframe for range [77000, 79800]..\n",
      "There are 12361 curves within the conductor range [77000, 79800].\n"
     ]
    },
    {
     "name": "stderr",
     "output_type": "stream",
     "text": [
      "/Users/angelicababei/ml_rnt/notebooks/utils.py:112: FutureWarning: The behavior of DataFrame concatenation with empty or all-NA entries is deprecated. In a future version, this will no longer exclude empty or all-NA columns when determining the result dtypes. To retain the old behavior, exclude the relevant entries before the concat operation.\n",
      "  res_df = pd.concat([res_df, pd.DataFrame({'num_a_p': i, 'performance': res}, index = [0])], ignore_index = True)\n"
     ]
    },
    {
     "name": "stdout",
     "output_type": "stream",
     "text": [
      "**************************************************\n",
      "Generating the accuracy by the number of a_p's dataframe for range [77000, 79800]..\n",
      "There are 12361 curves within the conductor range [77000, 79800].\n"
     ]
    },
    {
     "name": "stderr",
     "output_type": "stream",
     "text": [
      "/Users/angelicababei/ml_rnt/notebooks/utils.py:112: FutureWarning: The behavior of DataFrame concatenation with empty or all-NA entries is deprecated. In a future version, this will no longer exclude empty or all-NA columns when determining the result dtypes. To retain the old behavior, exclude the relevant entries before the concat operation.\n",
      "  res_df = pd.concat([res_df, pd.DataFrame({'num_a_p': i, 'performance': res}, index = [0])], ignore_index = True)\n"
     ]
    },
    {
     "name": "stdout",
     "output_type": "stream",
     "text": [
      "**************************************************\n",
      "Generating the accuracy by the number of a_p's dataframe for range [77000, 79800]..\n",
      "There are 12361 curves within the conductor range [77000, 79800].\n"
     ]
    },
    {
     "name": "stderr",
     "output_type": "stream",
     "text": [
      "/Users/angelicababei/ml_rnt/notebooks/utils.py:112: FutureWarning: The behavior of DataFrame concatenation with empty or all-NA entries is deprecated. In a future version, this will no longer exclude empty or all-NA columns when determining the result dtypes. To retain the old behavior, exclude the relevant entries before the concat operation.\n",
      "  res_df = pd.concat([res_df, pd.DataFrame({'num_a_p': i, 'performance': res}, index = [0])], ignore_index = True)\n"
     ]
    },
    {
     "name": "stdout",
     "output_type": "stream",
     "text": [
      "Conductor with exponent 280 needs the following number of ap values: {0.9: 665.0, 0.85: 346.6666666666667, 0.8: 220.0, 0.75: 130.0, 0.7: 96.66666666666667, 0.65: 63.333333333333336, 0.6: 40.0, 0.55: 30.0, 0.5: 30.0, 0.45: 20.0, 0.4: 20.0, 0.35: 20.0, 0.3: 20.0, 0.25: 16.666666666666668}\n",
      "**************************************************\n",
      "Generating the accuracy by the number of a_p's dataframe for range [88600, 91400]..\n",
      "There are 12713 curves within the conductor range [88600, 91400].\n"
     ]
    },
    {
     "name": "stderr",
     "output_type": "stream",
     "text": [
      "/Users/angelicababei/ml_rnt/notebooks/utils.py:112: FutureWarning: The behavior of DataFrame concatenation with empty or all-NA entries is deprecated. In a future version, this will no longer exclude empty or all-NA columns when determining the result dtypes. To retain the old behavior, exclude the relevant entries before the concat operation.\n",
      "  res_df = pd.concat([res_df, pd.DataFrame({'num_a_p': i, 'performance': res}, index = [0])], ignore_index = True)\n"
     ]
    },
    {
     "name": "stdout",
     "output_type": "stream",
     "text": [
      "**************************************************\n",
      "Generating the accuracy by the number of a_p's dataframe for range [88600, 91400]..\n",
      "There are 12713 curves within the conductor range [88600, 91400].\n"
     ]
    },
    {
     "name": "stderr",
     "output_type": "stream",
     "text": [
      "/Users/angelicababei/ml_rnt/notebooks/utils.py:112: FutureWarning: The behavior of DataFrame concatenation with empty or all-NA entries is deprecated. In a future version, this will no longer exclude empty or all-NA columns when determining the result dtypes. To retain the old behavior, exclude the relevant entries before the concat operation.\n",
      "  res_df = pd.concat([res_df, pd.DataFrame({'num_a_p': i, 'performance': res}, index = [0])], ignore_index = True)\n"
     ]
    },
    {
     "name": "stdout",
     "output_type": "stream",
     "text": [
      "**************************************************\n",
      "Generating the accuracy by the number of a_p's dataframe for range [88600, 91400]..\n",
      "There are 12713 curves within the conductor range [88600, 91400].\n"
     ]
    },
    {
     "name": "stderr",
     "output_type": "stream",
     "text": [
      "/Users/angelicababei/ml_rnt/notebooks/utils.py:112: FutureWarning: The behavior of DataFrame concatenation with empty or all-NA entries is deprecated. In a future version, this will no longer exclude empty or all-NA columns when determining the result dtypes. To retain the old behavior, exclude the relevant entries before the concat operation.\n",
      "  res_df = pd.concat([res_df, pd.DataFrame({'num_a_p': i, 'performance': res}, index = [0])], ignore_index = True)\n"
     ]
    },
    {
     "name": "stdout",
     "output_type": "stream",
     "text": [
      "Conductor with exponent 300 needs the following number of ap values: {0.85: 340.0, 0.8: 213.33333333333334, 0.75: 140.0, 0.7: 93.33333333333333, 0.65: 66.66666666666667, 0.6: 46.666666666666664, 0.55: 30.0, 0.5: 30.0, 0.45: 26.666666666666668, 0.4: 20.0, 0.35: 20.0, 0.3: 20.0, 0.25: 20.0}\n",
      "**************************************************\n",
      "Generating the accuracy by the number of a_p's dataframe for range [101000, 103800]..\n",
      "There are 12235 curves within the conductor range [101000, 103800].\n"
     ]
    },
    {
     "name": "stderr",
     "output_type": "stream",
     "text": [
      "/Users/angelicababei/ml_rnt/notebooks/utils.py:112: FutureWarning: The behavior of DataFrame concatenation with empty or all-NA entries is deprecated. In a future version, this will no longer exclude empty or all-NA columns when determining the result dtypes. To retain the old behavior, exclude the relevant entries before the concat operation.\n",
      "  res_df = pd.concat([res_df, pd.DataFrame({'num_a_p': i, 'performance': res}, index = [0])], ignore_index = True)\n"
     ]
    },
    {
     "name": "stdout",
     "output_type": "stream",
     "text": [
      "**************************************************\n",
      "Generating the accuracy by the number of a_p's dataframe for range [101000, 103800]..\n",
      "There are 12235 curves within the conductor range [101000, 103800].\n"
     ]
    },
    {
     "name": "stderr",
     "output_type": "stream",
     "text": [
      "/Users/angelicababei/ml_rnt/notebooks/utils.py:112: FutureWarning: The behavior of DataFrame concatenation with empty or all-NA entries is deprecated. In a future version, this will no longer exclude empty or all-NA columns when determining the result dtypes. To retain the old behavior, exclude the relevant entries before the concat operation.\n",
      "  res_df = pd.concat([res_df, pd.DataFrame({'num_a_p': i, 'performance': res}, index = [0])], ignore_index = True)\n"
     ]
    },
    {
     "name": "stdout",
     "output_type": "stream",
     "text": [
      "**************************************************\n",
      "Generating the accuracy by the number of a_p's dataframe for range [101000, 103800]..\n",
      "There are 12235 curves within the conductor range [101000, 103800].\n"
     ]
    },
    {
     "name": "stderr",
     "output_type": "stream",
     "text": [
      "/Users/angelicababei/ml_rnt/notebooks/utils.py:112: FutureWarning: The behavior of DataFrame concatenation with empty or all-NA entries is deprecated. In a future version, this will no longer exclude empty or all-NA columns when determining the result dtypes. To retain the old behavior, exclude the relevant entries before the concat operation.\n",
      "  res_df = pd.concat([res_df, pd.DataFrame({'num_a_p': i, 'performance': res}, index = [0])], ignore_index = True)\n"
     ]
    },
    {
     "name": "stdout",
     "output_type": "stream",
     "text": [
      "Conductor with exponent 320 needs the following number of ap values: {0.85: 493.3333333333333, 0.8: 283.3333333333333, 0.75: 193.33333333333334, 0.7: 126.66666666666667, 0.65: 80.0, 0.6: 50.0, 0.55: 40.0, 0.5: 30.0, 0.45: 30.0, 0.4: 20.0, 0.35: 20.0, 0.3: 20.0, 0.25: 20.0}\n",
      "**************************************************\n",
      "Generating the accuracy by the number of a_p's dataframe for range [114200, 117000]..\n",
      "There are 12480 curves within the conductor range [114200, 117000].\n"
     ]
    },
    {
     "name": "stderr",
     "output_type": "stream",
     "text": [
      "/Users/angelicababei/ml_rnt/notebooks/utils.py:112: FutureWarning: The behavior of DataFrame concatenation with empty or all-NA entries is deprecated. In a future version, this will no longer exclude empty or all-NA columns when determining the result dtypes. To retain the old behavior, exclude the relevant entries before the concat operation.\n",
      "  res_df = pd.concat([res_df, pd.DataFrame({'num_a_p': i, 'performance': res}, index = [0])], ignore_index = True)\n"
     ]
    },
    {
     "name": "stdout",
     "output_type": "stream",
     "text": [
      "**************************************************\n",
      "Generating the accuracy by the number of a_p's dataframe for range [114200, 117000]..\n",
      "There are 12480 curves within the conductor range [114200, 117000].\n"
     ]
    },
    {
     "name": "stderr",
     "output_type": "stream",
     "text": [
      "/Users/angelicababei/ml_rnt/notebooks/utils.py:112: FutureWarning: The behavior of DataFrame concatenation with empty or all-NA entries is deprecated. In a future version, this will no longer exclude empty or all-NA columns when determining the result dtypes. To retain the old behavior, exclude the relevant entries before the concat operation.\n",
      "  res_df = pd.concat([res_df, pd.DataFrame({'num_a_p': i, 'performance': res}, index = [0])], ignore_index = True)\n"
     ]
    },
    {
     "name": "stdout",
     "output_type": "stream",
     "text": [
      "**************************************************\n",
      "Generating the accuracy by the number of a_p's dataframe for range [114200, 117000]..\n",
      "There are 12480 curves within the conductor range [114200, 117000].\n"
     ]
    },
    {
     "name": "stderr",
     "output_type": "stream",
     "text": [
      "/Users/angelicababei/ml_rnt/notebooks/utils.py:112: FutureWarning: The behavior of DataFrame concatenation with empty or all-NA entries is deprecated. In a future version, this will no longer exclude empty or all-NA columns when determining the result dtypes. To retain the old behavior, exclude the relevant entries before the concat operation.\n",
      "  res_df = pd.concat([res_df, pd.DataFrame({'num_a_p': i, 'performance': res}, index = [0])], ignore_index = True)\n"
     ]
    },
    {
     "name": "stdout",
     "output_type": "stream",
     "text": [
      "Conductor with exponent 340 needs the following number of ap values: {0.85: 553.3333333333334, 0.8: 326.6666666666667, 0.75: 173.33333333333334, 0.7: 113.33333333333333, 0.65: 73.33333333333333, 0.6: 50.0, 0.55: 40.0, 0.5: 30.0, 0.45: 30.0, 0.4: 20.0, 0.35: 20.0, 0.3: 20.0, 0.25: 20.0}\n",
      "**************************************************\n",
      "Generating the accuracy by the number of a_p's dataframe for range [128200, 131000]..\n",
      "There are 12136 curves within the conductor range [128200, 131000].\n"
     ]
    },
    {
     "name": "stderr",
     "output_type": "stream",
     "text": [
      "/Users/angelicababei/ml_rnt/notebooks/utils.py:112: FutureWarning: The behavior of DataFrame concatenation with empty or all-NA entries is deprecated. In a future version, this will no longer exclude empty or all-NA columns when determining the result dtypes. To retain the old behavior, exclude the relevant entries before the concat operation.\n",
      "  res_df = pd.concat([res_df, pd.DataFrame({'num_a_p': i, 'performance': res}, index = [0])], ignore_index = True)\n"
     ]
    },
    {
     "name": "stdout",
     "output_type": "stream",
     "text": [
      "**************************************************\n",
      "Generating the accuracy by the number of a_p's dataframe for range [128200, 131000]..\n",
      "There are 12136 curves within the conductor range [128200, 131000].\n"
     ]
    },
    {
     "name": "stderr",
     "output_type": "stream",
     "text": [
      "/Users/angelicababei/ml_rnt/notebooks/utils.py:112: FutureWarning: The behavior of DataFrame concatenation with empty or all-NA entries is deprecated. In a future version, this will no longer exclude empty or all-NA columns when determining the result dtypes. To retain the old behavior, exclude the relevant entries before the concat operation.\n",
      "  res_df = pd.concat([res_df, pd.DataFrame({'num_a_p': i, 'performance': res}, index = [0])], ignore_index = True)\n"
     ]
    },
    {
     "name": "stdout",
     "output_type": "stream",
     "text": [
      "**************************************************\n",
      "Generating the accuracy by the number of a_p's dataframe for range [128200, 131000]..\n",
      "There are 12136 curves within the conductor range [128200, 131000].\n"
     ]
    },
    {
     "name": "stderr",
     "output_type": "stream",
     "text": [
      "/Users/angelicababei/ml_rnt/notebooks/utils.py:112: FutureWarning: The behavior of DataFrame concatenation with empty or all-NA entries is deprecated. In a future version, this will no longer exclude empty or all-NA columns when determining the result dtypes. To retain the old behavior, exclude the relevant entries before the concat operation.\n",
      "  res_df = pd.concat([res_df, pd.DataFrame({'num_a_p': i, 'performance': res}, index = [0])], ignore_index = True)\n"
     ]
    },
    {
     "name": "stdout",
     "output_type": "stream",
     "text": [
      "Conductor with exponent 360 needs the following number of ap values: {0.85: 645.0, 0.8: 360.0, 0.75: 240.0, 0.7: 146.66666666666666, 0.65: 83.33333333333333, 0.6: 60.0, 0.55: 40.0, 0.5: 30.0, 0.45: 30.0, 0.4: 23.333333333333332, 0.35: 20.0, 0.3: 20.0, 0.25: 20.0}\n",
      "**************************************************\n",
      "Generating the accuracy by the number of a_p's dataframe for range [143000, 145800]..\n",
      "There are 12898 curves within the conductor range [143000, 145800].\n"
     ]
    },
    {
     "name": "stderr",
     "output_type": "stream",
     "text": [
      "/Users/angelicababei/ml_rnt/notebooks/utils.py:112: FutureWarning: The behavior of DataFrame concatenation with empty or all-NA entries is deprecated. In a future version, this will no longer exclude empty or all-NA columns when determining the result dtypes. To retain the old behavior, exclude the relevant entries before the concat operation.\n",
      "  res_df = pd.concat([res_df, pd.DataFrame({'num_a_p': i, 'performance': res}, index = [0])], ignore_index = True)\n"
     ]
    },
    {
     "name": "stdout",
     "output_type": "stream",
     "text": [
      "**************************************************\n",
      "Generating the accuracy by the number of a_p's dataframe for range [143000, 145800]..\n",
      "There are 12898 curves within the conductor range [143000, 145800].\n"
     ]
    },
    {
     "name": "stderr",
     "output_type": "stream",
     "text": [
      "/Users/angelicababei/ml_rnt/notebooks/utils.py:112: FutureWarning: The behavior of DataFrame concatenation with empty or all-NA entries is deprecated. In a future version, this will no longer exclude empty or all-NA columns when determining the result dtypes. To retain the old behavior, exclude the relevant entries before the concat operation.\n",
      "  res_df = pd.concat([res_df, pd.DataFrame({'num_a_p': i, 'performance': res}, index = [0])], ignore_index = True)\n"
     ]
    },
    {
     "name": "stdout",
     "output_type": "stream",
     "text": [
      "**************************************************\n",
      "Generating the accuracy by the number of a_p's dataframe for range [143000, 145800]..\n",
      "There are 12898 curves within the conductor range [143000, 145800].\n"
     ]
    },
    {
     "name": "stderr",
     "output_type": "stream",
     "text": [
      "/Users/angelicababei/ml_rnt/notebooks/utils.py:112: FutureWarning: The behavior of DataFrame concatenation with empty or all-NA entries is deprecated. In a future version, this will no longer exclude empty or all-NA columns when determining the result dtypes. To retain the old behavior, exclude the relevant entries before the concat operation.\n",
      "  res_df = pd.concat([res_df, pd.DataFrame({'num_a_p': i, 'performance': res}, index = [0])], ignore_index = True)\n"
     ]
    },
    {
     "name": "stdout",
     "output_type": "stream",
     "text": [
      "Conductor with exponent 380 needs the following number of ap values: {0.85: 663.3333333333334, 0.8: 396.6666666666667, 0.75: 266.6666666666667, 0.7: 160.0, 0.65: 93.33333333333333, 0.6: 60.0, 0.55: 40.0, 0.5: 33.333333333333336, 0.45: 30.0, 0.4: 30.0, 0.35: 20.0, 0.3: 20.0, 0.25: 20.0}\n",
      "**************************************************\n",
      "Generating the accuracy by the number of a_p's dataframe for range [158600, 161400]..\n",
      "There are 12281 curves within the conductor range [158600, 161400].\n"
     ]
    },
    {
     "name": "stderr",
     "output_type": "stream",
     "text": [
      "/Users/angelicababei/ml_rnt/notebooks/utils.py:112: FutureWarning: The behavior of DataFrame concatenation with empty or all-NA entries is deprecated. In a future version, this will no longer exclude empty or all-NA columns when determining the result dtypes. To retain the old behavior, exclude the relevant entries before the concat operation.\n",
      "  res_df = pd.concat([res_df, pd.DataFrame({'num_a_p': i, 'performance': res}, index = [0])], ignore_index = True)\n"
     ]
    },
    {
     "name": "stdout",
     "output_type": "stream",
     "text": [
      "**************************************************\n",
      "Generating the accuracy by the number of a_p's dataframe for range [158600, 161400]..\n",
      "There are 12281 curves within the conductor range [158600, 161400].\n"
     ]
    },
    {
     "name": "stderr",
     "output_type": "stream",
     "text": [
      "/Users/angelicababei/ml_rnt/notebooks/utils.py:112: FutureWarning: The behavior of DataFrame concatenation with empty or all-NA entries is deprecated. In a future version, this will no longer exclude empty or all-NA columns when determining the result dtypes. To retain the old behavior, exclude the relevant entries before the concat operation.\n",
      "  res_df = pd.concat([res_df, pd.DataFrame({'num_a_p': i, 'performance': res}, index = [0])], ignore_index = True)\n"
     ]
    },
    {
     "name": "stdout",
     "output_type": "stream",
     "text": [
      "**************************************************\n",
      "Generating the accuracy by the number of a_p's dataframe for range [158600, 161400]..\n",
      "There are 12281 curves within the conductor range [158600, 161400].\n"
     ]
    },
    {
     "name": "stderr",
     "output_type": "stream",
     "text": [
      "/Users/angelicababei/ml_rnt/notebooks/utils.py:112: FutureWarning: The behavior of DataFrame concatenation with empty or all-NA entries is deprecated. In a future version, this will no longer exclude empty or all-NA columns when determining the result dtypes. To retain the old behavior, exclude the relevant entries before the concat operation.\n",
      "  res_df = pd.concat([res_df, pd.DataFrame({'num_a_p': i, 'performance': res}, index = [0])], ignore_index = True)\n"
     ]
    },
    {
     "name": "stdout",
     "output_type": "stream",
     "text": [
      "Conductor with exponent 400 needs the following number of ap values: {0.8: 430.0, 0.75: 293.3333333333333, 0.7: 150.0, 0.65: 100.0, 0.6: 73.33333333333333, 0.55: 43.333333333333336, 0.5: 40.0, 0.45: 30.0, 0.4: 30.0, 0.35: 23.333333333333332, 0.3: 20.0, 0.25: 20.0, 0.85: 670.0}\n",
      "**************************************************\n",
      "Generating the accuracy by the number of a_p's dataframe for range [175000, 177800]..\n",
      "There are 12398 curves within the conductor range [175000, 177800].\n"
     ]
    },
    {
     "name": "stderr",
     "output_type": "stream",
     "text": [
      "/Users/angelicababei/ml_rnt/notebooks/utils.py:112: FutureWarning: The behavior of DataFrame concatenation with empty or all-NA entries is deprecated. In a future version, this will no longer exclude empty or all-NA columns when determining the result dtypes. To retain the old behavior, exclude the relevant entries before the concat operation.\n",
      "  res_df = pd.concat([res_df, pd.DataFrame({'num_a_p': i, 'performance': res}, index = [0])], ignore_index = True)\n"
     ]
    },
    {
     "name": "stdout",
     "output_type": "stream",
     "text": [
      "**************************************************\n",
      "Generating the accuracy by the number of a_p's dataframe for range [175000, 177800]..\n",
      "There are 12398 curves within the conductor range [175000, 177800].\n"
     ]
    },
    {
     "name": "stderr",
     "output_type": "stream",
     "text": [
      "/Users/angelicababei/ml_rnt/notebooks/utils.py:112: FutureWarning: The behavior of DataFrame concatenation with empty or all-NA entries is deprecated. In a future version, this will no longer exclude empty or all-NA columns when determining the result dtypes. To retain the old behavior, exclude the relevant entries before the concat operation.\n",
      "  res_df = pd.concat([res_df, pd.DataFrame({'num_a_p': i, 'performance': res}, index = [0])], ignore_index = True)\n"
     ]
    },
    {
     "name": "stdout",
     "output_type": "stream",
     "text": [
      "**************************************************\n",
      "Generating the accuracy by the number of a_p's dataframe for range [175000, 177800]..\n",
      "There are 12398 curves within the conductor range [175000, 177800].\n"
     ]
    },
    {
     "name": "stderr",
     "output_type": "stream",
     "text": [
      "/Users/angelicababei/ml_rnt/notebooks/utils.py:112: FutureWarning: The behavior of DataFrame concatenation with empty or all-NA entries is deprecated. In a future version, this will no longer exclude empty or all-NA columns when determining the result dtypes. To retain the old behavior, exclude the relevant entries before the concat operation.\n",
      "  res_df = pd.concat([res_df, pd.DataFrame({'num_a_p': i, 'performance': res}, index = [0])], ignore_index = True)\n"
     ]
    },
    {
     "name": "stdout",
     "output_type": "stream",
     "text": [
      "Conductor with exponent 420 needs the following number of ap values: {0.8: 503.3333333333333, 0.75: 273.3333333333333, 0.7: 166.66666666666666, 0.65: 96.66666666666667, 0.6: 66.66666666666667, 0.55: 46.666666666666664, 0.5: 36.666666666666664, 0.45: 30.0, 0.4: 30.0, 0.35: 23.333333333333332, 0.3: 20.0, 0.25: 20.0}\n",
      "**************************************************\n",
      "Generating the accuracy by the number of a_p's dataframe for range [192200, 195000]..\n",
      "There are 12428 curves within the conductor range [192200, 195000].\n"
     ]
    },
    {
     "name": "stderr",
     "output_type": "stream",
     "text": [
      "/Users/angelicababei/ml_rnt/notebooks/utils.py:112: FutureWarning: The behavior of DataFrame concatenation with empty or all-NA entries is deprecated. In a future version, this will no longer exclude empty or all-NA columns when determining the result dtypes. To retain the old behavior, exclude the relevant entries before the concat operation.\n",
      "  res_df = pd.concat([res_df, pd.DataFrame({'num_a_p': i, 'performance': res}, index = [0])], ignore_index = True)\n"
     ]
    },
    {
     "name": "stdout",
     "output_type": "stream",
     "text": [
      "**************************************************\n",
      "Generating the accuracy by the number of a_p's dataframe for range [192200, 195000]..\n",
      "There are 12428 curves within the conductor range [192200, 195000].\n"
     ]
    },
    {
     "name": "stderr",
     "output_type": "stream",
     "text": [
      "/Users/angelicababei/ml_rnt/notebooks/utils.py:112: FutureWarning: The behavior of DataFrame concatenation with empty or all-NA entries is deprecated. In a future version, this will no longer exclude empty or all-NA columns when determining the result dtypes. To retain the old behavior, exclude the relevant entries before the concat operation.\n",
      "  res_df = pd.concat([res_df, pd.DataFrame({'num_a_p': i, 'performance': res}, index = [0])], ignore_index = True)\n"
     ]
    },
    {
     "name": "stdout",
     "output_type": "stream",
     "text": [
      "**************************************************\n",
      "Generating the accuracy by the number of a_p's dataframe for range [192200, 195000]..\n",
      "There are 12428 curves within the conductor range [192200, 195000].\n"
     ]
    },
    {
     "name": "stderr",
     "output_type": "stream",
     "text": [
      "/Users/angelicababei/ml_rnt/notebooks/utils.py:112: FutureWarning: The behavior of DataFrame concatenation with empty or all-NA entries is deprecated. In a future version, this will no longer exclude empty or all-NA columns when determining the result dtypes. To retain the old behavior, exclude the relevant entries before the concat operation.\n",
      "  res_df = pd.concat([res_df, pd.DataFrame({'num_a_p': i, 'performance': res}, index = [0])], ignore_index = True)\n"
     ]
    },
    {
     "name": "stdout",
     "output_type": "stream",
     "text": [
      "Conductor with exponent 440 needs the following number of ap values: {0.8: 543.3333333333334, 0.75: 350.0, 0.7: 180.0, 0.65: 103.33333333333333, 0.6: 70.0, 0.55: 46.666666666666664, 0.5: 40.0, 0.45: 30.0, 0.4: 30.0, 0.35: 20.0, 0.3: 20.0, 0.25: 20.0}\n",
      "**************************************************\n",
      "Generating the accuracy by the number of a_p's dataframe for range [210200, 213000]..\n",
      "There are 12480 curves within the conductor range [210200, 213000].\n"
     ]
    },
    {
     "name": "stderr",
     "output_type": "stream",
     "text": [
      "/Users/angelicababei/ml_rnt/notebooks/utils.py:112: FutureWarning: The behavior of DataFrame concatenation with empty or all-NA entries is deprecated. In a future version, this will no longer exclude empty or all-NA columns when determining the result dtypes. To retain the old behavior, exclude the relevant entries before the concat operation.\n",
      "  res_df = pd.concat([res_df, pd.DataFrame({'num_a_p': i, 'performance': res}, index = [0])], ignore_index = True)\n"
     ]
    },
    {
     "name": "stdout",
     "output_type": "stream",
     "text": [
      "**************************************************\n",
      "Generating the accuracy by the number of a_p's dataframe for range [210200, 213000]..\n",
      "There are 12480 curves within the conductor range [210200, 213000].\n"
     ]
    },
    {
     "name": "stderr",
     "output_type": "stream",
     "text": [
      "/Users/angelicababei/ml_rnt/notebooks/utils.py:112: FutureWarning: The behavior of DataFrame concatenation with empty or all-NA entries is deprecated. In a future version, this will no longer exclude empty or all-NA columns when determining the result dtypes. To retain the old behavior, exclude the relevant entries before the concat operation.\n",
      "  res_df = pd.concat([res_df, pd.DataFrame({'num_a_p': i, 'performance': res}, index = [0])], ignore_index = True)\n"
     ]
    },
    {
     "name": "stdout",
     "output_type": "stream",
     "text": [
      "**************************************************\n",
      "Generating the accuracy by the number of a_p's dataframe for range [210200, 213000]..\n",
      "There are 12480 curves within the conductor range [210200, 213000].\n"
     ]
    },
    {
     "name": "stderr",
     "output_type": "stream",
     "text": [
      "/Users/angelicababei/ml_rnt/notebooks/utils.py:112: FutureWarning: The behavior of DataFrame concatenation with empty or all-NA entries is deprecated. In a future version, this will no longer exclude empty or all-NA columns when determining the result dtypes. To retain the old behavior, exclude the relevant entries before the concat operation.\n",
      "  res_df = pd.concat([res_df, pd.DataFrame({'num_a_p': i, 'performance': res}, index = [0])], ignore_index = True)\n"
     ]
    },
    {
     "name": "stdout",
     "output_type": "stream",
     "text": [
      "Conductor with exponent 460 needs the following number of ap values: {0.8: 576.6666666666666, 0.75: 320.0, 0.7: 203.33333333333334, 0.65: 126.66666666666667, 0.6: 73.33333333333333, 0.55: 50.0, 0.5: 40.0, 0.45: 30.0, 0.4: 30.0, 0.35: 20.0, 0.3: 20.0, 0.25: 20.0}\n",
      "**************************************************\n",
      "Generating the accuracy by the number of a_p's dataframe for range [229000, 231800]..\n",
      "There are 11896 curves within the conductor range [229000, 231800].\n"
     ]
    },
    {
     "name": "stderr",
     "output_type": "stream",
     "text": [
      "/Users/angelicababei/ml_rnt/notebooks/utils.py:112: FutureWarning: The behavior of DataFrame concatenation with empty or all-NA entries is deprecated. In a future version, this will no longer exclude empty or all-NA columns when determining the result dtypes. To retain the old behavior, exclude the relevant entries before the concat operation.\n",
      "  res_df = pd.concat([res_df, pd.DataFrame({'num_a_p': i, 'performance': res}, index = [0])], ignore_index = True)\n"
     ]
    },
    {
     "name": "stdout",
     "output_type": "stream",
     "text": [
      "**************************************************\n",
      "Generating the accuracy by the number of a_p's dataframe for range [229000, 231800]..\n",
      "There are 11896 curves within the conductor range [229000, 231800].\n"
     ]
    },
    {
     "name": "stderr",
     "output_type": "stream",
     "text": [
      "/Users/angelicababei/ml_rnt/notebooks/utils.py:112: FutureWarning: The behavior of DataFrame concatenation with empty or all-NA entries is deprecated. In a future version, this will no longer exclude empty or all-NA columns when determining the result dtypes. To retain the old behavior, exclude the relevant entries before the concat operation.\n",
      "  res_df = pd.concat([res_df, pd.DataFrame({'num_a_p': i, 'performance': res}, index = [0])], ignore_index = True)\n"
     ]
    },
    {
     "name": "stdout",
     "output_type": "stream",
     "text": [
      "**************************************************\n",
      "Generating the accuracy by the number of a_p's dataframe for range [229000, 231800]..\n",
      "There are 11896 curves within the conductor range [229000, 231800].\n"
     ]
    },
    {
     "name": "stderr",
     "output_type": "stream",
     "text": [
      "/Users/angelicababei/ml_rnt/notebooks/utils.py:112: FutureWarning: The behavior of DataFrame concatenation with empty or all-NA entries is deprecated. In a future version, this will no longer exclude empty or all-NA columns when determining the result dtypes. To retain the old behavior, exclude the relevant entries before the concat operation.\n",
      "  res_df = pd.concat([res_df, pd.DataFrame({'num_a_p': i, 'performance': res}, index = [0])], ignore_index = True)\n"
     ]
    },
    {
     "name": "stdout",
     "output_type": "stream",
     "text": [
      "Conductor with exponent 480 needs the following number of ap values: {0.8: 776.6666666666666, 0.75: 366.6666666666667, 0.7: 213.33333333333334, 0.65: 120.0, 0.6: 80.0, 0.55: 50.0, 0.5: 40.0, 0.45: 36.666666666666664, 0.4: 30.0, 0.35: 30.0, 0.3: 20.0, 0.25: 20.0}\n",
      "**************************************************\n",
      "Generating the accuracy by the number of a_p's dataframe for range [248600, 251400]..\n",
      "There are 12259 curves within the conductor range [248600, 251400].\n"
     ]
    },
    {
     "name": "stderr",
     "output_type": "stream",
     "text": [
      "/Users/angelicababei/ml_rnt/notebooks/utils.py:112: FutureWarning: The behavior of DataFrame concatenation with empty or all-NA entries is deprecated. In a future version, this will no longer exclude empty or all-NA columns when determining the result dtypes. To retain the old behavior, exclude the relevant entries before the concat operation.\n",
      "  res_df = pd.concat([res_df, pd.DataFrame({'num_a_p': i, 'performance': res}, index = [0])], ignore_index = True)\n"
     ]
    },
    {
     "name": "stdout",
     "output_type": "stream",
     "text": [
      "**************************************************\n",
      "Generating the accuracy by the number of a_p's dataframe for range [248600, 251400]..\n",
      "There are 12259 curves within the conductor range [248600, 251400].\n"
     ]
    },
    {
     "name": "stderr",
     "output_type": "stream",
     "text": [
      "/Users/angelicababei/ml_rnt/notebooks/utils.py:112: FutureWarning: The behavior of DataFrame concatenation with empty or all-NA entries is deprecated. In a future version, this will no longer exclude empty or all-NA columns when determining the result dtypes. To retain the old behavior, exclude the relevant entries before the concat operation.\n",
      "  res_df = pd.concat([res_df, pd.DataFrame({'num_a_p': i, 'performance': res}, index = [0])], ignore_index = True)\n"
     ]
    },
    {
     "name": "stdout",
     "output_type": "stream",
     "text": [
      "**************************************************\n",
      "Generating the accuracy by the number of a_p's dataframe for range [248600, 251400]..\n",
      "There are 12259 curves within the conductor range [248600, 251400].\n"
     ]
    },
    {
     "name": "stderr",
     "output_type": "stream",
     "text": [
      "/Users/angelicababei/ml_rnt/notebooks/utils.py:112: FutureWarning: The behavior of DataFrame concatenation with empty or all-NA entries is deprecated. In a future version, this will no longer exclude empty or all-NA columns when determining the result dtypes. To retain the old behavior, exclude the relevant entries before the concat operation.\n",
      "  res_df = pd.concat([res_df, pd.DataFrame({'num_a_p': i, 'performance': res}, index = [0])], ignore_index = True)\n"
     ]
    },
    {
     "name": "stdout",
     "output_type": "stream",
     "text": [
      "Conductor with exponent 500 needs the following number of ap values: {0.8: 796.6666666666666, 0.75: 453.3333333333333, 0.7: 240.0, 0.65: 116.66666666666667, 0.6: 80.0, 0.55: 53.333333333333336, 0.5: 43.333333333333336, 0.45: 40.0, 0.4: 30.0, 0.35: 30.0, 0.3: 23.333333333333332, 0.25: 20.0}\n",
      "**************************************************\n",
      "Generating the accuracy by the number of a_p's dataframe for range [269000, 271800]..\n",
      "There are 12126 curves within the conductor range [269000, 271800].\n"
     ]
    },
    {
     "name": "stderr",
     "output_type": "stream",
     "text": [
      "/Users/angelicababei/ml_rnt/notebooks/utils.py:112: FutureWarning: The behavior of DataFrame concatenation with empty or all-NA entries is deprecated. In a future version, this will no longer exclude empty or all-NA columns when determining the result dtypes. To retain the old behavior, exclude the relevant entries before the concat operation.\n",
      "  res_df = pd.concat([res_df, pd.DataFrame({'num_a_p': i, 'performance': res}, index = [0])], ignore_index = True)\n"
     ]
    },
    {
     "name": "stdout",
     "output_type": "stream",
     "text": [
      "**************************************************\n",
      "Generating the accuracy by the number of a_p's dataframe for range [269000, 271800]..\n",
      "There are 12126 curves within the conductor range [269000, 271800].\n"
     ]
    },
    {
     "name": "stderr",
     "output_type": "stream",
     "text": [
      "/Users/angelicababei/ml_rnt/notebooks/utils.py:112: FutureWarning: The behavior of DataFrame concatenation with empty or all-NA entries is deprecated. In a future version, this will no longer exclude empty or all-NA columns when determining the result dtypes. To retain the old behavior, exclude the relevant entries before the concat operation.\n",
      "  res_df = pd.concat([res_df, pd.DataFrame({'num_a_p': i, 'performance': res}, index = [0])], ignore_index = True)\n"
     ]
    },
    {
     "name": "stdout",
     "output_type": "stream",
     "text": [
      "**************************************************\n",
      "Generating the accuracy by the number of a_p's dataframe for range [269000, 271800]..\n",
      "There are 12126 curves within the conductor range [269000, 271800].\n"
     ]
    },
    {
     "name": "stderr",
     "output_type": "stream",
     "text": [
      "/Users/angelicababei/ml_rnt/notebooks/utils.py:112: FutureWarning: The behavior of DataFrame concatenation with empty or all-NA entries is deprecated. In a future version, this will no longer exclude empty or all-NA columns when determining the result dtypes. To retain the old behavior, exclude the relevant entries before the concat operation.\n",
      "  res_df = pd.concat([res_df, pd.DataFrame({'num_a_p': i, 'performance': res}, index = [0])], ignore_index = True)\n"
     ]
    },
    {
     "name": "stdout",
     "output_type": "stream",
     "text": [
      "Conductor with exponent 520 needs the following number of ap values: {0.75: 476.6666666666667, 0.7: 266.6666666666667, 0.65: 136.66666666666666, 0.6: 76.66666666666667, 0.55: 60.0, 0.5: 46.666666666666664, 0.45: 40.0, 0.4: 30.0, 0.35: 30.0, 0.3: 23.333333333333332, 0.25: 20.0, 0.8: 900.0}\n",
      "**************************************************\n",
      "Generating the accuracy by the number of a_p's dataframe for range [290200, 293000]..\n",
      "There are 12565 curves within the conductor range [290200, 293000].\n"
     ]
    },
    {
     "name": "stderr",
     "output_type": "stream",
     "text": [
      "/Users/angelicababei/ml_rnt/notebooks/utils.py:112: FutureWarning: The behavior of DataFrame concatenation with empty or all-NA entries is deprecated. In a future version, this will no longer exclude empty or all-NA columns when determining the result dtypes. To retain the old behavior, exclude the relevant entries before the concat operation.\n",
      "  res_df = pd.concat([res_df, pd.DataFrame({'num_a_p': i, 'performance': res}, index = [0])], ignore_index = True)\n"
     ]
    },
    {
     "name": "stdout",
     "output_type": "stream",
     "text": [
      "**************************************************\n",
      "Generating the accuracy by the number of a_p's dataframe for range [290200, 293000]..\n",
      "There are 12565 curves within the conductor range [290200, 293000].\n"
     ]
    },
    {
     "name": "stderr",
     "output_type": "stream",
     "text": [
      "/Users/angelicababei/ml_rnt/notebooks/utils.py:112: FutureWarning: The behavior of DataFrame concatenation with empty or all-NA entries is deprecated. In a future version, this will no longer exclude empty or all-NA columns when determining the result dtypes. To retain the old behavior, exclude the relevant entries before the concat operation.\n",
      "  res_df = pd.concat([res_df, pd.DataFrame({'num_a_p': i, 'performance': res}, index = [0])], ignore_index = True)\n"
     ]
    },
    {
     "name": "stdout",
     "output_type": "stream",
     "text": [
      "**************************************************\n",
      "Generating the accuracy by the number of a_p's dataframe for range [290200, 293000]..\n",
      "There are 12565 curves within the conductor range [290200, 293000].\n"
     ]
    },
    {
     "name": "stderr",
     "output_type": "stream",
     "text": [
      "/Users/angelicababei/ml_rnt/notebooks/utils.py:112: FutureWarning: The behavior of DataFrame concatenation with empty or all-NA entries is deprecated. In a future version, this will no longer exclude empty or all-NA columns when determining the result dtypes. To retain the old behavior, exclude the relevant entries before the concat operation.\n",
      "  res_df = pd.concat([res_df, pd.DataFrame({'num_a_p': i, 'performance': res}, index = [0])], ignore_index = True)\n"
     ]
    },
    {
     "name": "stdout",
     "output_type": "stream",
     "text": [
      "Conductor with exponent 540 needs the following number of ap values: {0.75: 746.6666666666666, 0.7: 343.3333333333333, 0.65: 183.33333333333334, 0.6: 110.0, 0.55: 60.0, 0.5: 46.666666666666664, 0.45: 40.0, 0.4: 33.333333333333336, 0.35: 30.0, 0.3: 23.333333333333332, 0.25: 20.0}\n",
      "**************************************************\n",
      "Generating the accuracy by the number of a_p's dataframe for range [312200, 315000]..\n",
      "There are 12283 curves within the conductor range [312200, 315000].\n"
     ]
    },
    {
     "name": "stderr",
     "output_type": "stream",
     "text": [
      "/Users/angelicababei/ml_rnt/notebooks/utils.py:112: FutureWarning: The behavior of DataFrame concatenation with empty or all-NA entries is deprecated. In a future version, this will no longer exclude empty or all-NA columns when determining the result dtypes. To retain the old behavior, exclude the relevant entries before the concat operation.\n",
      "  res_df = pd.concat([res_df, pd.DataFrame({'num_a_p': i, 'performance': res}, index = [0])], ignore_index = True)\n"
     ]
    },
    {
     "name": "stdout",
     "output_type": "stream",
     "text": [
      "**************************************************\n",
      "Generating the accuracy by the number of a_p's dataframe for range [312200, 315000]..\n",
      "There are 12283 curves within the conductor range [312200, 315000].\n"
     ]
    },
    {
     "name": "stderr",
     "output_type": "stream",
     "text": [
      "/Users/angelicababei/ml_rnt/notebooks/utils.py:112: FutureWarning: The behavior of DataFrame concatenation with empty or all-NA entries is deprecated. In a future version, this will no longer exclude empty or all-NA columns when determining the result dtypes. To retain the old behavior, exclude the relevant entries before the concat operation.\n",
      "  res_df = pd.concat([res_df, pd.DataFrame({'num_a_p': i, 'performance': res}, index = [0])], ignore_index = True)\n"
     ]
    },
    {
     "name": "stdout",
     "output_type": "stream",
     "text": [
      "**************************************************\n",
      "Generating the accuracy by the number of a_p's dataframe for range [312200, 315000]..\n",
      "There are 12283 curves within the conductor range [312200, 315000].\n"
     ]
    },
    {
     "name": "stderr",
     "output_type": "stream",
     "text": [
      "/Users/angelicababei/ml_rnt/notebooks/utils.py:112: FutureWarning: The behavior of DataFrame concatenation with empty or all-NA entries is deprecated. In a future version, this will no longer exclude empty or all-NA columns when determining the result dtypes. To retain the old behavior, exclude the relevant entries before the concat operation.\n",
      "  res_df = pd.concat([res_df, pd.DataFrame({'num_a_p': i, 'performance': res}, index = [0])], ignore_index = True)\n"
     ]
    },
    {
     "name": "stdout",
     "output_type": "stream",
     "text": [
      "Conductor with exponent 560 needs the following number of ap values: {0.75: 656.6666666666666, 0.7: 306.6666666666667, 0.65: 160.0, 0.6: 103.33333333333333, 0.55: 60.0, 0.5: 50.0, 0.45: 40.0, 0.4: 33.333333333333336, 0.35: 30.0, 0.3: 30.0, 0.25: 20.0}\n",
      "**************************************************\n",
      "Generating the accuracy by the number of a_p's dataframe for range [335000, 337800]..\n",
      "There are 12128 curves within the conductor range [335000, 337800].\n"
     ]
    },
    {
     "name": "stderr",
     "output_type": "stream",
     "text": [
      "/Users/angelicababei/ml_rnt/notebooks/utils.py:112: FutureWarning: The behavior of DataFrame concatenation with empty or all-NA entries is deprecated. In a future version, this will no longer exclude empty or all-NA columns when determining the result dtypes. To retain the old behavior, exclude the relevant entries before the concat operation.\n",
      "  res_df = pd.concat([res_df, pd.DataFrame({'num_a_p': i, 'performance': res}, index = [0])], ignore_index = True)\n"
     ]
    },
    {
     "name": "stdout",
     "output_type": "stream",
     "text": [
      "**************************************************\n",
      "Generating the accuracy by the number of a_p's dataframe for range [335000, 337800]..\n",
      "There are 12128 curves within the conductor range [335000, 337800].\n"
     ]
    },
    {
     "name": "stderr",
     "output_type": "stream",
     "text": [
      "/Users/angelicababei/ml_rnt/notebooks/utils.py:112: FutureWarning: The behavior of DataFrame concatenation with empty or all-NA entries is deprecated. In a future version, this will no longer exclude empty or all-NA columns when determining the result dtypes. To retain the old behavior, exclude the relevant entries before the concat operation.\n",
      "  res_df = pd.concat([res_df, pd.DataFrame({'num_a_p': i, 'performance': res}, index = [0])], ignore_index = True)\n"
     ]
    },
    {
     "name": "stdout",
     "output_type": "stream",
     "text": [
      "**************************************************\n",
      "Generating the accuracy by the number of a_p's dataframe for range [335000, 337800]..\n",
      "There are 12128 curves within the conductor range [335000, 337800].\n"
     ]
    },
    {
     "name": "stderr",
     "output_type": "stream",
     "text": [
      "/Users/angelicababei/ml_rnt/notebooks/utils.py:112: FutureWarning: The behavior of DataFrame concatenation with empty or all-NA entries is deprecated. In a future version, this will no longer exclude empty or all-NA columns when determining the result dtypes. To retain the old behavior, exclude the relevant entries before the concat operation.\n",
      "  res_df = pd.concat([res_df, pd.DataFrame({'num_a_p': i, 'performance': res}, index = [0])], ignore_index = True)\n"
     ]
    },
    {
     "name": "stdout",
     "output_type": "stream",
     "text": [
      "Conductor with exponent 580 needs the following number of ap values: {0.75: 796.6666666666666, 0.7: 416.6666666666667, 0.65: 213.33333333333334, 0.6: 120.0, 0.55: 70.0, 0.5: 50.0, 0.45: 43.333333333333336, 0.4: 36.666666666666664, 0.35: 30.0, 0.3: 30.0, 0.25: 20.0}\n",
      "**************************************************\n",
      "Generating the accuracy by the number of a_p's dataframe for range [358600, 361400]..\n",
      "There are 12079 curves within the conductor range [358600, 361400].\n"
     ]
    },
    {
     "name": "stderr",
     "output_type": "stream",
     "text": [
      "/Users/angelicababei/ml_rnt/notebooks/utils.py:112: FutureWarning: The behavior of DataFrame concatenation with empty or all-NA entries is deprecated. In a future version, this will no longer exclude empty or all-NA columns when determining the result dtypes. To retain the old behavior, exclude the relevant entries before the concat operation.\n",
      "  res_df = pd.concat([res_df, pd.DataFrame({'num_a_p': i, 'performance': res}, index = [0])], ignore_index = True)\n"
     ]
    },
    {
     "name": "stdout",
     "output_type": "stream",
     "text": [
      "**************************************************\n",
      "Generating the accuracy by the number of a_p's dataframe for range [358600, 361400]..\n",
      "There are 12079 curves within the conductor range [358600, 361400].\n"
     ]
    },
    {
     "name": "stderr",
     "output_type": "stream",
     "text": [
      "/Users/angelicababei/ml_rnt/notebooks/utils.py:112: FutureWarning: The behavior of DataFrame concatenation with empty or all-NA entries is deprecated. In a future version, this will no longer exclude empty or all-NA columns when determining the result dtypes. To retain the old behavior, exclude the relevant entries before the concat operation.\n",
      "  res_df = pd.concat([res_df, pd.DataFrame({'num_a_p': i, 'performance': res}, index = [0])], ignore_index = True)\n"
     ]
    },
    {
     "name": "stdout",
     "output_type": "stream",
     "text": [
      "**************************************************\n",
      "Generating the accuracy by the number of a_p's dataframe for range [358600, 361400]..\n",
      "There are 12079 curves within the conductor range [358600, 361400].\n"
     ]
    },
    {
     "name": "stderr",
     "output_type": "stream",
     "text": [
      "/Users/angelicababei/ml_rnt/notebooks/utils.py:112: FutureWarning: The behavior of DataFrame concatenation with empty or all-NA entries is deprecated. In a future version, this will no longer exclude empty or all-NA columns when determining the result dtypes. To retain the old behavior, exclude the relevant entries before the concat operation.\n",
      "  res_df = pd.concat([res_df, pd.DataFrame({'num_a_p': i, 'performance': res}, index = [0])], ignore_index = True)\n"
     ]
    },
    {
     "name": "stdout",
     "output_type": "stream",
     "text": [
      "Conductor with exponent 600 needs the following number of ap values: {0.75: 640.0, 0.7: 336.6666666666667, 0.65: 203.33333333333334, 0.6: 110.0, 0.55: 66.66666666666667, 0.5: 50.0, 0.45: 40.0, 0.4: 40.0, 0.35: 30.0, 0.3: 30.0, 0.25: 23.333333333333332}\n",
      "**************************************************\n",
      "Generating the accuracy by the number of a_p's dataframe for range [383000, 385800]..\n",
      "There are 12150 curves within the conductor range [383000, 385800].\n"
     ]
    },
    {
     "name": "stderr",
     "output_type": "stream",
     "text": [
      "/Users/angelicababei/ml_rnt/notebooks/utils.py:112: FutureWarning: The behavior of DataFrame concatenation with empty or all-NA entries is deprecated. In a future version, this will no longer exclude empty or all-NA columns when determining the result dtypes. To retain the old behavior, exclude the relevant entries before the concat operation.\n",
      "  res_df = pd.concat([res_df, pd.DataFrame({'num_a_p': i, 'performance': res}, index = [0])], ignore_index = True)\n"
     ]
    },
    {
     "name": "stdout",
     "output_type": "stream",
     "text": [
      "**************************************************\n",
      "Generating the accuracy by the number of a_p's dataframe for range [383000, 385800]..\n",
      "There are 12150 curves within the conductor range [383000, 385800].\n"
     ]
    },
    {
     "name": "stderr",
     "output_type": "stream",
     "text": [
      "/Users/angelicababei/ml_rnt/notebooks/utils.py:112: FutureWarning: The behavior of DataFrame concatenation with empty or all-NA entries is deprecated. In a future version, this will no longer exclude empty or all-NA columns when determining the result dtypes. To retain the old behavior, exclude the relevant entries before the concat operation.\n",
      "  res_df = pd.concat([res_df, pd.DataFrame({'num_a_p': i, 'performance': res}, index = [0])], ignore_index = True)\n"
     ]
    },
    {
     "name": "stdout",
     "output_type": "stream",
     "text": [
      "**************************************************\n",
      "Generating the accuracy by the number of a_p's dataframe for range [383000, 385800]..\n",
      "There are 12150 curves within the conductor range [383000, 385800].\n"
     ]
    },
    {
     "name": "stderr",
     "output_type": "stream",
     "text": [
      "/Users/angelicababei/ml_rnt/notebooks/utils.py:112: FutureWarning: The behavior of DataFrame concatenation with empty or all-NA entries is deprecated. In a future version, this will no longer exclude empty or all-NA columns when determining the result dtypes. To retain the old behavior, exclude the relevant entries before the concat operation.\n",
      "  res_df = pd.concat([res_df, pd.DataFrame({'num_a_p': i, 'performance': res}, index = [0])], ignore_index = True)\n"
     ]
    },
    {
     "name": "stdout",
     "output_type": "stream",
     "text": [
      "Conductor with exponent 620 needs the following number of ap values: {0.75: 845.0, 0.7: 416.6666666666667, 0.65: 196.66666666666666, 0.6: 96.66666666666667, 0.55: 66.66666666666667, 0.5: 50.0, 0.45: 46.666666666666664, 0.4: 40.0, 0.35: 30.0, 0.3: 30.0, 0.25: 23.333333333333332}\n",
      "**************************************************\n",
      "Generating the accuracy by the number of a_p's dataframe for range [408200, 411000]..\n",
      "There are 11595 curves within the conductor range [408200, 411000].\n"
     ]
    },
    {
     "name": "stderr",
     "output_type": "stream",
     "text": [
      "/Users/angelicababei/ml_rnt/notebooks/utils.py:112: FutureWarning: The behavior of DataFrame concatenation with empty or all-NA entries is deprecated. In a future version, this will no longer exclude empty or all-NA columns when determining the result dtypes. To retain the old behavior, exclude the relevant entries before the concat operation.\n",
      "  res_df = pd.concat([res_df, pd.DataFrame({'num_a_p': i, 'performance': res}, index = [0])], ignore_index = True)\n"
     ]
    },
    {
     "name": "stdout",
     "output_type": "stream",
     "text": [
      "**************************************************\n",
      "Generating the accuracy by the number of a_p's dataframe for range [408200, 411000]..\n",
      "There are 11595 curves within the conductor range [408200, 411000].\n"
     ]
    },
    {
     "name": "stderr",
     "output_type": "stream",
     "text": [
      "/Users/angelicababei/ml_rnt/notebooks/utils.py:112: FutureWarning: The behavior of DataFrame concatenation with empty or all-NA entries is deprecated. In a future version, this will no longer exclude empty or all-NA columns when determining the result dtypes. To retain the old behavior, exclude the relevant entries before the concat operation.\n",
      "  res_df = pd.concat([res_df, pd.DataFrame({'num_a_p': i, 'performance': res}, index = [0])], ignore_index = True)\n"
     ]
    },
    {
     "name": "stdout",
     "output_type": "stream",
     "text": [
      "**************************************************\n",
      "Generating the accuracy by the number of a_p's dataframe for range [408200, 411000]..\n",
      "There are 11595 curves within the conductor range [408200, 411000].\n"
     ]
    },
    {
     "name": "stderr",
     "output_type": "stream",
     "text": [
      "/Users/angelicababei/ml_rnt/notebooks/utils.py:112: FutureWarning: The behavior of DataFrame concatenation with empty or all-NA entries is deprecated. In a future version, this will no longer exclude empty or all-NA columns when determining the result dtypes. To retain the old behavior, exclude the relevant entries before the concat operation.\n",
      "  res_df = pd.concat([res_df, pd.DataFrame({'num_a_p': i, 'performance': res}, index = [0])], ignore_index = True)\n"
     ]
    },
    {
     "name": "stdout",
     "output_type": "stream",
     "text": [
      "Conductor with exponent 640 needs the following number of ap values: {0.75: 885.0, 0.7: 416.6666666666667, 0.65: 180.0, 0.6: 100.0, 0.55: 66.66666666666667, 0.5: 53.333333333333336, 0.45: 43.333333333333336, 0.4: 33.333333333333336, 0.35: 30.0, 0.3: 30.0, 0.25: 20.0}\n",
      "**************************************************\n",
      "Generating the accuracy by the number of a_p's dataframe for range [434200, 437000]..\n",
      "There are 12194 curves within the conductor range [434200, 437000].\n"
     ]
    },
    {
     "name": "stderr",
     "output_type": "stream",
     "text": [
      "/Users/angelicababei/ml_rnt/notebooks/utils.py:112: FutureWarning: The behavior of DataFrame concatenation with empty or all-NA entries is deprecated. In a future version, this will no longer exclude empty or all-NA columns when determining the result dtypes. To retain the old behavior, exclude the relevant entries before the concat operation.\n",
      "  res_df = pd.concat([res_df, pd.DataFrame({'num_a_p': i, 'performance': res}, index = [0])], ignore_index = True)\n"
     ]
    },
    {
     "name": "stdout",
     "output_type": "stream",
     "text": [
      "**************************************************\n",
      "Generating the accuracy by the number of a_p's dataframe for range [434200, 437000]..\n",
      "There are 12194 curves within the conductor range [434200, 437000].\n"
     ]
    },
    {
     "name": "stderr",
     "output_type": "stream",
     "text": [
      "/Users/angelicababei/ml_rnt/notebooks/utils.py:112: FutureWarning: The behavior of DataFrame concatenation with empty or all-NA entries is deprecated. In a future version, this will no longer exclude empty or all-NA columns when determining the result dtypes. To retain the old behavior, exclude the relevant entries before the concat operation.\n",
      "  res_df = pd.concat([res_df, pd.DataFrame({'num_a_p': i, 'performance': res}, index = [0])], ignore_index = True)\n"
     ]
    },
    {
     "name": "stdout",
     "output_type": "stream",
     "text": [
      "**************************************************\n",
      "Generating the accuracy by the number of a_p's dataframe for range [434200, 437000]..\n",
      "There are 12194 curves within the conductor range [434200, 437000].\n"
     ]
    },
    {
     "name": "stderr",
     "output_type": "stream",
     "text": [
      "/Users/angelicababei/ml_rnt/notebooks/utils.py:112: FutureWarning: The behavior of DataFrame concatenation with empty or all-NA entries is deprecated. In a future version, this will no longer exclude empty or all-NA columns when determining the result dtypes. To retain the old behavior, exclude the relevant entries before the concat operation.\n",
      "  res_df = pd.concat([res_df, pd.DataFrame({'num_a_p': i, 'performance': res}, index = [0])], ignore_index = True)\n"
     ]
    },
    {
     "name": "stdout",
     "output_type": "stream",
     "text": [
      "Conductor with exponent 660 needs the following number of ap values: {0.7: 426.6666666666667, 0.65: 186.66666666666666, 0.6: 113.33333333333333, 0.55: 70.0, 0.5: 53.333333333333336, 0.45: 43.333333333333336, 0.4: 40.0, 0.35: 30.0, 0.3: 30.0, 0.25: 20.0, 0.75: 880.0}\n",
      "**************************************************\n",
      "Generating the accuracy by the number of a_p's dataframe for range [461000, 463800]..\n",
      "There are 11830 curves within the conductor range [461000, 463800].\n"
     ]
    },
    {
     "name": "stderr",
     "output_type": "stream",
     "text": [
      "/Users/angelicababei/ml_rnt/notebooks/utils.py:112: FutureWarning: The behavior of DataFrame concatenation with empty or all-NA entries is deprecated. In a future version, this will no longer exclude empty or all-NA columns when determining the result dtypes. To retain the old behavior, exclude the relevant entries before the concat operation.\n",
      "  res_df = pd.concat([res_df, pd.DataFrame({'num_a_p': i, 'performance': res}, index = [0])], ignore_index = True)\n"
     ]
    },
    {
     "name": "stdout",
     "output_type": "stream",
     "text": [
      "**************************************************\n",
      "Generating the accuracy by the number of a_p's dataframe for range [461000, 463800]..\n",
      "There are 11830 curves within the conductor range [461000, 463800].\n"
     ]
    },
    {
     "name": "stderr",
     "output_type": "stream",
     "text": [
      "/Users/angelicababei/ml_rnt/notebooks/utils.py:112: FutureWarning: The behavior of DataFrame concatenation with empty or all-NA entries is deprecated. In a future version, this will no longer exclude empty or all-NA columns when determining the result dtypes. To retain the old behavior, exclude the relevant entries before the concat operation.\n",
      "  res_df = pd.concat([res_df, pd.DataFrame({'num_a_p': i, 'performance': res}, index = [0])], ignore_index = True)\n"
     ]
    },
    {
     "name": "stdout",
     "output_type": "stream",
     "text": [
      "**************************************************\n",
      "Generating the accuracy by the number of a_p's dataframe for range [461000, 463800]..\n",
      "There are 11830 curves within the conductor range [461000, 463800].\n"
     ]
    },
    {
     "name": "stderr",
     "output_type": "stream",
     "text": [
      "/Users/angelicababei/ml_rnt/notebooks/utils.py:112: FutureWarning: The behavior of DataFrame concatenation with empty or all-NA entries is deprecated. In a future version, this will no longer exclude empty or all-NA columns when determining the result dtypes. To retain the old behavior, exclude the relevant entries before the concat operation.\n",
      "  res_df = pd.concat([res_df, pd.DataFrame({'num_a_p': i, 'performance': res}, index = [0])], ignore_index = True)\n"
     ]
    },
    {
     "name": "stdout",
     "output_type": "stream",
     "text": [
      "Conductor with exponent 680 needs the following number of ap values: {0.7: 610.0, 0.65: 200.0, 0.6: 106.66666666666667, 0.55: 70.0, 0.5: 50.0, 0.45: 50.0, 0.4: 40.0, 0.35: 30.0, 0.3: 30.0, 0.25: 20.0}\n",
      "**************************************************\n",
      "Generating the accuracy by the number of a_p's dataframe for range [488600, 491400]..\n",
      "There are 11549 curves within the conductor range [488600, 491400].\n"
     ]
    },
    {
     "name": "stderr",
     "output_type": "stream",
     "text": [
      "/Users/angelicababei/ml_rnt/notebooks/utils.py:112: FutureWarning: The behavior of DataFrame concatenation with empty or all-NA entries is deprecated. In a future version, this will no longer exclude empty or all-NA columns when determining the result dtypes. To retain the old behavior, exclude the relevant entries before the concat operation.\n",
      "  res_df = pd.concat([res_df, pd.DataFrame({'num_a_p': i, 'performance': res}, index = [0])], ignore_index = True)\n"
     ]
    },
    {
     "name": "stdout",
     "output_type": "stream",
     "text": [
      "**************************************************\n",
      "Generating the accuracy by the number of a_p's dataframe for range [488600, 491400]..\n",
      "There are 11549 curves within the conductor range [488600, 491400].\n"
     ]
    },
    {
     "name": "stderr",
     "output_type": "stream",
     "text": [
      "/Users/angelicababei/ml_rnt/notebooks/utils.py:112: FutureWarning: The behavior of DataFrame concatenation with empty or all-NA entries is deprecated. In a future version, this will no longer exclude empty or all-NA columns when determining the result dtypes. To retain the old behavior, exclude the relevant entries before the concat operation.\n",
      "  res_df = pd.concat([res_df, pd.DataFrame({'num_a_p': i, 'performance': res}, index = [0])], ignore_index = True)\n"
     ]
    },
    {
     "name": "stdout",
     "output_type": "stream",
     "text": [
      "**************************************************\n",
      "Generating the accuracy by the number of a_p's dataframe for range [488600, 491400]..\n",
      "There are 11549 curves within the conductor range [488600, 491400].\n"
     ]
    },
    {
     "name": "stderr",
     "output_type": "stream",
     "text": [
      "/Users/angelicababei/ml_rnt/notebooks/utils.py:112: FutureWarning: The behavior of DataFrame concatenation with empty or all-NA entries is deprecated. In a future version, this will no longer exclude empty or all-NA columns when determining the result dtypes. To retain the old behavior, exclude the relevant entries before the concat operation.\n",
      "  res_df = pd.concat([res_df, pd.DataFrame({'num_a_p': i, 'performance': res}, index = [0])], ignore_index = True)\n"
     ]
    },
    {
     "name": "stdout",
     "output_type": "stream",
     "text": [
      "Conductor with exponent 700 needs the following number of ap values: {0.7: 650.0, 0.65: 320.0, 0.6: 150.0, 0.55: 83.33333333333333, 0.5: 66.66666666666667, 0.45: 53.333333333333336, 0.4: 40.0, 0.35: 36.666666666666664, 0.3: 30.0, 0.25: 30.0}\n"
     ]
    }
   ],
   "source": [
    "# choose your desired bounds (including the end points)\n",
    "bounds_list = [(i**2-1400, i**2+1400) for i in range(60, 720, 20)]\n",
    "#bounds_list = [(2**i, 2**(i+1)) for i in range(10, 30)]\n",
    "\n",
    "# choose your model\n",
    "model = LogisticRegression(max_iter = 3000)\n",
    "\n",
    "# choose your desired step size for number of a_p's\n",
    "step_size = 10\n",
    "res_dict={}\n",
    "\n",
    "# Obtain dictionary of conductor bounds and corresponding number of ap values\n",
    "for bounds in bounds_list:\n",
    "    lower_bound, upper_bound = bounds\n",
    "    bound = int(np.sqrt((upper_bound + lower_bound) / 2))\n",
    "    #bound = math.log(lower_bound, 2)\n",
    "    cumulative_dict = defaultdict(lambda: [0, 0])  # [cumulative sum, count]\n",
    "\n",
    "    for i in range(20):  # Repeat x times\n",
    "        res_df = utils.Generate_AccByNumAps_df(df, lower_bound, upper_bound, model, step_size=step_size, metric = matthews_corrcoef, random_state=143+i)\n",
    "        temp_dict = utils.find_min_num_a_p_for_performance_thresholds(res_df)\n",
    "        \n",
    "        # Update cumulative sums and counts, checking for NaN\n",
    "        for key, value in temp_dict.items():\n",
    "            if not np.isnan(value):  # Check if value is not NaN\n",
    "                cumulative_dict[key][0] += value\n",
    "                cumulative_dict[key][1] += 1\n",
    "\n",
    "    # Calculate averages and assign to res_dict, excluding keys with NaN values\n",
    "    res_dict[bound] = {key: sum_count[0] / sum_count[1] for key, sum_count in cumulative_dict.items() if sum_count[1] > 0}\n",
    "\n",
    "    print(f\"Conductor with exponent {bound} needs the following number of ap values: {res_dict[bound]}\")\n"
   ]
  },
  {
   "cell_type": "markdown",
   "metadata": {},
   "source": [
    "Restructure the dictionary"
   ]
  },
  {
   "cell_type": "code",
   "execution_count": 7,
   "metadata": {},
   "outputs": [],
   "source": [
    "# Initialize an empty dictionary to store the result\n",
    "restructured_dict = {0.99: [], 0.98: [], 0.95: [], 0.9: [], 0.85: [], 0.8: [], 0.75: [], 0.7: [], \n",
    "                     0.65:[], 0.6: [], 0.55: [], 0.5: [], 0.45: [], 0.4: [], 0.35: [], 0.3: []}\n",
    "\n",
    "\n",
    "# Iterate through the original dictionary\n",
    "for k, subdict in res_dict.items():\n",
    "    # Iterate through each accuracy level in the restructured dictionary\n",
    "    for accuracy in restructured_dict:\n",
    "        # Check if the accuracy level exists in the subdictionary\n",
    "        if accuracy in subdict:\n",
    "            # Append the (k, v) pair to the corresponding list in the restructured dictionary\n",
    "            restructured_dict[accuracy].append((k, subdict[accuracy]))\n",
    "\n"
   ]
  },
  {
   "cell_type": "code",
   "execution_count": 8,
   "metadata": {},
   "outputs": [
    {
     "name": "stdout",
     "output_type": "stream",
     "text": [
      "{0.99: [], 0.98: [(60.0, 120.0), (80.0, 480.0)], 0.95: [(60.0, 50.0), (80.0, 90.0), (100.0, 120.0), (120.0, 203.33333333333334)], 0.9: [(60.0, 40.0), (80.0, 60.0), (100.0, 76.66666666666667), (120.0, 100.0), (140.0, 140.0), (160.0, 206.66666666666666), (180.0, 256.6666666666667), (200.0, 286.6666666666667), (220.0, 353.3333333333333), (240.0, 403.3333333333333), (260.0, 540.0), (280.0, 665.0)], 0.85: [(60.0, 30.0), (80.0, 40.0), (100.0, 60.0), (120.0, 76.66666666666667), (140.0, 93.33333333333333), (160.0, 133.33333333333334), (180.0, 170.0), (200.0, 183.33333333333334), (220.0, 206.66666666666666), (240.0, 230.0), (260.0, 270.0), (280.0, 346.6666666666667), (300.0, 340.0), (320.0, 493.3333333333333), (340.0, 553.3333333333334), (360.0, 645.0), (380.0, 663.3333333333334), (400.0, 670.0)], 0.8: [(60.0, 26.666666666666668), (80.0, 30.0), (100.0, 50.0), (120.0, 53.333333333333336), (140.0, 76.66666666666667), (160.0, 96.66666666666667), (180.0, 116.66666666666667), (200.0, 126.66666666666667), (220.0, 143.33333333333334), (240.0, 153.33333333333334), (260.0, 193.33333333333334), (280.0, 220.0), (300.0, 213.33333333333334), (320.0, 283.3333333333333), (340.0, 326.6666666666667), (360.0, 360.0), (380.0, 396.6666666666667), (400.0, 430.0), (420.0, 503.3333333333333), (440.0, 543.3333333333334), (460.0, 576.6666666666666), (480.0, 776.6666666666666), (500.0, 796.6666666666666), (520.0, 900.0)], 0.75: [(60.0, 20.0), (80.0, 30.0), (110.0, 40.0), (140.0, 50.0), (160.0, 66.66666666666667), (180.0, 83.33333333333333), (200.0, 90.0), (220.0, 86.66666666666667), (240.0, 110.0), (270.0, 130.0), (300.0, 140.0), (320.0, 193.33333333333334), (340.0, 173.33333333333334), (360.0, 240.0), (380.0, 266.6666666666667), (400.0, 293.3333333333333), (420.0, 273.3333333333333), (440.0, 350.0), (460.0, 320.0), (480.0, 366.6666666666667), (500.0, 453.3333333333333), (520.0, 476.6666666666667), (540.0, 746.6666666666666), (560.0, 656.6666666666666), (580.0, 796.6666666666666), (600.0, 640.0), (620.0, 845.0), (640.0, 885.0), (660.0, 880.0)], 0.7: [(70.0, 20.0), (100.0, 30.0), (120.0, 33.333333333333336), (140.0, 36.666666666666664), (160.0, 50.0), (190.0, 60.0), (220.0, 70.0), (240.0, 73.33333333333333), (260.0, 83.33333333333333), (280.0, 96.66666666666667), (300.0, 93.33333333333333), (320.0, 126.66666666666667), (340.0, 113.33333333333333), (360.0, 146.66666666666666), (380.0, 160.0), (400.0, 150.0), (420.0, 166.66666666666666), (440.0, 180.0), (460.0, 203.33333333333334), (480.0, 213.33333333333334), (500.0, 240.0), (520.0, 266.6666666666667), (540.0, 343.3333333333333), (560.0, 306.6666666666667), (613.3333333333334, 416.6666666666667), (600.0, 336.6666666666667), (660.0, 426.6666666666667), (680.0, 610.0), (700.0, 650.0)], 0.65: [(70.0, 20.0), (100.0, 26.666666666666668), (130.0, 30.0), (180.0, 40.0), (220.0, 46.666666666666664), (240.0, 50.0), (260.0, 60.0), (280.0, 63.333333333333336), (300.0, 66.66666666666667), (320.0, 80.0), (340.0, 73.33333333333333), (360.0, 83.33333333333333), (380.0, 93.33333333333333), (400.0, 100.0), (420.0, 96.66666666666667), (440.0, 103.33333333333333), (460.0, 126.66666666666667), (480.0, 120.0), (500.0, 116.66666666666667), (520.0, 136.66666666666666), (540.0, 183.33333333333334), (560.0, 160.0), (580.0, 213.33333333333334), (600.0, 203.33333333333334), (620.0, 196.66666666666666), (640.0, 180.0), (660.0, 186.66666666666666), (680.0, 200.0), (700.0, 320.0)], 0.6: [(60.0, 10.0), (100.0, 20.0), (140.0, 23.333333333333332), (180.0, 30.0), (220.0, 33.333333333333336), (260.0, 40.0), (260.0, 43.333333333333336), (300.0, 46.666666666666664), (330.0, 50.0), (370.0, 60.0), (430.0, 73.33333333333333), (420.0, 66.66666666666667), (440.0, 70.0), (490.0, 80.0), (520.0, 76.66666666666667), (570.0, 110.0), (560.0, 103.33333333333333), (580.0, 120.0), (620.0, 96.66666666666667), (640.0, 100.0), (660.0, 113.33333333333333), (680.0, 106.66666666666667), (700.0, 150.0)], 0.55: [(60.0, 10.0), (80.0, 16.666666666666668), (140.0, 20.0), (200.0, 26.666666666666668), (260.0, 30.0), (350.0, 40.0), (400.0, 43.333333333333336), (430.0, 46.666666666666664), (470.0, 50.0), (500.0, 53.333333333333336), (540.0, 60.0), (640.0, 70.0), (620.0, 66.66666666666667), (700.0, 83.33333333333333)], 0.5: [(70.0, 10.0), (100.0, 16.666666666666668), (170.0, 20.0), (240.0, 26.666666666666668), (310.0, 30.0), (380.0, 33.333333333333336), (445.0, 40.0), (420.0, 36.666666666666664), (500.0, 43.333333333333336), (530.0, 46.666666666666664), (608.0, 50.0), (650.0, 53.333333333333336), (700.0, 66.66666666666667)], 0.45: [(80.0, 10.0), (120.0, 16.666666666666668), (210.0, 20.0), (300.0, 26.666666666666668), (390.0, 30.0), (480.0, 36.666666666666664), (544.0, 40.0), (626.6666666666666, 43.333333333333336), (620.0, 46.666666666666664), (680.0, 50.0), (700.0, 53.333333333333336)], 0.4: [(90.0, 10.0), (140.0, 13.333333333333334), (250.0, 20.0), (360.0, 23.333333333333332), (450.0, 30.0), (580.0, 33.333333333333336), (580.0, 36.666666666666664), (652.0, 40.0)], 0.35: [(100.0, 10.0), (160.0, 16.666666666666668), (306.15384615384613, 20.0), (410.0, 23.333333333333332), (580.0, 30.0), (700.0, 36.666666666666664)], 0.3: [(120.0, 10.0), (200.0, 16.666666666666668), (350.0, 20.0), (520.0, 23.333333333333332), (630.0, 30.0)]}\n"
     ]
    }
   ],
   "source": [
    "# Function to process each list of pairs\n",
    "def process_pairs(pairs):\n",
    "    # Group by Y-value\n",
    "    grouped_by_y = defaultdict(list)\n",
    "    for x, y in pairs:\n",
    "        grouped_by_y[y].append(x)\n",
    "    \n",
    "    # Calculate average X for each Y and create new pairs\n",
    "    new_pairs = [(sum(xs) / len(xs), y) for y, xs in grouped_by_y.items()]\n",
    "    \n",
    "    return new_pairs\n",
    "\n",
    "# Process each key in the dictionary\n",
    "restructured_dict1 = {key: process_pairs(value) for key, value in restructured_dict.items()}\n",
    "\n",
    "print(restructured_dict1)"
   ]
  },
  {
   "cell_type": "markdown",
   "metadata": {},
   "source": [
    "For each accuracy threshold, plot points (square root of conductor, required number of ap's) in a different color, then fit a line for each separate threshold."
   ]
  },
  {
   "cell_type": "code",
   "execution_count": 9,
   "metadata": {},
   "outputs": [
    {
     "name": "stderr",
     "output_type": "stream",
     "text": [
      "<>:37: SyntaxWarning: invalid escape sequence '\\s'\n",
      "<>:37: SyntaxWarning: invalid escape sequence '\\s'\n",
      "/var/folders/yf/__s9cndj6xs_hcwfwx8md2cm0000gp/T/ipykernel_15318/3289405367.py:37: SyntaxWarning: invalid escape sequence '\\s'\n",
      "  plt.xlabel('$\\sqrt{N}$, where $N=Conductor$')\n"
     ]
    },
    {
     "data": {
      "image/png": "[encoded data removed]",
      "text/plain": [
       "<Figure size 1000x1000 with 1 Axes>"
      ]
     },
     "metadata": {},
     "output_type": "display_data"
    }
   ],
   "source": [
    "# Define colors for each subdictionary\n",
    "colors = {0.99:'red', 0.98: 'green', 0.95: 'blue', 0.9: 'cyan', 0.85: 'magenta', 0.8: 'gold', 0.75: 'black', 0.7: 'orange',\n",
    "          0.65: 'purple', 0.6: 'pink', 0.55: 'brown', 0.5: 'gray', 0.45: 'olive', 0.4: 'lime', 0.35: 'teal', 0.3: 'navy'}\n",
    "\n",
    "plt.figure(figsize=(10, 10))\n",
    "\n",
    "for accuracy, pairs in restructured_dict.items():\n",
    "    if accuracy>0.5 and accuracy<0.98:\n",
    "    # Remove pairs with 'nan' values\n",
    "        cleaned_pairs = [(x, y) for x, y in pairs if y > 0]\n",
    "        if cleaned_pairs:\n",
    "            x_vals, y_vals = zip(*cleaned_pairs)\n",
    "            #y_vals = [math.log(y, 2) for y in y_vals]\n",
    "            # Convert to numpy arrays for linear regression\n",
    "            x_np = np.array(x_vals, dtype=np.float64)\n",
    "            y_np = np.array(y_vals, dtype=np.float64)\n",
    "            # Calculate the coefficients of the line of best fit\n",
    "            m, b = np.polyfit(x_np, y_np, 1)\n",
    "            # Calculate predictions\n",
    "            y_pred = m * x_np + b\n",
    "\n",
    "            # Calculate R^2\n",
    "            ss_res = np.sum((y_np - y_pred) ** 2)\n",
    "            ss_tot = np.sum((y_np - np.mean(y_np)) ** 2)\n",
    "            r_squared = 1 - (ss_res / ss_tot)\n",
    "\n",
    "            # Plot the cleaned scatter plot\n",
    "            plt.scatter(x_vals, y_vals, color=colors[accuracy])\n",
    "            # Plot the line of best fit\n",
    "            plt.plot(x_np, y_pred, color=colors[accuracy], label=f'MCC {accuracy}: y = {m:.2f}x + {b:.2f}, $R^2$ = {r_squared:.2f}')\n",
    "\n",
    "# Set the limits of the x and y axes\n",
    "plt.xlim(50, 750)\n",
    "plt.ylim(0, 1000)\n",
    "\n",
    "# Add labels and legend\n",
    "plt.xlabel('$\\sqrt{N}$, where $N=Conductor$')\n",
    "plt.ylabel(\"Required number of ap's\")\n",
    "plt.title('Plotting the required number of ap values for different performance levels')\n",
    "plt.legend()\n",
    "\n",
    "# Show the plot\n",
    "plt.show()"
   ]
  },
  {
   "cell_type": "code",
   "execution_count": 11,
   "metadata": {},
   "outputs": [
    {
     "data": {
      "image/png": "[encoded data removed]",
      "text/plain": [
       "<Figure size 640x480 with 1 Axes>"
      ]
     },
     "metadata": {},
     "output_type": "display_data"
    }
   ],
   "source": [
    "accs=np.array([0.7, 0.75, 0.8, 0.85, 0.9, 0.95, 0.98, 0.99])\n",
    "slopes = np.array([0, 0, 0, 0, 0.06, 0.1, 0.24, 0.62])\n",
    "plt.scatter(accs, slopes)\n",
    "a, b, c= np.polyfit(accs, slopes, 2)\n",
    "# Create a polynomial function from the coefficients\n",
    "p = np.poly1d([a, b, c])\n",
    "\n",
    "# Generate a range of x-values for plotting the polynomial\n",
    "x_range = np.linspace(accs.min(), accs.max(), 100)\n",
    "\n",
    "# Calculate the corresponding y-values using the polynomial function\n",
    "y_poly = p(x_range)\n",
    "\n",
    "# Plotting\n",
    "plt.scatter(accs, slopes, label='Data points')\n",
    "plt.plot(x_range, y_poly, color='red', label='Polynomial fit')\n",
    "plt.legend()\n",
    "plt.show()\n"
   ]
  },
  {
   "cell_type": "code",
   "execution_count": 12,
   "metadata": {},
   "outputs": [
    {
     "data": {
      "text/plain": [
       "np.float64(0.4589620136175325)"
      ]
     },
     "execution_count": 12,
     "metadata": {},
     "output_type": "execute_result"
    }
   ],
   "source": [
    "p(1)"
   ]
  },
  {
   "cell_type": "code",
   "execution_count": 21,
   "metadata": {},
   "outputs": [],
   "source": [
    "import json\n",
    "\n",
    "# Specify the file name\n",
    "file_name = 'mcc_arith_cond_v1.json'\n",
    "\n",
    "# Write the dictionary to a JSON file\n",
    "with open(file_name, 'w') as json_file:\n",
    "    json.dump(res_dict, json_file, indent=4)  # indent=4 is optional, it just makes the file more readable\n"
   ]
  },
  {
   "cell_type": "code",
   "execution_count": null,
   "metadata": {},
   "outputs": [],
   "source": []
  }
 ],
 "metadata": {
  "kernelspec": {
   "display_name": "Python 3",
   "language": "python",
   "name": "python3"
  },
  "language_info": {
   "codemirror_mode": {
    "name": "ipython",
    "version": 3
   },
   "file_extension": ".py",
   "mimetype": "text/x-python",
   "name": "python",
   "nbconvert_exporter": "python",
   "pygments_lexer": "ipython3",
   "version": "3.12.0"
  }
 },
 "nbformat": 4,
 "nbformat_minor": 2
}
