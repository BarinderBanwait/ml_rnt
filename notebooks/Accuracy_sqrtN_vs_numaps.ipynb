{
 "cells": [
  {
   "cell_type": "code",
   "execution_count": 1,
   "metadata": {},
   "outputs": [],
   "source": [
    "from sklearn.linear_model import LogisticRegression\n",
    "from collections import defaultdict\n",
    "import numpy as np\n",
    "import utils\n",
    "import matplotlib.pyplot as plt\n",
    "import math"
   ]
  },
  {
   "cell_type": "code",
   "execution_count": 2,
   "metadata": {},
   "outputs": [],
   "source": [
    "#class TwoLayerNet(nn.Module):\n",
    "#    def __init__(self, input_size):\n",
    "#        super(TwoLayerNet, self).__init__()\n",
    "#        self.fc1 = nn.Linear(input_size, 20)\n",
    "#        self.relu = nn.ReLU()\n",
    "#        self.fc2 = nn.Linear(20, 1)\n",
    "#        self.sigmoid = nn.Sigmoid()\n",
    "\n",
    "#    def forward(self, x):\n",
    "#        x = self.fc1(x)\n",
    "#        x = self.relu(x)\n",
    "#        x = self.fc2(x)\n",
    "#        x = self.sigmoid(x)\n",
    "#        return x"
   ]
  },
  {
   "cell_type": "code",
   "execution_count": 3,
   "metadata": {},
   "outputs": [
    {
     "name": "stdout",
     "output_type": "stream",
     "text": [
      "Loaded the big dataset with 1000 a_p's and 2076146 curves..\n"
     ]
    }
   ],
   "source": [
    "path = r\"../data_files/custom_dataset.parquet\"\n",
    "df = utils.load_data(path)\n",
    "\n",
    "#divide among high and low rank (0&1 low, 2&3 high)\n",
    "#df['rank'] = df['rank'].apply(lambda x: 0 if x < 2 else 1)\n"
   ]
  },
  {
   "cell_type": "code",
   "execution_count": 4,
   "metadata": {},
   "outputs": [
    {
     "data": {
      "text/html": [
       "<div>\n",
       "<style scoped>\n",
       "    .dataframe tbody tr th:only-of-type {\n",
       "        vertical-align: middle;\n",
       "    }\n",
       "\n",
       "    .dataframe tbody tr th {\n",
       "        vertical-align: top;\n",
       "    }\n",
       "\n",
       "    .dataframe thead th {\n",
       "        text-align: right;\n",
       "    }\n",
       "</style>\n",
       "<table border=\"1\" class=\"dataframe\">\n",
       "  <thead>\n",
       "    <tr style=\"text-align: right;\">\n",
       "      <th></th>\n",
       "      <th>2</th>\n",
       "      <th>3</th>\n",
       "      <th>5</th>\n",
       "      <th>7</th>\n",
       "      <th>11</th>\n",
       "      <th>13</th>\n",
       "      <th>17</th>\n",
       "      <th>19</th>\n",
       "      <th>23</th>\n",
       "      <th>29</th>\n",
       "      <th>...</th>\n",
       "      <th>7867</th>\n",
       "      <th>7873</th>\n",
       "      <th>7877</th>\n",
       "      <th>7879</th>\n",
       "      <th>7883</th>\n",
       "      <th>7901</th>\n",
       "      <th>7907</th>\n",
       "      <th>7919</th>\n",
       "      <th>conductor</th>\n",
       "      <th>rank</th>\n",
       "    </tr>\n",
       "  </thead>\n",
       "  <tbody>\n",
       "    <tr>\n",
       "      <th>0</th>\n",
       "      <td>-0.7071</td>\n",
       "      <td>-0.866</td>\n",
       "      <td>-0.4472</td>\n",
       "      <td>-0.1890</td>\n",
       "      <td>-0.7538</td>\n",
       "      <td>-0.2774</td>\n",
       "      <td>0.0000</td>\n",
       "      <td>0.0000</td>\n",
       "      <td>0.2085</td>\n",
       "      <td>0.5571</td>\n",
       "      <td>...</td>\n",
       "      <td>-0.0113</td>\n",
       "      <td>-0.1803</td>\n",
       "      <td>0.4169</td>\n",
       "      <td>0.6422</td>\n",
       "      <td>-0.6420</td>\n",
       "      <td>-0.5400</td>\n",
       "      <td>-0.0169</td>\n",
       "      <td>0.0843</td>\n",
       "      <td>37.0</td>\n",
       "      <td>1</td>\n",
       "    </tr>\n",
       "    <tr>\n",
       "      <th>1</th>\n",
       "      <td>-0.3536</td>\n",
       "      <td>-0.866</td>\n",
       "      <td>0.0000</td>\n",
       "      <td>-0.7559</td>\n",
       "      <td>0.0000</td>\n",
       "      <td>-0.4160</td>\n",
       "      <td>-0.3638</td>\n",
       "      <td>-0.5735</td>\n",
       "      <td>0.7298</td>\n",
       "      <td>-0.6499</td>\n",
       "      <td>...</td>\n",
       "      <td>-0.2762</td>\n",
       "      <td>0.9354</td>\n",
       "      <td>0.8901</td>\n",
       "      <td>0.7210</td>\n",
       "      <td>-0.1971</td>\n",
       "      <td>-0.3938</td>\n",
       "      <td>-0.1462</td>\n",
       "      <td>0.4439</td>\n",
       "      <td>53.0</td>\n",
       "      <td>1</td>\n",
       "    </tr>\n",
       "    <tr>\n",
       "      <th>2</th>\n",
       "      <td>-0.3536</td>\n",
       "      <td>-0.866</td>\n",
       "      <td>-0.6708</td>\n",
       "      <td>-0.3780</td>\n",
       "      <td>-0.1508</td>\n",
       "      <td>0.4160</td>\n",
       "      <td>-0.4851</td>\n",
       "      <td>-0.9177</td>\n",
       "      <td>0.0000</td>\n",
       "      <td>-0.0928</td>\n",
       "      <td>...</td>\n",
       "      <td>-0.7385</td>\n",
       "      <td>-0.1352</td>\n",
       "      <td>0.5746</td>\n",
       "      <td>0.5408</td>\n",
       "      <td>-0.8222</td>\n",
       "      <td>-0.1519</td>\n",
       "      <td>-0.1574</td>\n",
       "      <td>0.3765</td>\n",
       "      <td>58.0</td>\n",
       "      <td>1</td>\n",
       "    </tr>\n",
       "    <tr>\n",
       "      <th>3</th>\n",
       "      <td>0.0000</td>\n",
       "      <td>-0.866</td>\n",
       "      <td>-0.2236</td>\n",
       "      <td>-0.1890</td>\n",
       "      <td>-0.1508</td>\n",
       "      <td>-0.5547</td>\n",
       "      <td>0.2425</td>\n",
       "      <td>-0.6882</td>\n",
       "      <td>-0.5213</td>\n",
       "      <td>0.9285</td>\n",
       "      <td>...</td>\n",
       "      <td>0.3270</td>\n",
       "      <td>0.6199</td>\n",
       "      <td>0.5521</td>\n",
       "      <td>-0.4337</td>\n",
       "      <td>-0.7997</td>\n",
       "      <td>-0.3994</td>\n",
       "      <td>-0.9165</td>\n",
       "      <td>-0.0225</td>\n",
       "      <td>77.0</td>\n",
       "      <td>1</td>\n",
       "    </tr>\n",
       "    <tr>\n",
       "      <th>4</th>\n",
       "      <td>0.0000</td>\n",
       "      <td>-0.866</td>\n",
       "      <td>-0.6708</td>\n",
       "      <td>-0.3780</td>\n",
       "      <td>-0.1508</td>\n",
       "      <td>0.0000</td>\n",
       "      <td>-0.7276</td>\n",
       "      <td>0.4588</td>\n",
       "      <td>0.1043</td>\n",
       "      <td>-0.7428</td>\n",
       "      <td>...</td>\n",
       "      <td>-0.2480</td>\n",
       "      <td>0.0338</td>\n",
       "      <td>0.0338</td>\n",
       "      <td>-0.3323</td>\n",
       "      <td>-0.2703</td>\n",
       "      <td>0.3319</td>\n",
       "      <td>-0.4105</td>\n",
       "      <td>-0.5394</td>\n",
       "      <td>88.0</td>\n",
       "      <td>1</td>\n",
       "    </tr>\n",
       "  </tbody>\n",
       "</table>\n",
       "<p>5 rows × 1002 columns</p>\n",
       "</div>"
      ],
      "text/plain": [
       "        2      3       5       7      11      13      17      19      23  \\\n",
       "0 -0.7071 -0.866 -0.4472 -0.1890 -0.7538 -0.2774  0.0000  0.0000  0.2085   \n",
       "1 -0.3536 -0.866  0.0000 -0.7559  0.0000 -0.4160 -0.3638 -0.5735  0.7298   \n",
       "2 -0.3536 -0.866 -0.6708 -0.3780 -0.1508  0.4160 -0.4851 -0.9177  0.0000   \n",
       "3  0.0000 -0.866 -0.2236 -0.1890 -0.1508 -0.5547  0.2425 -0.6882 -0.5213   \n",
       "4  0.0000 -0.866 -0.6708 -0.3780 -0.1508  0.0000 -0.7276  0.4588  0.1043   \n",
       "\n",
       "       29  ...    7867    7873    7877    7879    7883    7901    7907  \\\n",
       "0  0.5571  ... -0.0113 -0.1803  0.4169  0.6422 -0.6420 -0.5400 -0.0169   \n",
       "1 -0.6499  ... -0.2762  0.9354  0.8901  0.7210 -0.1971 -0.3938 -0.1462   \n",
       "2 -0.0928  ... -0.7385 -0.1352  0.5746  0.5408 -0.8222 -0.1519 -0.1574   \n",
       "3  0.9285  ...  0.3270  0.6199  0.5521 -0.4337 -0.7997 -0.3994 -0.9165   \n",
       "4 -0.7428  ... -0.2480  0.0338  0.0338 -0.3323 -0.2703  0.3319 -0.4105   \n",
       "\n",
       "     7919  conductor  rank  \n",
       "0  0.0843       37.0     1  \n",
       "1  0.4439       53.0     1  \n",
       "2  0.3765       58.0     1  \n",
       "3 -0.0225       77.0     1  \n",
       "4 -0.5394       88.0     1  \n",
       "\n",
       "[5 rows x 1002 columns]"
      ]
     },
     "execution_count": 4,
     "metadata": {},
     "output_type": "execute_result"
    }
   ],
   "source": [
    "df.head()"
   ]
  },
  {
   "cell_type": "markdown",
   "metadata": {},
   "source": [
    "Import utilities and obtain dictionary of accuracies"
   ]
  },
  {
   "cell_type": "code",
   "execution_count": 5,
   "metadata": {},
   "outputs": [
    {
     "name": "stdout",
     "output_type": "stream",
     "text": [
      "**************************************************\n",
      "Generating the accuracy by the number of a_p's dataframe for range [1024, 2048]..\n",
      "There are 579 curves within the conductor range [1024, 2048].\n"
     ]
    },
    {
     "name": "stderr",
     "output_type": "stream",
     "text": [
      "/Users/angelicababei/ml_rnt/notebooks/utils.py:112: FutureWarning: The behavior of DataFrame concatenation with empty or all-NA entries is deprecated. In a future version, this will no longer exclude empty or all-NA columns when determining the result dtypes. To retain the old behavior, exclude the relevant entries before the concat operation.\n",
      "  res_df = pd.concat([res_df, pd.DataFrame({'num_a_p': i, 'accuracy': res}, index = [0])], ignore_index = True)\n"
     ]
    },
    {
     "name": "stdout",
     "output_type": "stream",
     "text": [
      "Conductor with exponent 3.0102999566398116 needs the following number of ap values: {0.99: 10.0, 0.98: 10.0, 0.95: 10.0, 0.9: 10.0, 0.85: 10.0, 0.8: 10.0, 0.75: 10.0, 0.7: 10.0}\n",
      "**************************************************\n",
      "Generating the accuracy by the number of a_p's dataframe for range [2048, 4096]..\n",
      "There are 940 curves within the conductor range [2048, 4096].\n"
     ]
    },
    {
     "name": "stderr",
     "output_type": "stream",
     "text": [
      "/Users/angelicababei/ml_rnt/notebooks/utils.py:112: FutureWarning: The behavior of DataFrame concatenation with empty or all-NA entries is deprecated. In a future version, this will no longer exclude empty or all-NA columns when determining the result dtypes. To retain the old behavior, exclude the relevant entries before the concat operation.\n",
      "  res_df = pd.concat([res_df, pd.DataFrame({'num_a_p': i, 'accuracy': res}, index = [0])], ignore_index = True)\n"
     ]
    },
    {
     "name": "stdout",
     "output_type": "stream",
     "text": [
      "Conductor with exponent 3.311329952303793 needs the following number of ap values: {0.95: 20.0, 0.9: 10.0, 0.85: 10.0, 0.8: 10.0, 0.75: 10.0, 0.7: 10.0}\n",
      "**************************************************\n",
      "Generating the accuracy by the number of a_p's dataframe for range [4096, 8192]..\n",
      "There are 1540 curves within the conductor range [4096, 8192].\n"
     ]
    },
    {
     "name": "stderr",
     "output_type": "stream",
     "text": [
      "/Users/angelicababei/ml_rnt/notebooks/utils.py:112: FutureWarning: The behavior of DataFrame concatenation with empty or all-NA entries is deprecated. In a future version, this will no longer exclude empty or all-NA columns when determining the result dtypes. To retain the old behavior, exclude the relevant entries before the concat operation.\n",
      "  res_df = pd.concat([res_df, pd.DataFrame({'num_a_p': i, 'accuracy': res}, index = [0])], ignore_index = True)\n"
     ]
    },
    {
     "name": "stdout",
     "output_type": "stream",
     "text": [
      "Conductor with exponent 3.6123599479677737 needs the following number of ap values: {0.99: 20.0, 0.98: 20.0, 0.95: 10.0, 0.9: 10.0, 0.85: 10.0, 0.8: 10.0, 0.75: 10.0, 0.7: 10.0}\n",
      "**************************************************\n",
      "Generating the accuracy by the number of a_p's dataframe for range [8192, 16384]..\n",
      "There are 2452 curves within the conductor range [8192, 16384].\n"
     ]
    },
    {
     "name": "stderr",
     "output_type": "stream",
     "text": [
      "/Users/angelicababei/ml_rnt/notebooks/utils.py:112: FutureWarning: The behavior of DataFrame concatenation with empty or all-NA entries is deprecated. In a future version, this will no longer exclude empty or all-NA columns when determining the result dtypes. To retain the old behavior, exclude the relevant entries before the concat operation.\n",
      "  res_df = pd.concat([res_df, pd.DataFrame({'num_a_p': i, 'accuracy': res}, index = [0])], ignore_index = True)\n"
     ]
    },
    {
     "name": "stdout",
     "output_type": "stream",
     "text": [
      "Conductor with exponent 3.913389943631755 needs the following number of ap values: {0.98: 40.0, 0.95: 20.0, 0.9: 10.0, 0.85: 10.0, 0.8: 10.0, 0.75: 10.0, 0.7: 10.0}\n",
      "**************************************************\n",
      "Generating the accuracy by the number of a_p's dataframe for range [16384, 32768]..\n",
      "There are 3812 curves within the conductor range [16384, 32768].\n"
     ]
    },
    {
     "name": "stderr",
     "output_type": "stream",
     "text": [
      "/Users/angelicababei/ml_rnt/notebooks/utils.py:112: FutureWarning: The behavior of DataFrame concatenation with empty or all-NA entries is deprecated. In a future version, this will no longer exclude empty or all-NA columns when determining the result dtypes. To retain the old behavior, exclude the relevant entries before the concat operation.\n",
      "  res_df = pd.concat([res_df, pd.DataFrame({'num_a_p': i, 'accuracy': res}, index = [0])], ignore_index = True)\n"
     ]
    },
    {
     "name": "stdout",
     "output_type": "stream",
     "text": [
      "Conductor with exponent 4.214419939295736 needs the following number of ap values: {0.98: 100.0, 0.95: 20.0, 0.9: 10.0, 0.85: 10.0, 0.8: 10.0, 0.75: 10.0, 0.7: 10.0}\n",
      "**************************************************\n",
      "Generating the accuracy by the number of a_p's dataframe for range [32768, 65536]..\n",
      "There are 5718 curves within the conductor range [32768, 65536].\n"
     ]
    },
    {
     "name": "stderr",
     "output_type": "stream",
     "text": [
      "/Users/angelicababei/ml_rnt/notebooks/utils.py:112: FutureWarning: The behavior of DataFrame concatenation with empty or all-NA entries is deprecated. In a future version, this will no longer exclude empty or all-NA columns when determining the result dtypes. To retain the old behavior, exclude the relevant entries before the concat operation.\n",
      "  res_df = pd.concat([res_df, pd.DataFrame({'num_a_p': i, 'accuracy': res}, index = [0])], ignore_index = True)\n"
     ]
    },
    {
     "name": "stdout",
     "output_type": "stream",
     "text": [
      "Conductor with exponent 4.515449934959717 needs the following number of ap values: {0.98: 70.0, 0.95: 30.0, 0.9: 10.0, 0.85: 10.0, 0.8: 10.0, 0.75: 10.0, 0.7: 10.0}\n",
      "**************************************************\n",
      "Generating the accuracy by the number of a_p's dataframe for range [65536, 131072]..\n",
      "There are 7943 curves within the conductor range [65536, 131072].\n"
     ]
    },
    {
     "name": "stderr",
     "output_type": "stream",
     "text": [
      "/Users/angelicababei/ml_rnt/notebooks/utils.py:112: FutureWarning: The behavior of DataFrame concatenation with empty or all-NA entries is deprecated. In a future version, this will no longer exclude empty or all-NA columns when determining the result dtypes. To retain the old behavior, exclude the relevant entries before the concat operation.\n",
      "  res_df = pd.concat([res_df, pd.DataFrame({'num_a_p': i, 'accuracy': res}, index = [0])], ignore_index = True)\n"
     ]
    },
    {
     "name": "stdout",
     "output_type": "stream",
     "text": [
      "Conductor with exponent 4.816479930623698 needs the following number of ap values: {0.98: 80.0, 0.95: 30.0, 0.9: 20.0, 0.85: 10.0, 0.8: 10.0, 0.75: 10.0, 0.7: 10.0}\n",
      "**************************************************\n",
      "Generating the accuracy by the number of a_p's dataframe for range [131072, 262144]..\n",
      "There are 10027 curves within the conductor range [131072, 262144].\n"
     ]
    },
    {
     "name": "stderr",
     "output_type": "stream",
     "text": [
      "/Users/angelicababei/ml_rnt/notebooks/utils.py:112: FutureWarning: The behavior of DataFrame concatenation with empty or all-NA entries is deprecated. In a future version, this will no longer exclude empty or all-NA columns when determining the result dtypes. To retain the old behavior, exclude the relevant entries before the concat operation.\n",
      "  res_df = pd.concat([res_df, pd.DataFrame({'num_a_p': i, 'accuracy': res}, index = [0])], ignore_index = True)\n"
     ]
    },
    {
     "name": "stdout",
     "output_type": "stream",
     "text": [
      "Conductor with exponent 5.1175099262876795 needs the following number of ap values: {0.95: 40.0, 0.9: 20.0, 0.85: 10.0, 0.8: 10.0, 0.75: 10.0, 0.7: 10.0}\n",
      "**************************************************\n",
      "Generating the accuracy by the number of a_p's dataframe for range [262144, 524288]..\n",
      "There are 13006 curves within the conductor range [262144, 524288].\n"
     ]
    },
    {
     "name": "stderr",
     "output_type": "stream",
     "text": [
      "/Users/angelicababei/ml_rnt/notebooks/utils.py:112: FutureWarning: The behavior of DataFrame concatenation with empty or all-NA entries is deprecated. In a future version, this will no longer exclude empty or all-NA columns when determining the result dtypes. To retain the old behavior, exclude the relevant entries before the concat operation.\n",
      "  res_df = pd.concat([res_df, pd.DataFrame({'num_a_p': i, 'accuracy': res}, index = [0])], ignore_index = True)\n"
     ]
    },
    {
     "name": "stdout",
     "output_type": "stream",
     "text": [
      "Conductor with exponent 5.418539921951661 needs the following number of ap values: {0.95: 80.0, 0.9: 30.0, 0.85: 20.0, 0.8: 10.0, 0.75: 10.0, 0.7: 10.0}\n",
      "**************************************************\n",
      "Generating the accuracy by the number of a_p's dataframe for range [524288, 1048576]..\n",
      "There are 16532 curves within the conductor range [524288, 1048576].\n"
     ]
    },
    {
     "name": "stderr",
     "output_type": "stream",
     "text": [
      "/Users/angelicababei/ml_rnt/notebooks/utils.py:112: FutureWarning: The behavior of DataFrame concatenation with empty or all-NA entries is deprecated. In a future version, this will no longer exclude empty or all-NA columns when determining the result dtypes. To retain the old behavior, exclude the relevant entries before the concat operation.\n",
      "  res_df = pd.concat([res_df, pd.DataFrame({'num_a_p': i, 'accuracy': res}, index = [0])], ignore_index = True)\n"
     ]
    },
    {
     "name": "stdout",
     "output_type": "stream",
     "text": [
      "Conductor with exponent 5.719569917615642 needs the following number of ap values: {0.95: 110.0, 0.9: 30.0, 0.85: 20.0, 0.8: 10.0, 0.75: 10.0, 0.7: 10.0}\n",
      "**************************************************\n",
      "Generating the accuracy by the number of a_p's dataframe for range [1048576, 2097152]..\n",
      "There are 18391 curves within the conductor range [1048576, 2097152].\n"
     ]
    },
    {
     "name": "stderr",
     "output_type": "stream",
     "text": [
      "/Users/angelicababei/ml_rnt/notebooks/utils.py:112: FutureWarning: The behavior of DataFrame concatenation with empty or all-NA entries is deprecated. In a future version, this will no longer exclude empty or all-NA columns when determining the result dtypes. To retain the old behavior, exclude the relevant entries before the concat operation.\n",
      "  res_df = pd.concat([res_df, pd.DataFrame({'num_a_p': i, 'accuracy': res}, index = [0])], ignore_index = True)\n"
     ]
    },
    {
     "name": "stdout",
     "output_type": "stream",
     "text": [
      "Conductor with exponent 6.020599913279623 needs the following number of ap values: {0.95: 70.0, 0.9: 30.0, 0.85: 20.0, 0.8: 10.0, 0.75: 10.0, 0.7: 10.0}\n",
      "**************************************************\n",
      "Generating the accuracy by the number of a_p's dataframe for range [2097152, 4194304]..\n",
      "There are 22498 curves within the conductor range [2097152, 4194304].\n"
     ]
    },
    {
     "name": "stderr",
     "output_type": "stream",
     "text": [
      "/Users/angelicababei/ml_rnt/notebooks/utils.py:112: FutureWarning: The behavior of DataFrame concatenation with empty or all-NA entries is deprecated. In a future version, this will no longer exclude empty or all-NA columns when determining the result dtypes. To retain the old behavior, exclude the relevant entries before the concat operation.\n",
      "  res_df = pd.concat([res_df, pd.DataFrame({'num_a_p': i, 'accuracy': res}, index = [0])], ignore_index = True)\n"
     ]
    },
    {
     "name": "stdout",
     "output_type": "stream",
     "text": [
      "Conductor with exponent 6.3216299089436045 needs the following number of ap values: {0.95: 140.0, 0.9: 30.0, 0.85: 20.0, 0.8: 20.0, 0.75: 10.0, 0.7: 10.0}\n",
      "**************************************************\n",
      "Generating the accuracy by the number of a_p's dataframe for range [4194304, 8388608]..\n",
      "There are 24752 curves within the conductor range [4194304, 8388608].\n"
     ]
    },
    {
     "name": "stderr",
     "output_type": "stream",
     "text": [
      "/Users/angelicababei/ml_rnt/notebooks/utils.py:112: FutureWarning: The behavior of DataFrame concatenation with empty or all-NA entries is deprecated. In a future version, this will no longer exclude empty or all-NA columns when determining the result dtypes. To retain the old behavior, exclude the relevant entries before the concat operation.\n",
      "  res_df = pd.concat([res_df, pd.DataFrame({'num_a_p': i, 'accuracy': res}, index = [0])], ignore_index = True)\n"
     ]
    },
    {
     "name": "stdout",
     "output_type": "stream",
     "text": [
      "Conductor with exponent 6.622659904607586 needs the following number of ap values: {0.95: 150.0, 0.9: 30.0, 0.85: 20.0, 0.8: 20.0, 0.75: 10.0, 0.7: 10.0}\n",
      "**************************************************\n",
      "Generating the accuracy by the number of a_p's dataframe for range [8388608, 16777216]..\n",
      "There are 26026 curves within the conductor range [8388608, 16777216].\n"
     ]
    },
    {
     "name": "stderr",
     "output_type": "stream",
     "text": [
      "/Users/angelicababei/ml_rnt/notebooks/utils.py:112: FutureWarning: The behavior of DataFrame concatenation with empty or all-NA entries is deprecated. In a future version, this will no longer exclude empty or all-NA columns when determining the result dtypes. To retain the old behavior, exclude the relevant entries before the concat operation.\n",
      "  res_df = pd.concat([res_df, pd.DataFrame({'num_a_p': i, 'accuracy': res}, index = [0])], ignore_index = True)\n"
     ]
    },
    {
     "name": "stdout",
     "output_type": "stream",
     "text": [
      "Conductor with exponent 6.923689900271567 needs the following number of ap values: {0.95: 120.0, 0.9: 30.0, 0.85: 20.0, 0.8: 10.0, 0.75: 10.0, 0.7: 10.0}\n",
      "**************************************************\n",
      "Generating the accuracy by the number of a_p's dataframe for range [16777216, 33554432]..\n",
      "There are 28254 curves within the conductor range [16777216, 33554432].\n"
     ]
    },
    {
     "name": "stderr",
     "output_type": "stream",
     "text": [
      "/Users/angelicababei/ml_rnt/notebooks/utils.py:112: FutureWarning: The behavior of DataFrame concatenation with empty or all-NA entries is deprecated. In a future version, this will no longer exclude empty or all-NA columns when determining the result dtypes. To retain the old behavior, exclude the relevant entries before the concat operation.\n",
      "  res_df = pd.concat([res_df, pd.DataFrame({'num_a_p': i, 'accuracy': res}, index = [0])], ignore_index = True)\n"
     ]
    },
    {
     "name": "stdout",
     "output_type": "stream",
     "text": [
      "Conductor with exponent 7.224719895935547 needs the following number of ap values: {0.95: 130.0, 0.9: 30.0, 0.85: 20.0, 0.8: 20.0, 0.75: 10.0, 0.7: 10.0}\n",
      "**************************************************\n",
      "Generating the accuracy by the number of a_p's dataframe for range [33554432, 67108864]..\n",
      "There are 30680 curves within the conductor range [33554432, 67108864].\n"
     ]
    },
    {
     "name": "stderr",
     "output_type": "stream",
     "text": [
      "/Users/angelicababei/ml_rnt/notebooks/utils.py:112: FutureWarning: The behavior of DataFrame concatenation with empty or all-NA entries is deprecated. In a future version, this will no longer exclude empty or all-NA columns when determining the result dtypes. To retain the old behavior, exclude the relevant entries before the concat operation.\n",
      "  res_df = pd.concat([res_df, pd.DataFrame({'num_a_p': i, 'accuracy': res}, index = [0])], ignore_index = True)\n"
     ]
    },
    {
     "name": "stdout",
     "output_type": "stream",
     "text": [
      "Conductor with exponent 7.52574989159953 needs the following number of ap values: {0.95: 290.0, 0.9: 50.0, 0.85: 20.0, 0.8: 20.0, 0.75: 10.0, 0.7: 10.0}\n",
      "**************************************************\n",
      "Generating the accuracy by the number of a_p's dataframe for range [67108864, 134217728]..\n",
      "There are 32035 curves within the conductor range [67108864, 134217728].\n"
     ]
    },
    {
     "name": "stderr",
     "output_type": "stream",
     "text": [
      "/Users/angelicababei/ml_rnt/notebooks/utils.py:112: FutureWarning: The behavior of DataFrame concatenation with empty or all-NA entries is deprecated. In a future version, this will no longer exclude empty or all-NA columns when determining the result dtypes. To retain the old behavior, exclude the relevant entries before the concat operation.\n",
      "  res_df = pd.concat([res_df, pd.DataFrame({'num_a_p': i, 'accuracy': res}, index = [0])], ignore_index = True)\n"
     ]
    },
    {
     "name": "stdout",
     "output_type": "stream",
     "text": [
      "Conductor with exponent 7.82677988726351 needs the following number of ap values: {0.95: 200.0, 0.9: 40.0, 0.85: 30.0, 0.8: 20.0, 0.75: 20.0, 0.7: 10.0}\n",
      "**************************************************\n",
      "Generating the accuracy by the number of a_p's dataframe for range [134217728, 268435456]..\n",
      "There are 34338 curves within the conductor range [134217728, 268435456].\n"
     ]
    },
    {
     "name": "stderr",
     "output_type": "stream",
     "text": [
      "/Users/angelicababei/ml_rnt/notebooks/utils.py:112: FutureWarning: The behavior of DataFrame concatenation with empty or all-NA entries is deprecated. In a future version, this will no longer exclude empty or all-NA columns when determining the result dtypes. To retain the old behavior, exclude the relevant entries before the concat operation.\n",
      "  res_df = pd.concat([res_df, pd.DataFrame({'num_a_p': i, 'accuracy': res}, index = [0])], ignore_index = True)\n"
     ]
    },
    {
     "name": "stdout",
     "output_type": "stream",
     "text": [
      "Conductor with exponent 8.127809882927492 needs the following number of ap values: {0.9: 60.0, 0.85: 30.0, 0.8: 20.0, 0.75: 20.0, 0.7: 10.0}\n",
      "**************************************************\n",
      "Generating the accuracy by the number of a_p's dataframe for range [268435456, 536870912]..\n",
      "There are 35985 curves within the conductor range [268435456, 536870912].\n"
     ]
    },
    {
     "name": "stderr",
     "output_type": "stream",
     "text": [
      "/Users/angelicababei/ml_rnt/notebooks/utils.py:112: FutureWarning: The behavior of DataFrame concatenation with empty or all-NA entries is deprecated. In a future version, this will no longer exclude empty or all-NA columns when determining the result dtypes. To retain the old behavior, exclude the relevant entries before the concat operation.\n",
      "  res_df = pd.concat([res_df, pd.DataFrame({'num_a_p': i, 'accuracy': res}, index = [0])], ignore_index = True)\n"
     ]
    },
    {
     "name": "stdout",
     "output_type": "stream",
     "text": [
      "Conductor with exponent 8.428839878591472 needs the following number of ap values: {0.9: 80.0, 0.85: 40.0, 0.8: 30.0, 0.75: 20.0, 0.7: 20.0}\n",
      "**************************************************\n",
      "Generating the accuracy by the number of a_p's dataframe for range [536870912, 1073741824]..\n",
      "There are 36195 curves within the conductor range [536870912, 1073741824].\n"
     ]
    },
    {
     "name": "stderr",
     "output_type": "stream",
     "text": [
      "/Users/angelicababei/ml_rnt/notebooks/utils.py:112: FutureWarning: The behavior of DataFrame concatenation with empty or all-NA entries is deprecated. In a future version, this will no longer exclude empty or all-NA columns when determining the result dtypes. To retain the old behavior, exclude the relevant entries before the concat operation.\n",
      "  res_df = pd.concat([res_df, pd.DataFrame({'num_a_p': i, 'accuracy': res}, index = [0])], ignore_index = True)\n"
     ]
    },
    {
     "name": "stdout",
     "output_type": "stream",
     "text": [
      "Conductor with exponent 8.729869874255455 needs the following number of ap values: {0.9: 110.0, 0.85: 50.0, 0.8: 30.0, 0.75: 20.0, 0.7: 20.0}\n",
      "**************************************************\n",
      "Generating the accuracy by the number of a_p's dataframe for range [1073741824, 2147483648]..\n",
      "There are 35555 curves within the conductor range [1073741824, 2147483648].\n"
     ]
    },
    {
     "name": "stderr",
     "output_type": "stream",
     "text": [
      "/Users/angelicababei/ml_rnt/notebooks/utils.py:112: FutureWarning: The behavior of DataFrame concatenation with empty or all-NA entries is deprecated. In a future version, this will no longer exclude empty or all-NA columns when determining the result dtypes. To retain the old behavior, exclude the relevant entries before the concat operation.\n",
      "  res_df = pd.concat([res_df, pd.DataFrame({'num_a_p': i, 'accuracy': res}, index = [0])], ignore_index = True)\n"
     ]
    },
    {
     "name": "stdout",
     "output_type": "stream",
     "text": [
      "Conductor with exponent 9.030899869919434 needs the following number of ap values: {0.9: 70.0, 0.85: 40.0, 0.8: 30.0, 0.75: 20.0, 0.7: 20.0}\n",
      "**************************************************\n",
      "Generating the accuracy by the number of a_p's dataframe for range [2147483648, 4294967296]..\n",
      "There are 36068 curves within the conductor range [2147483648, 4294967296].\n"
     ]
    },
    {
     "name": "stderr",
     "output_type": "stream",
     "text": [
      "/Users/angelicababei/ml_rnt/notebooks/utils.py:112: FutureWarning: The behavior of DataFrame concatenation with empty or all-NA entries is deprecated. In a future version, this will no longer exclude empty or all-NA columns when determining the result dtypes. To retain the old behavior, exclude the relevant entries before the concat operation.\n",
      "  res_df = pd.concat([res_df, pd.DataFrame({'num_a_p': i, 'accuracy': res}, index = [0])], ignore_index = True)\n"
     ]
    },
    {
     "name": "stdout",
     "output_type": "stream",
     "text": [
      "Conductor with exponent 9.331929865583417 needs the following number of ap values: {0.9: 120.0, 0.85: 50.0, 0.8: 30.0, 0.75: 20.0, 0.7: 20.0}\n",
      "**************************************************\n",
      "Generating the accuracy by the number of a_p's dataframe for range [4294967296, 8589934592]..\n",
      "There are 37020 curves within the conductor range [4294967296, 8589934592].\n"
     ]
    },
    {
     "name": "stderr",
     "output_type": "stream",
     "text": [
      "/Users/angelicababei/ml_rnt/notebooks/utils.py:112: FutureWarning: The behavior of DataFrame concatenation with empty or all-NA entries is deprecated. In a future version, this will no longer exclude empty or all-NA columns when determining the result dtypes. To retain the old behavior, exclude the relevant entries before the concat operation.\n",
      "  res_df = pd.concat([res_df, pd.DataFrame({'num_a_p': i, 'accuracy': res}, index = [0])], ignore_index = True)\n"
     ]
    },
    {
     "name": "stdout",
     "output_type": "stream",
     "text": [
      "Conductor with exponent 9.632959861247397 needs the following number of ap values: {0.9: 160.0, 0.85: 60.0, 0.8: 40.0, 0.75: 30.0, 0.7: 20.0}\n",
      "**************************************************\n",
      "Generating the accuracy by the number of a_p's dataframe for range [8589934592, 17179869184]..\n",
      "There are 36133 curves within the conductor range [8589934592, 17179869184].\n"
     ]
    },
    {
     "name": "stderr",
     "output_type": "stream",
     "text": [
      "/Users/angelicababei/ml_rnt/notebooks/utils.py:112: FutureWarning: The behavior of DataFrame concatenation with empty or all-NA entries is deprecated. In a future version, this will no longer exclude empty or all-NA columns when determining the result dtypes. To retain the old behavior, exclude the relevant entries before the concat operation.\n",
      "  res_df = pd.concat([res_df, pd.DataFrame({'num_a_p': i, 'accuracy': res}, index = [0])], ignore_index = True)\n"
     ]
    },
    {
     "name": "stdout",
     "output_type": "stream",
     "text": [
      "Conductor with exponent 9.93398985691138 needs the following number of ap values: {0.9: 170.0, 0.85: 70.0, 0.8: 40.0, 0.75: 30.0, 0.7: 20.0}\n",
      "**************************************************\n",
      "Generating the accuracy by the number of a_p's dataframe for range [17179869184, 34359738368]..\n",
      "There are 36404 curves within the conductor range [17179869184, 34359738368].\n"
     ]
    },
    {
     "name": "stderr",
     "output_type": "stream",
     "text": [
      "/Users/angelicababei/ml_rnt/notebooks/utils.py:112: FutureWarning: The behavior of DataFrame concatenation with empty or all-NA entries is deprecated. In a future version, this will no longer exclude empty or all-NA columns when determining the result dtypes. To retain the old behavior, exclude the relevant entries before the concat operation.\n",
      "  res_df = pd.concat([res_df, pd.DataFrame({'num_a_p': i, 'accuracy': res}, index = [0])], ignore_index = True)\n"
     ]
    },
    {
     "name": "stdout",
     "output_type": "stream",
     "text": [
      "Conductor with exponent 10.235019852575359 needs the following number of ap values: {0.9: 250.0, 0.85: 80.0, 0.8: 50.0, 0.75: 30.0, 0.7: 30.0}\n",
      "**************************************************\n",
      "Generating the accuracy by the number of a_p's dataframe for range [34359738368, 68719476736]..\n",
      "There are 35748 curves within the conductor range [34359738368, 68719476736].\n"
     ]
    },
    {
     "name": "stderr",
     "output_type": "stream",
     "text": [
      "/Users/angelicababei/ml_rnt/notebooks/utils.py:112: FutureWarning: The behavior of DataFrame concatenation with empty or all-NA entries is deprecated. In a future version, this will no longer exclude empty or all-NA columns when determining the result dtypes. To retain the old behavior, exclude the relevant entries before the concat operation.\n",
      "  res_df = pd.concat([res_df, pd.DataFrame({'num_a_p': i, 'accuracy': res}, index = [0])], ignore_index = True)\n"
     ]
    },
    {
     "name": "stdout",
     "output_type": "stream",
     "text": [
      "Conductor with exponent 10.536049848239342 needs the following number of ap values: {0.85: 110.0, 0.8: 60.0, 0.75: 40.0, 0.7: 30.0}\n",
      "**************************************************\n",
      "Generating the accuracy by the number of a_p's dataframe for range [68719476736, 137438953472]..\n",
      "There are 34992 curves within the conductor range [68719476736, 137438953472].\n"
     ]
    },
    {
     "name": "stderr",
     "output_type": "stream",
     "text": [
      "/Users/angelicababei/ml_rnt/notebooks/utils.py:112: FutureWarning: The behavior of DataFrame concatenation with empty or all-NA entries is deprecated. In a future version, this will no longer exclude empty or all-NA columns when determining the result dtypes. To retain the old behavior, exclude the relevant entries before the concat operation.\n",
      "  res_df = pd.concat([res_df, pd.DataFrame({'num_a_p': i, 'accuracy': res}, index = [0])], ignore_index = True)\n"
     ]
    },
    {
     "name": "stdout",
     "output_type": "stream",
     "text": [
      "Conductor with exponent 10.837079843903322 needs the following number of ap values: {0.9: 290.0, 0.85: 110.0, 0.8: 60.0, 0.75: 40.0, 0.7: 30.0}\n",
      "**************************************************\n",
      "Generating the accuracy by the number of a_p's dataframe for range [137438953472, 274877906944]..\n",
      "There are 35130 curves within the conductor range [137438953472, 274877906944].\n"
     ]
    },
    {
     "name": "stderr",
     "output_type": "stream",
     "text": [
      "/Users/angelicababei/ml_rnt/notebooks/utils.py:112: FutureWarning: The behavior of DataFrame concatenation with empty or all-NA entries is deprecated. In a future version, this will no longer exclude empty or all-NA columns when determining the result dtypes. To retain the old behavior, exclude the relevant entries before the concat operation.\n",
      "  res_df = pd.concat([res_df, pd.DataFrame({'num_a_p': i, 'accuracy': res}, index = [0])], ignore_index = True)\n"
     ]
    },
    {
     "name": "stdout",
     "output_type": "stream",
     "text": [
      "Conductor with exponent 11.138109839567305 needs the following number of ap values: {0.85: 150.0, 0.8: 70.0, 0.75: 50.0, 0.7: 40.0}\n",
      "**************************************************\n",
      "Generating the accuracy by the number of a_p's dataframe for range [274877906944, 549755813888]..\n",
      "There are 35676 curves within the conductor range [274877906944, 549755813888].\n"
     ]
    },
    {
     "name": "stderr",
     "output_type": "stream",
     "text": [
      "/Users/angelicababei/ml_rnt/notebooks/utils.py:112: FutureWarning: The behavior of DataFrame concatenation with empty or all-NA entries is deprecated. In a future version, this will no longer exclude empty or all-NA columns when determining the result dtypes. To retain the old behavior, exclude the relevant entries before the concat operation.\n",
      "  res_df = pd.concat([res_df, pd.DataFrame({'num_a_p': i, 'accuracy': res}, index = [0])], ignore_index = True)\n"
     ]
    },
    {
     "name": "stdout",
     "output_type": "stream",
     "text": [
      "Conductor with exponent 11.439139835231284 needs the following number of ap values: {0.85: 200.0, 0.8: 100.0, 0.75: 60.0, 0.7: 40.0}\n",
      "**************************************************\n",
      "Generating the accuracy by the number of a_p's dataframe for range [549755813888, 1099511627776]..\n",
      "There are 35663 curves within the conductor range [549755813888, 1099511627776].\n"
     ]
    },
    {
     "name": "stderr",
     "output_type": "stream",
     "text": [
      "/Users/angelicababei/ml_rnt/notebooks/utils.py:112: FutureWarning: The behavior of DataFrame concatenation with empty or all-NA entries is deprecated. In a future version, this will no longer exclude empty or all-NA columns when determining the result dtypes. To retain the old behavior, exclude the relevant entries before the concat operation.\n",
      "  res_df = pd.concat([res_df, pd.DataFrame({'num_a_p': i, 'accuracy': res}, index = [0])], ignore_index = True)\n"
     ]
    },
    {
     "name": "stdout",
     "output_type": "stream",
     "text": [
      "Conductor with exponent 11.740169830895265 needs the following number of ap values: {0.85: 460.0, 0.8: 140.0, 0.75: 80.0, 0.7: 50.0}\n",
      "**************************************************\n",
      "Generating the accuracy by the number of a_p's dataframe for range [1099511627776, 2199023255552]..\n",
      "There are 34161 curves within the conductor range [1099511627776, 2199023255552].\n"
     ]
    },
    {
     "name": "stderr",
     "output_type": "stream",
     "text": [
      "/Users/angelicababei/ml_rnt/notebooks/utils.py:112: FutureWarning: The behavior of DataFrame concatenation with empty or all-NA entries is deprecated. In a future version, this will no longer exclude empty or all-NA columns when determining the result dtypes. To retain the old behavior, exclude the relevant entries before the concat operation.\n",
      "  res_df = pd.concat([res_df, pd.DataFrame({'num_a_p': i, 'accuracy': res}, index = [0])], ignore_index = True)\n"
     ]
    },
    {
     "name": "stdout",
     "output_type": "stream",
     "text": [
      "Conductor with exponent 12.041199826559247 needs the following number of ap values: {0.85: 320.0, 0.8: 140.0, 0.75: 80.0, 0.7: 50.0}\n",
      "**************************************************\n",
      "Generating the accuracy by the number of a_p's dataframe for range [2199023255552, 4398046511104]..\n",
      "There are 34064 curves within the conductor range [2199023255552, 4398046511104].\n"
     ]
    },
    {
     "name": "stderr",
     "output_type": "stream",
     "text": [
      "/Users/angelicababei/ml_rnt/notebooks/utils.py:112: FutureWarning: The behavior of DataFrame concatenation with empty or all-NA entries is deprecated. In a future version, this will no longer exclude empty or all-NA columns when determining the result dtypes. To retain the old behavior, exclude the relevant entries before the concat operation.\n",
      "  res_df = pd.concat([res_df, pd.DataFrame({'num_a_p': i, 'accuracy': res}, index = [0])], ignore_index = True)\n"
     ]
    },
    {
     "name": "stdout",
     "output_type": "stream",
     "text": [
      "Conductor with exponent 12.342229822223228 needs the following number of ap values: {0.85: 690.0, 0.8: 180.0, 0.75: 90.0, 0.7: 60.0}\n",
      "**************************************************\n",
      "Generating the accuracy by the number of a_p's dataframe for range [4398046511104, 8796093022208]..\n",
      "There are 34202 curves within the conductor range [4398046511104, 8796093022208].\n"
     ]
    },
    {
     "name": "stderr",
     "output_type": "stream",
     "text": [
      "/Users/angelicababei/ml_rnt/notebooks/utils.py:112: FutureWarning: The behavior of DataFrame concatenation with empty or all-NA entries is deprecated. In a future version, this will no longer exclude empty or all-NA columns when determining the result dtypes. To retain the old behavior, exclude the relevant entries before the concat operation.\n",
      "  res_df = pd.concat([res_df, pd.DataFrame({'num_a_p': i, 'accuracy': res}, index = [0])], ignore_index = True)\n"
     ]
    },
    {
     "name": "stdout",
     "output_type": "stream",
     "text": [
      "Conductor with exponent 12.643259817887209 needs the following number of ap values: {0.8: 230.0, 0.75: 120.0, 0.7: 70.0}\n",
      "**************************************************\n",
      "Generating the accuracy by the number of a_p's dataframe for range [8796093022208, 17592186044416]..\n",
      "There are 32615 curves within the conductor range [8796093022208, 17592186044416].\n"
     ]
    },
    {
     "name": "stderr",
     "output_type": "stream",
     "text": [
      "/Users/angelicababei/ml_rnt/notebooks/utils.py:112: FutureWarning: The behavior of DataFrame concatenation with empty or all-NA entries is deprecated. In a future version, this will no longer exclude empty or all-NA columns when determining the result dtypes. To retain the old behavior, exclude the relevant entries before the concat operation.\n",
      "  res_df = pd.concat([res_df, pd.DataFrame({'num_a_p': i, 'accuracy': res}, index = [0])], ignore_index = True)\n"
     ]
    },
    {
     "name": "stdout",
     "output_type": "stream",
     "text": [
      "Conductor with exponent 12.94428981355119 needs the following number of ap values: {0.8: 250.0, 0.75: 120.0, 0.7: 80.0}\n",
      "**************************************************\n",
      "Generating the accuracy by the number of a_p's dataframe for range [17592186044416, 35184372088832]..\n",
      "There are 32372 curves within the conductor range [17592186044416, 35184372088832].\n"
     ]
    },
    {
     "name": "stderr",
     "output_type": "stream",
     "text": [
      "/Users/angelicababei/ml_rnt/notebooks/utils.py:112: FutureWarning: The behavior of DataFrame concatenation with empty or all-NA entries is deprecated. In a future version, this will no longer exclude empty or all-NA columns when determining the result dtypes. To retain the old behavior, exclude the relevant entries before the concat operation.\n",
      "  res_df = pd.concat([res_df, pd.DataFrame({'num_a_p': i, 'accuracy': res}, index = [0])], ignore_index = True)\n"
     ]
    },
    {
     "name": "stdout",
     "output_type": "stream",
     "text": [
      "Conductor with exponent 13.245319809215172 needs the following number of ap values: {0.8: 360.0, 0.75: 150.0, 0.7: 90.0}\n",
      "**************************************************\n",
      "Generating the accuracy by the number of a_p's dataframe for range [35184372088832, 70368744177664]..\n",
      "There are 31740 curves within the conductor range [35184372088832, 70368744177664].\n"
     ]
    },
    {
     "name": "stderr",
     "output_type": "stream",
     "text": [
      "/Users/angelicababei/ml_rnt/notebooks/utils.py:112: FutureWarning: The behavior of DataFrame concatenation with empty or all-NA entries is deprecated. In a future version, this will no longer exclude empty or all-NA columns when determining the result dtypes. To retain the old behavior, exclude the relevant entries before the concat operation.\n",
      "  res_df = pd.concat([res_df, pd.DataFrame({'num_a_p': i, 'accuracy': res}, index = [0])], ignore_index = True)\n"
     ]
    },
    {
     "name": "stdout",
     "output_type": "stream",
     "text": [
      "Conductor with exponent 13.546349804879151 needs the following number of ap values: {0.8: 460.0, 0.75: 200.0, 0.7: 110.0}\n",
      "**************************************************\n",
      "Generating the accuracy by the number of a_p's dataframe for range [70368744177664, 140737488355328]..\n",
      "There are 30920 curves within the conductor range [70368744177664, 140737488355328].\n"
     ]
    },
    {
     "name": "stderr",
     "output_type": "stream",
     "text": [
      "/Users/angelicababei/ml_rnt/notebooks/utils.py:112: FutureWarning: The behavior of DataFrame concatenation with empty or all-NA entries is deprecated. In a future version, this will no longer exclude empty or all-NA columns when determining the result dtypes. To retain the old behavior, exclude the relevant entries before the concat operation.\n",
      "  res_df = pd.concat([res_df, pd.DataFrame({'num_a_p': i, 'accuracy': res}, index = [0])], ignore_index = True)\n"
     ]
    },
    {
     "name": "stdout",
     "output_type": "stream",
     "text": [
      "Conductor with exponent 13.847379800543134 needs the following number of ap values: {0.8: 610.0, 0.75: 210.0, 0.7: 110.0}\n",
      "**************************************************\n",
      "Generating the accuracy by the number of a_p's dataframe for range [140737488355328, 281474976710656]..\n",
      "There are 31271 curves within the conductor range [140737488355328, 281474976710656].\n"
     ]
    },
    {
     "name": "stderr",
     "output_type": "stream",
     "text": [
      "/Users/angelicababei/ml_rnt/notebooks/utils.py:112: FutureWarning: The behavior of DataFrame concatenation with empty or all-NA entries is deprecated. In a future version, this will no longer exclude empty or all-NA columns when determining the result dtypes. To retain the old behavior, exclude the relevant entries before the concat operation.\n",
      "  res_df = pd.concat([res_df, pd.DataFrame({'num_a_p': i, 'accuracy': res}, index = [0])], ignore_index = True)\n"
     ]
    },
    {
     "name": "stdout",
     "output_type": "stream",
     "text": [
      "Conductor with exponent 14.148409796207115 needs the following number of ap values: {0.75: 320.0, 0.7: 160.0}\n",
      "**************************************************\n",
      "Generating the accuracy by the number of a_p's dataframe for range [281474976710656, 562949953421312]..\n",
      "There are 31010 curves within the conductor range [281474976710656, 562949953421312].\n"
     ]
    },
    {
     "name": "stderr",
     "output_type": "stream",
     "text": [
      "/Users/angelicababei/ml_rnt/notebooks/utils.py:112: FutureWarning: The behavior of DataFrame concatenation with empty or all-NA entries is deprecated. In a future version, this will no longer exclude empty or all-NA columns when determining the result dtypes. To retain the old behavior, exclude the relevant entries before the concat operation.\n",
      "  res_df = pd.concat([res_df, pd.DataFrame({'num_a_p': i, 'accuracy': res}, index = [0])], ignore_index = True)\n"
     ]
    },
    {
     "name": "stdout",
     "output_type": "stream",
     "text": [
      "Conductor with exponent 14.449439791871095 needs the following number of ap values: {0.75: 470.0, 0.7: 200.0}\n",
      "**************************************************\n",
      "Generating the accuracy by the number of a_p's dataframe for range [562949953421312, 1125899906842624]..\n",
      "There are 30864 curves within the conductor range [562949953421312, 1125899906842624].\n"
     ]
    },
    {
     "name": "stderr",
     "output_type": "stream",
     "text": [
      "/Users/angelicababei/ml_rnt/notebooks/utils.py:112: FutureWarning: The behavior of DataFrame concatenation with empty or all-NA entries is deprecated. In a future version, this will no longer exclude empty or all-NA columns when determining the result dtypes. To retain the old behavior, exclude the relevant entries before the concat operation.\n",
      "  res_df = pd.concat([res_df, pd.DataFrame({'num_a_p': i, 'accuracy': res}, index = [0])], ignore_index = True)\n"
     ]
    },
    {
     "name": "stdout",
     "output_type": "stream",
     "text": [
      "Conductor with exponent 14.750469787535076 needs the following number of ap values: {0.7: 230.0}\n",
      "**************************************************\n",
      "Generating the accuracy by the number of a_p's dataframe for range [1125899906842624, 2251799813685248]..\n",
      "There are 29395 curves within the conductor range [1125899906842624, 2251799813685248].\n"
     ]
    },
    {
     "name": "stderr",
     "output_type": "stream",
     "text": [
      "/Users/angelicababei/ml_rnt/notebooks/utils.py:112: FutureWarning: The behavior of DataFrame concatenation with empty or all-NA entries is deprecated. In a future version, this will no longer exclude empty or all-NA columns when determining the result dtypes. To retain the old behavior, exclude the relevant entries before the concat operation.\n",
      "  res_df = pd.concat([res_df, pd.DataFrame({'num_a_p': i, 'accuracy': res}, index = [0])], ignore_index = True)\n"
     ]
    },
    {
     "name": "stdout",
     "output_type": "stream",
     "text": [
      "Conductor with exponent 15.05149978319906 needs the following number of ap values: {0.7: 240.0}\n",
      "**************************************************\n",
      "Generating the accuracy by the number of a_p's dataframe for range [2251799813685248, 4503599627370496]..\n",
      "There are 29190 curves within the conductor range [2251799813685248, 4503599627370496].\n"
     ]
    },
    {
     "name": "stderr",
     "output_type": "stream",
     "text": [
      "/Users/angelicababei/ml_rnt/notebooks/utils.py:112: FutureWarning: The behavior of DataFrame concatenation with empty or all-NA entries is deprecated. In a future version, this will no longer exclude empty or all-NA columns when determining the result dtypes. To retain the old behavior, exclude the relevant entries before the concat operation.\n",
      "  res_df = pd.concat([res_df, pd.DataFrame({'num_a_p': i, 'accuracy': res}, index = [0])], ignore_index = True)\n"
     ]
    },
    {
     "name": "stdout",
     "output_type": "stream",
     "text": [
      "Conductor with exponent 15.35252977886304 needs the following number of ap values: {0.7: 360.0}\n",
      "**************************************************\n",
      "Generating the accuracy by the number of a_p's dataframe for range [4503599627370496, 9007199254740992]..\n",
      "There are 29498 curves within the conductor range [4503599627370496, 9007199254740992].\n"
     ]
    },
    {
     "name": "stderr",
     "output_type": "stream",
     "text": [
      "/Users/angelicababei/ml_rnt/notebooks/utils.py:112: FutureWarning: The behavior of DataFrame concatenation with empty or all-NA entries is deprecated. In a future version, this will no longer exclude empty or all-NA columns when determining the result dtypes. To retain the old behavior, exclude the relevant entries before the concat operation.\n",
      "  res_df = pd.concat([res_df, pd.DataFrame({'num_a_p': i, 'accuracy': res}, index = [0])], ignore_index = True)\n"
     ]
    },
    {
     "name": "stdout",
     "output_type": "stream",
     "text": [
      "Conductor with exponent 15.65355977452702 needs the following number of ap values: {0.7: 590.0}\n",
      "**************************************************\n",
      "Generating the accuracy by the number of a_p's dataframe for range [9007199254740992, 18014398509481984]..\n",
      "There are 28060 curves within the conductor range [9007199254740992, 18014398509481984].\n"
     ]
    },
    {
     "name": "stderr",
     "output_type": "stream",
     "text": [
      "/Users/angelicababei/ml_rnt/notebooks/utils.py:112: FutureWarning: The behavior of DataFrame concatenation with empty or all-NA entries is deprecated. In a future version, this will no longer exclude empty or all-NA columns when determining the result dtypes. To retain the old behavior, exclude the relevant entries before the concat operation.\n",
      "  res_df = pd.concat([res_df, pd.DataFrame({'num_a_p': i, 'accuracy': res}, index = [0])], ignore_index = True)\n"
     ]
    },
    {
     "name": "stdout",
     "output_type": "stream",
     "text": [
      "Conductor with exponent 15.954589770191001 needs the following number of ap values: {}\n",
      "**************************************************\n",
      "Generating the accuracy by the number of a_p's dataframe for range [18014398509481984, 36028797018963968]..\n",
      "There are 27527 curves within the conductor range [18014398509481984, 36028797018963968].\n"
     ]
    },
    {
     "name": "stderr",
     "output_type": "stream",
     "text": [
      "/Users/angelicababei/ml_rnt/notebooks/utils.py:112: FutureWarning: The behavior of DataFrame concatenation with empty or all-NA entries is deprecated. In a future version, this will no longer exclude empty or all-NA columns when determining the result dtypes. To retain the old behavior, exclude the relevant entries before the concat operation.\n",
      "  res_df = pd.concat([res_df, pd.DataFrame({'num_a_p': i, 'accuracy': res}, index = [0])], ignore_index = True)\n"
     ]
    },
    {
     "name": "stdout",
     "output_type": "stream",
     "text": [
      "Conductor with exponent 16.255619765854984 needs the following number of ap values: {}\n",
      "**************************************************\n",
      "Generating the accuracy by the number of a_p's dataframe for range [36028797018963968, 72057594037927936]..\n",
      "There are 27529 curves within the conductor range [36028797018963968, 72057594037927936].\n"
     ]
    },
    {
     "name": "stderr",
     "output_type": "stream",
     "text": [
      "/Users/angelicababei/ml_rnt/notebooks/utils.py:112: FutureWarning: The behavior of DataFrame concatenation with empty or all-NA entries is deprecated. In a future version, this will no longer exclude empty or all-NA columns when determining the result dtypes. To retain the old behavior, exclude the relevant entries before the concat operation.\n",
      "  res_df = pd.concat([res_df, pd.DataFrame({'num_a_p': i, 'accuracy': res}, index = [0])], ignore_index = True)\n"
     ]
    },
    {
     "name": "stdout",
     "output_type": "stream",
     "text": [
      "Conductor with exponent 16.556649761518965 needs the following number of ap values: {}\n",
      "**************************************************\n",
      "Generating the accuracy by the number of a_p's dataframe for range [72057594037927936, 144115188075855872]..\n",
      "There are 26756 curves within the conductor range [72057594037927936, 144115188075855872].\n"
     ]
    },
    {
     "name": "stderr",
     "output_type": "stream",
     "text": [
      "/Users/angelicababei/ml_rnt/notebooks/utils.py:112: FutureWarning: The behavior of DataFrame concatenation with empty or all-NA entries is deprecated. In a future version, this will no longer exclude empty or all-NA columns when determining the result dtypes. To retain the old behavior, exclude the relevant entries before the concat operation.\n",
      "  res_df = pd.concat([res_df, pd.DataFrame({'num_a_p': i, 'accuracy': res}, index = [0])], ignore_index = True)\n"
     ]
    },
    {
     "name": "stdout",
     "output_type": "stream",
     "text": [
      "Conductor with exponent 16.857679757182943 needs the following number of ap values: {}\n",
      "**************************************************\n",
      "Generating the accuracy by the number of a_p's dataframe for range [144115188075855872, 288230376151711744]..\n",
      "There are 26822 curves within the conductor range [144115188075855872, 288230376151711744].\n"
     ]
    },
    {
     "name": "stderr",
     "output_type": "stream",
     "text": [
      "/Users/angelicababei/ml_rnt/notebooks/utils.py:112: FutureWarning: The behavior of DataFrame concatenation with empty or all-NA entries is deprecated. In a future version, this will no longer exclude empty or all-NA columns when determining the result dtypes. To retain the old behavior, exclude the relevant entries before the concat operation.\n",
      "  res_df = pd.concat([res_df, pd.DataFrame({'num_a_p': i, 'accuracy': res}, index = [0])], ignore_index = True)\n"
     ]
    },
    {
     "name": "stdout",
     "output_type": "stream",
     "text": [
      "Conductor with exponent 17.158709752846928 needs the following number of ap values: {}\n",
      "**************************************************\n",
      "Generating the accuracy by the number of a_p's dataframe for range [288230376151711744, 576460752303423488]..\n",
      "There are 26623 curves within the conductor range [288230376151711744, 576460752303423488].\n"
     ]
    },
    {
     "name": "stderr",
     "output_type": "stream",
     "text": [
      "/Users/angelicababei/ml_rnt/notebooks/utils.py:112: FutureWarning: The behavior of DataFrame concatenation with empty or all-NA entries is deprecated. In a future version, this will no longer exclude empty or all-NA columns when determining the result dtypes. To retain the old behavior, exclude the relevant entries before the concat operation.\n",
      "  res_df = pd.concat([res_df, pd.DataFrame({'num_a_p': i, 'accuracy': res}, index = [0])], ignore_index = True)\n"
     ]
    },
    {
     "name": "stdout",
     "output_type": "stream",
     "text": [
      "Conductor with exponent 17.45973974851091 needs the following number of ap values: {}\n",
      "**************************************************\n",
      "Generating the accuracy by the number of a_p's dataframe for range [576460752303423488, 1152921504606846976]..\n",
      "There are 26773 curves within the conductor range [576460752303423488, 1152921504606846976].\n"
     ]
    },
    {
     "name": "stderr",
     "output_type": "stream",
     "text": [
      "/Users/angelicababei/ml_rnt/notebooks/utils.py:112: FutureWarning: The behavior of DataFrame concatenation with empty or all-NA entries is deprecated. In a future version, this will no longer exclude empty or all-NA columns when determining the result dtypes. To retain the old behavior, exclude the relevant entries before the concat operation.\n",
      "  res_df = pd.concat([res_df, pd.DataFrame({'num_a_p': i, 'accuracy': res}, index = [0])], ignore_index = True)\n"
     ]
    },
    {
     "name": "stdout",
     "output_type": "stream",
     "text": [
      "Conductor with exponent 17.76076974417489 needs the following number of ap values: {}\n",
      "**************************************************\n",
      "Generating the accuracy by the number of a_p's dataframe for range [1152921504606846976, 2305843009213693952]..\n",
      "There are 25232 curves within the conductor range [1152921504606846976, 2305843009213693952].\n"
     ]
    },
    {
     "name": "stderr",
     "output_type": "stream",
     "text": [
      "/Users/angelicababei/ml_rnt/notebooks/utils.py:112: FutureWarning: The behavior of DataFrame concatenation with empty or all-NA entries is deprecated. In a future version, this will no longer exclude empty or all-NA columns when determining the result dtypes. To retain the old behavior, exclude the relevant entries before the concat operation.\n",
      "  res_df = pd.concat([res_df, pd.DataFrame({'num_a_p': i, 'accuracy': res}, index = [0])], ignore_index = True)\n"
     ]
    },
    {
     "name": "stdout",
     "output_type": "stream",
     "text": [
      "Conductor with exponent 18.061799739838868 needs the following number of ap values: {}\n",
      "**************************************************\n",
      "Generating the accuracy by the number of a_p's dataframe for range [2305843009213693952, 4611686018427387904]..\n",
      "There are 25185 curves within the conductor range [2305843009213693952, 4611686018427387904].\n"
     ]
    },
    {
     "name": "stderr",
     "output_type": "stream",
     "text": [
      "/Users/angelicababei/ml_rnt/notebooks/utils.py:112: FutureWarning: The behavior of DataFrame concatenation with empty or all-NA entries is deprecated. In a future version, this will no longer exclude empty or all-NA columns when determining the result dtypes. To retain the old behavior, exclude the relevant entries before the concat operation.\n",
      "  res_df = pd.concat([res_df, pd.DataFrame({'num_a_p': i, 'accuracy': res}, index = [0])], ignore_index = True)\n"
     ]
    },
    {
     "name": "stdout",
     "output_type": "stream",
     "text": [
      "Conductor with exponent 18.362829735502853 needs the following number of ap values: {}\n",
      "**************************************************\n",
      "Generating the accuracy by the number of a_p's dataframe for range [4611686018427387904, 9223372036854775808]..\n",
      "There are 25599 curves within the conductor range [4611686018427387904, 9223372036854775808].\n"
     ]
    },
    {
     "name": "stderr",
     "output_type": "stream",
     "text": [
      "/Users/angelicababei/ml_rnt/notebooks/utils.py:112: FutureWarning: The behavior of DataFrame concatenation with empty or all-NA entries is deprecated. In a future version, this will no longer exclude empty or all-NA columns when determining the result dtypes. To retain the old behavior, exclude the relevant entries before the concat operation.\n",
      "  res_df = pd.concat([res_df, pd.DataFrame({'num_a_p': i, 'accuracy': res}, index = [0])], ignore_index = True)\n"
     ]
    },
    {
     "name": "stdout",
     "output_type": "stream",
     "text": [
      "Conductor with exponent 18.663859731166834 needs the following number of ap values: {}\n",
      "**************************************************\n",
      "Generating the accuracy by the number of a_p's dataframe for range [9223372036854775808, 18446744073709551616]..\n",
      "There are 24526 curves within the conductor range [9223372036854775808, 18446744073709551616].\n"
     ]
    },
    {
     "name": "stderr",
     "output_type": "stream",
     "text": [
      "/Users/angelicababei/ml_rnt/notebooks/utils.py:112: FutureWarning: The behavior of DataFrame concatenation with empty or all-NA entries is deprecated. In a future version, this will no longer exclude empty or all-NA columns when determining the result dtypes. To retain the old behavior, exclude the relevant entries before the concat operation.\n",
      "  res_df = pd.concat([res_df, pd.DataFrame({'num_a_p': i, 'accuracy': res}, index = [0])], ignore_index = True)\n"
     ]
    },
    {
     "name": "stdout",
     "output_type": "stream",
     "text": [
      "Conductor with exponent 18.964889726830812 needs the following number of ap values: {}\n",
      "**************************************************\n",
      "Generating the accuracy by the number of a_p's dataframe for range [18446744073709551616, 36893488147419103232]..\n",
      "There are 24049 curves within the conductor range [18446744073709551616, 36893488147419103232].\n"
     ]
    },
    {
     "name": "stderr",
     "output_type": "stream",
     "text": [
      "/Users/angelicababei/ml_rnt/notebooks/utils.py:112: FutureWarning: The behavior of DataFrame concatenation with empty or all-NA entries is deprecated. In a future version, this will no longer exclude empty or all-NA columns when determining the result dtypes. To retain the old behavior, exclude the relevant entries before the concat operation.\n",
      "  res_df = pd.concat([res_df, pd.DataFrame({'num_a_p': i, 'accuracy': res}, index = [0])], ignore_index = True)\n"
     ]
    },
    {
     "name": "stdout",
     "output_type": "stream",
     "text": [
      "Conductor with exponent 19.265919722494793 needs the following number of ap values: {}\n",
      "**************************************************\n",
      "Generating the accuracy by the number of a_p's dataframe for range [36893488147419103232, 73786976294838206464]..\n",
      "There are 23675 curves within the conductor range [36893488147419103232, 73786976294838206464].\n"
     ]
    },
    {
     "name": "stderr",
     "output_type": "stream",
     "text": [
      "/Users/angelicababei/ml_rnt/notebooks/utils.py:112: FutureWarning: The behavior of DataFrame concatenation with empty or all-NA entries is deprecated. In a future version, this will no longer exclude empty or all-NA columns when determining the result dtypes. To retain the old behavior, exclude the relevant entries before the concat operation.\n",
      "  res_df = pd.concat([res_df, pd.DataFrame({'num_a_p': i, 'accuracy': res}, index = [0])], ignore_index = True)\n"
     ]
    },
    {
     "name": "stdout",
     "output_type": "stream",
     "text": [
      "Conductor with exponent 19.566949718158774 needs the following number of ap values: {}\n",
      "**************************************************\n",
      "Generating the accuracy by the number of a_p's dataframe for range [73786976294838206464, 147573952589676412928]..\n",
      "There are 23021 curves within the conductor range [73786976294838206464, 147573952589676412928].\n"
     ]
    },
    {
     "name": "stderr",
     "output_type": "stream",
     "text": [
      "/Users/angelicababei/ml_rnt/notebooks/utils.py:112: FutureWarning: The behavior of DataFrame concatenation with empty or all-NA entries is deprecated. In a future version, this will no longer exclude empty or all-NA columns when determining the result dtypes. To retain the old behavior, exclude the relevant entries before the concat operation.\n",
      "  res_df = pd.concat([res_df, pd.DataFrame({'num_a_p': i, 'accuracy': res}, index = [0])], ignore_index = True)\n"
     ]
    },
    {
     "name": "stdout",
     "output_type": "stream",
     "text": [
      "Conductor with exponent 19.86797971382276 needs the following number of ap values: {}\n",
      "**************************************************\n",
      "Generating the accuracy by the number of a_p's dataframe for range [147573952589676412928, 295147905179352825856]..\n",
      "There are 23439 curves within the conductor range [147573952589676412928, 295147905179352825856].\n"
     ]
    },
    {
     "name": "stderr",
     "output_type": "stream",
     "text": [
      "/Users/angelicababei/ml_rnt/notebooks/utils.py:112: FutureWarning: The behavior of DataFrame concatenation with empty or all-NA entries is deprecated. In a future version, this will no longer exclude empty or all-NA columns when determining the result dtypes. To retain the old behavior, exclude the relevant entries before the concat operation.\n",
      "  res_df = pd.concat([res_df, pd.DataFrame({'num_a_p': i, 'accuracy': res}, index = [0])], ignore_index = True)\n"
     ]
    },
    {
     "name": "stdout",
     "output_type": "stream",
     "text": [
      "Conductor with exponent 20.169009709486737 needs the following number of ap values: {}\n",
      "**************************************************\n",
      "Generating the accuracy by the number of a_p's dataframe for range [295147905179352825856, 590295810358705651712]..\n",
      "There are 23635 curves within the conductor range [295147905179352825856, 590295810358705651712].\n"
     ]
    },
    {
     "name": "stderr",
     "output_type": "stream",
     "text": [
      "/Users/angelicababei/ml_rnt/notebooks/utils.py:112: FutureWarning: The behavior of DataFrame concatenation with empty or all-NA entries is deprecated. In a future version, this will no longer exclude empty or all-NA columns when determining the result dtypes. To retain the old behavior, exclude the relevant entries before the concat operation.\n",
      "  res_df = pd.concat([res_df, pd.DataFrame({'num_a_p': i, 'accuracy': res}, index = [0])], ignore_index = True)\n"
     ]
    },
    {
     "ename": "KeyboardInterrupt",
     "evalue": "",
     "output_type": "error",
     "traceback": [
      "\u001b[0;31m---------------------------------------------------------------------------\u001b[0m",
      "\u001b[0;31mKeyboardInterrupt\u001b[0m                         Traceback (most recent call last)",
      "Cell \u001b[0;32mIn[5], line 20\u001b[0m\n\u001b[1;32m     17\u001b[0m cumulative_dict \u001b[38;5;241m=\u001b[39m defaultdict(\u001b[38;5;28;01mlambda\u001b[39;00m: [\u001b[38;5;241m0\u001b[39m, \u001b[38;5;241m0\u001b[39m])  \u001b[38;5;66;03m# [cumulative sum, count]\u001b[39;00m\n\u001b[1;32m     19\u001b[0m \u001b[38;5;28;01mfor\u001b[39;00m i \u001b[38;5;129;01min\u001b[39;00m \u001b[38;5;28mrange\u001b[39m(\u001b[38;5;241m1\u001b[39m):  \u001b[38;5;66;03m# Repeat x times\u001b[39;00m\n\u001b[0;32m---> 20\u001b[0m     res_df \u001b[38;5;241m=\u001b[39m \u001b[43mutils\u001b[49m\u001b[38;5;241;43m.\u001b[39;49m\u001b[43mGenerate_AccByNumAps_df\u001b[49m\u001b[43m(\u001b[49m\u001b[43mdf\u001b[49m\u001b[43m,\u001b[49m\u001b[43m \u001b[49m\u001b[43mlower_bound\u001b[49m\u001b[43m,\u001b[49m\u001b[43m \u001b[49m\u001b[43mupper_bound\u001b[49m\u001b[43m,\u001b[49m\u001b[43m \u001b[49m\u001b[43mmodel\u001b[49m\u001b[43m,\u001b[49m\u001b[43m \u001b[49m\u001b[43mstep_size\u001b[49m\u001b[38;5;241;43m=\u001b[39;49m\u001b[43mstep_size\u001b[49m\u001b[43m,\u001b[49m\u001b[43m \u001b[49m\u001b[43mrandom_state\u001b[49m\u001b[38;5;241;43m=\u001b[39;49m\u001b[38;5;241;43m142\u001b[39;49m\u001b[38;5;241;43m+\u001b[39;49m\u001b[43mi\u001b[49m\u001b[43m)\u001b[49m\n\u001b[1;32m     21\u001b[0m     temp_dict \u001b[38;5;241m=\u001b[39m utils\u001b[38;5;241m.\u001b[39mfind_min_num_a_p_for_accuracy_thresholds(res_df)\n\u001b[1;32m     23\u001b[0m     \u001b[38;5;66;03m# Update cumulative sums and counts, checking for NaN\u001b[39;00m\n",
      "File \u001b[0;32m~/ml_rnt/notebooks/utils.py:109\u001b[0m, in \u001b[0;36mGenerate_AccByNumAps_df\u001b[0;34m(df, lower_bound, upper_bound, model, step_size, metric, test_ratio, if_using_cond, shuffle, random_state)\u001b[0m\n\u001b[1;32m    106\u001b[0m     cur_df \u001b[38;5;241m=\u001b[39m sliced_df\u001b[38;5;241m.\u001b[39miloc[:, :i]\u001b[38;5;241m.\u001b[39mjoin(sliced_df[[\u001b[38;5;124m'\u001b[39m\u001b[38;5;124mconductor\u001b[39m\u001b[38;5;124m'\u001b[39m,\u001b[38;5;124m'\u001b[39m\u001b[38;5;124mrank\u001b[39m\u001b[38;5;124m'\u001b[39m]])\n\u001b[1;32m    108\u001b[0m \u001b[38;5;66;03m# get the metric result of the model within test data\u001b[39;00m\n\u001b[0;32m--> 109\u001b[0m res \u001b[38;5;241m=\u001b[39m \u001b[43mgetRes\u001b[49m\u001b[43m(\u001b[49m\u001b[43mcur_df\u001b[49m\u001b[43m,\u001b[49m\u001b[43m \u001b[49m\u001b[43mmodel\u001b[49m\u001b[43m,\u001b[49m\u001b[43m \u001b[49m\u001b[43mmetric\u001b[49m\u001b[43m,\u001b[49m\u001b[43m \u001b[49m\u001b[43mtest_ratio\u001b[49m\u001b[43m,\u001b[49m\u001b[43m \u001b[49m\u001b[43mshuffle\u001b[49m\u001b[43m,\u001b[49m\u001b[43m \u001b[49m\u001b[43mrandom_state\u001b[49m\u001b[43m)\u001b[49m\n\u001b[1;32m    111\u001b[0m \u001b[38;5;66;03m# append the metric result to the dataframe\u001b[39;00m\n\u001b[1;32m    112\u001b[0m res_df \u001b[38;5;241m=\u001b[39m pd\u001b[38;5;241m.\u001b[39mconcat([res_df, pd\u001b[38;5;241m.\u001b[39mDataFrame({\u001b[38;5;124m'\u001b[39m\u001b[38;5;124mnum_a_p\u001b[39m\u001b[38;5;124m'\u001b[39m: i, \u001b[38;5;124m'\u001b[39m\u001b[38;5;124maccuracy\u001b[39m\u001b[38;5;124m'\u001b[39m: res}, index \u001b[38;5;241m=\u001b[39m [\u001b[38;5;241m0\u001b[39m])], ignore_index \u001b[38;5;241m=\u001b[39m \u001b[38;5;28;01mTrue\u001b[39;00m)\n",
      "File \u001b[0;32m~/ml_rnt/notebooks/utils.py:43\u001b[0m, in \u001b[0;36mgetRes\u001b[0;34m(sliced_df, model, metric, test_ratio, shuffle, random_state)\u001b[0m\n\u001b[1;32m     41\u001b[0m X \u001b[38;5;241m=\u001b[39m sliced_df\u001b[38;5;241m.\u001b[39mdrop(columns\u001b[38;5;241m=\u001b[39m[\u001b[38;5;124m'\u001b[39m\u001b[38;5;124mrank\u001b[39m\u001b[38;5;124m'\u001b[39m])\u001b[38;5;241m.\u001b[39mvalues\n\u001b[1;32m     42\u001b[0m y \u001b[38;5;241m=\u001b[39m sliced_df[\u001b[38;5;124m'\u001b[39m\u001b[38;5;124mrank\u001b[39m\u001b[38;5;124m'\u001b[39m]\u001b[38;5;241m.\u001b[39mvalues\n\u001b[0;32m---> 43\u001b[0m X_train, X_test, y_train, y_test \u001b[38;5;241m=\u001b[39m \u001b[43mtrain_test_split\u001b[49m\u001b[43m(\u001b[49m\u001b[43mX\u001b[49m\u001b[43m,\u001b[49m\u001b[43m \u001b[49m\u001b[43my\u001b[49m\u001b[43m,\u001b[49m\u001b[43m \u001b[49m\u001b[43mtest_size\u001b[49m\u001b[43m \u001b[49m\u001b[38;5;241;43m=\u001b[39;49m\u001b[43m \u001b[49m\u001b[43mtest_ratio\u001b[49m\u001b[43m,\u001b[49m\u001b[43m \u001b[49m\u001b[43mshuffle\u001b[49m\u001b[43m \u001b[49m\u001b[38;5;241;43m=\u001b[39;49m\u001b[43m \u001b[49m\u001b[43mshuffle\u001b[49m\u001b[43m,\u001b[49m\u001b[43m \u001b[49m\u001b[43mrandom_state\u001b[49m\u001b[38;5;241;43m=\u001b[39;49m\u001b[43mrandom_state\u001b[49m\u001b[43m)\u001b[49m\n\u001b[1;32m     45\u001b[0m \u001b[38;5;66;03m# train the model\u001b[39;00m\n\u001b[1;32m     46\u001b[0m model\u001b[38;5;241m.\u001b[39mfit(X_train, y_train)\n",
      "File \u001b[0;32m~/Library/Python/3.12/lib/python/site-packages/sklearn/utils/_param_validation.py:213\u001b[0m, in \u001b[0;36mvalidate_params.<locals>.decorator.<locals>.wrapper\u001b[0;34m(*args, **kwargs)\u001b[0m\n\u001b[1;32m    207\u001b[0m \u001b[38;5;28;01mtry\u001b[39;00m:\n\u001b[1;32m    208\u001b[0m     \u001b[38;5;28;01mwith\u001b[39;00m config_context(\n\u001b[1;32m    209\u001b[0m         skip_parameter_validation\u001b[38;5;241m=\u001b[39m(\n\u001b[1;32m    210\u001b[0m             prefer_skip_nested_validation \u001b[38;5;129;01mor\u001b[39;00m global_skip_validation\n\u001b[1;32m    211\u001b[0m         )\n\u001b[1;32m    212\u001b[0m     ):\n\u001b[0;32m--> 213\u001b[0m         \u001b[38;5;28;01mreturn\u001b[39;00m \u001b[43mfunc\u001b[49m\u001b[43m(\u001b[49m\u001b[38;5;241;43m*\u001b[39;49m\u001b[43margs\u001b[49m\u001b[43m,\u001b[49m\u001b[43m \u001b[49m\u001b[38;5;241;43m*\u001b[39;49m\u001b[38;5;241;43m*\u001b[39;49m\u001b[43mkwargs\u001b[49m\u001b[43m)\u001b[49m\n\u001b[1;32m    214\u001b[0m \u001b[38;5;28;01mexcept\u001b[39;00m InvalidParameterError \u001b[38;5;28;01mas\u001b[39;00m e:\n\u001b[1;32m    215\u001b[0m     \u001b[38;5;66;03m# When the function is just a wrapper around an estimator, we allow\u001b[39;00m\n\u001b[1;32m    216\u001b[0m     \u001b[38;5;66;03m# the function to delegate validation to the estimator, but we replace\u001b[39;00m\n\u001b[1;32m    217\u001b[0m     \u001b[38;5;66;03m# the name of the estimator by the name of the function in the error\u001b[39;00m\n\u001b[1;32m    218\u001b[0m     \u001b[38;5;66;03m# message to avoid confusion.\u001b[39;00m\n\u001b[1;32m    219\u001b[0m     msg \u001b[38;5;241m=\u001b[39m re\u001b[38;5;241m.\u001b[39msub(\n\u001b[1;32m    220\u001b[0m         \u001b[38;5;124mr\u001b[39m\u001b[38;5;124m\"\u001b[39m\u001b[38;5;124mparameter of \u001b[39m\u001b[38;5;124m\\\u001b[39m\u001b[38;5;124mw+ must be\u001b[39m\u001b[38;5;124m\"\u001b[39m,\n\u001b[1;32m    221\u001b[0m         \u001b[38;5;124mf\u001b[39m\u001b[38;5;124m\"\u001b[39m\u001b[38;5;124mparameter of \u001b[39m\u001b[38;5;132;01m{\u001b[39;00mfunc\u001b[38;5;241m.\u001b[39m\u001b[38;5;18m__qualname__\u001b[39m\u001b[38;5;132;01m}\u001b[39;00m\u001b[38;5;124m must be\u001b[39m\u001b[38;5;124m\"\u001b[39m,\n\u001b[1;32m    222\u001b[0m         \u001b[38;5;28mstr\u001b[39m(e),\n\u001b[1;32m    223\u001b[0m     )\n",
      "File \u001b[0;32m~/Library/Python/3.12/lib/python/site-packages/sklearn/model_selection/_split.py:2803\u001b[0m, in \u001b[0;36mtrain_test_split\u001b[0;34m(test_size, train_size, random_state, shuffle, stratify, *arrays)\u001b[0m\n\u001b[1;32m   2799\u001b[0m     train, test \u001b[38;5;241m=\u001b[39m \u001b[38;5;28mnext\u001b[39m(cv\u001b[38;5;241m.\u001b[39msplit(X\u001b[38;5;241m=\u001b[39marrays[\u001b[38;5;241m0\u001b[39m], y\u001b[38;5;241m=\u001b[39mstratify))\n\u001b[1;32m   2801\u001b[0m train, test \u001b[38;5;241m=\u001b[39m ensure_common_namespace_device(arrays[\u001b[38;5;241m0\u001b[39m], train, test)\n\u001b[0;32m-> 2803\u001b[0m \u001b[38;5;28;01mreturn\u001b[39;00m \u001b[38;5;28;43mlist\u001b[39;49m\u001b[43m(\u001b[49m\n\u001b[1;32m   2804\u001b[0m \u001b[43m    \u001b[49m\u001b[43mchain\u001b[49m\u001b[38;5;241;43m.\u001b[39;49m\u001b[43mfrom_iterable\u001b[49m\u001b[43m(\u001b[49m\n\u001b[1;32m   2805\u001b[0m \u001b[43m        \u001b[49m\u001b[43m(\u001b[49m\u001b[43m_safe_indexing\u001b[49m\u001b[43m(\u001b[49m\u001b[43ma\u001b[49m\u001b[43m,\u001b[49m\u001b[43m \u001b[49m\u001b[43mtrain\u001b[49m\u001b[43m)\u001b[49m\u001b[43m,\u001b[49m\u001b[43m \u001b[49m\u001b[43m_safe_indexing\u001b[49m\u001b[43m(\u001b[49m\u001b[43ma\u001b[49m\u001b[43m,\u001b[49m\u001b[43m \u001b[49m\u001b[43mtest\u001b[49m\u001b[43m)\u001b[49m\u001b[43m)\u001b[49m\u001b[43m \u001b[49m\u001b[38;5;28;43;01mfor\u001b[39;49;00m\u001b[43m \u001b[49m\u001b[43ma\u001b[49m\u001b[43m \u001b[49m\u001b[38;5;129;43;01min\u001b[39;49;00m\u001b[43m \u001b[49m\u001b[43marrays\u001b[49m\n\u001b[1;32m   2806\u001b[0m \u001b[43m    \u001b[49m\u001b[43m)\u001b[49m\n\u001b[1;32m   2807\u001b[0m \u001b[43m\u001b[49m\u001b[43m)\u001b[49m\n",
      "File \u001b[0;32m~/Library/Python/3.12/lib/python/site-packages/sklearn/model_selection/_split.py:2805\u001b[0m, in \u001b[0;36m<genexpr>\u001b[0;34m(.0)\u001b[0m\n\u001b[1;32m   2799\u001b[0m     train, test \u001b[38;5;241m=\u001b[39m \u001b[38;5;28mnext\u001b[39m(cv\u001b[38;5;241m.\u001b[39msplit(X\u001b[38;5;241m=\u001b[39marrays[\u001b[38;5;241m0\u001b[39m], y\u001b[38;5;241m=\u001b[39mstratify))\n\u001b[1;32m   2801\u001b[0m train, test \u001b[38;5;241m=\u001b[39m ensure_common_namespace_device(arrays[\u001b[38;5;241m0\u001b[39m], train, test)\n\u001b[1;32m   2803\u001b[0m \u001b[38;5;28;01mreturn\u001b[39;00m \u001b[38;5;28mlist\u001b[39m(\n\u001b[1;32m   2804\u001b[0m     chain\u001b[38;5;241m.\u001b[39mfrom_iterable(\n\u001b[0;32m-> 2805\u001b[0m         (_safe_indexing(a, train), _safe_indexing(a, test)) \u001b[38;5;28;01mfor\u001b[39;00m a \u001b[38;5;129;01min\u001b[39;00m arrays\n\u001b[1;32m   2806\u001b[0m     )\n\u001b[1;32m   2807\u001b[0m )\n",
      "\u001b[0;31mKeyboardInterrupt\u001b[0m: "
     ]
    }
   ],
   "source": [
    "# choose your desired bounds (including the end points)\n",
    "#bounds_list = [(i**2-600, i**2+600) for i in range(50, 370, 10)]\n",
    "bounds_list = [(2**i, 2**(i+1)) for i in range(10, 96)]\n",
    "\n",
    "# choose your model\n",
    "model = LogisticRegression(max_iter = 3000)\n",
    "\n",
    "# choose your desired step size for number of a_p's\n",
    "step_size = 10\n",
    "res_dict={}\n",
    "\n",
    "# Obtain dictionary of conductor bounds and corresponding number of ap values\n",
    "for bounds in bounds_list:\n",
    "    lower_bound, upper_bound = bounds\n",
    "    #bound = int(np.sqrt((upper_bound + lower_bound) / 2))\n",
    "    bound = math.log(lower_bound, 2)\n",
    "    cumulative_dict = defaultdict(lambda: [0, 0])  # [cumulative sum, count]\n",
    "\n",
    "    for i in range(1):  # Repeat x times\n",
    "        res_df = utils.Generate_AccByNumAps_df(df, lower_bound, upper_bound, model, step_size=step_size, random_state=142+i)\n",
    "        temp_dict = utils.find_min_num_a_p_for_accuracy_thresholds(res_df)\n",
    "        \n",
    "        # Update cumulative sums and counts, checking for NaN\n",
    "        for key, value in temp_dict.items():\n",
    "            if not np.isnan(value):  # Check if value is not NaN\n",
    "                cumulative_dict[key][0] += value\n",
    "                cumulative_dict[key][1] += 1\n",
    "\n",
    "    # Calculate averages and assign to res_dict, excluding keys with NaN values\n",
    "    res_dict[bound] = {key: sum_count[0] / sum_count[1] for key, sum_count in cumulative_dict.items() if sum_count[1] > 0}\n",
    "\n",
    "    print(f\"Conductor with exponent {bound} needs the following number of ap values: {res_dict[bound]}\")\n"
   ]
  },
  {
   "cell_type": "markdown",
   "metadata": {},
   "source": [
    "Restructure the dictionary"
   ]
  },
  {
   "cell_type": "code",
   "execution_count": 6,
   "metadata": {},
   "outputs": [],
   "source": [
    "# Initialize an empty dictionary to store the result\n",
    "restructured_dict = {0.99: [], 0.98: [], 0.95: [], 0.9: [], 0.85: [], 0.8: [], 0.75: [], 0.7: []}\n",
    "\n",
    "\n",
    "# Iterate through the original dictionary\n",
    "for k, subdict in res_dict.items():\n",
    "    # Iterate through each accuracy level in the restructured dictionary\n",
    "    for accuracy in restructured_dict:\n",
    "        # Check if the accuracy level exists in the subdictionary\n",
    "        if accuracy in subdict:\n",
    "            # Append the (k, v) pair to the corresponding list in the restructured dictionary\n",
    "            restructured_dict[accuracy].append((k, subdict[accuracy]))\n",
    "\n"
   ]
  },
  {
   "cell_type": "markdown",
   "metadata": {},
   "source": [
    "For each accuracy threshold in [0.99, 0.98, 0.95, 0.9, 0.85, 0.8, 0.75, 0.7], plot points (square root of conductor, required number of ap's) in a different color, then fit a line for each separate threshold."
   ]
  },
  {
   "cell_type": "code",
   "execution_count": 9,
   "metadata": {},
   "outputs": [
    {
     "name": "stderr",
     "output_type": "stream",
     "text": [
      "<>:35: SyntaxWarning: invalid escape sequence '\\l'\n",
      "<>:36: SyntaxWarning: invalid escape sequence '\\l'\n",
      "<>:35: SyntaxWarning: invalid escape sequence '\\l'\n",
      "<>:36: SyntaxWarning: invalid escape sequence '\\l'\n",
      "/var/folders/yf/__s9cndj6xs_hcwfwx8md2cm0000gp/T/ipykernel_78691/3537095071.py:35: SyntaxWarning: invalid escape sequence '\\l'\n",
      "  plt.xlabel('$\\log_2(Conductor)$')\n",
      "/var/folders/yf/__s9cndj6xs_hcwfwx8md2cm0000gp/T/ipykernel_78691/3537095071.py:36: SyntaxWarning: invalid escape sequence '\\l'\n",
      "  plt.ylabel(\"$\\log_2$(Required number of ap's)\")\n"
     ]
    },
    {
     "data": {
      "image/png": "[encoded data removed]",
      "text/plain": [
       "<Figure size 1000x1000 with 1 Axes>"
      ]
     },
     "metadata": {},
     "output_type": "display_data"
    }
   ],
   "source": [
    "# Define colors for each subdictionary\n",
    "colors = {0.99: 'red', 0.98: 'green', 0.95: 'blue', 0.9: 'cyan', 0.85: 'magenta', 0.8: 'gold', 0.75: 'black', 0.7: 'orange'}\n",
    "\n",
    "plt.figure(figsize=(10, 10))\n",
    "\n",
    "for accuracy, pairs in restructured_dict.items():\n",
    "    # Remove pairs with 'nan' values\n",
    "    cleaned_pairs = [(x, y) for x, y in pairs if y > 0]\n",
    "    if cleaned_pairs:\n",
    "        x_vals, y_vals = zip(*cleaned_pairs)\n",
    "        y_vals = [math.log(y, 2) for y in y_vals]\n",
    "        # Convert to numpy arrays for linear regression\n",
    "        x_np = np.array(x_vals, dtype=np.float64)\n",
    "        y_np = np.array(y_vals, dtype=np.float64)\n",
    "        # Calculate the coefficients of the line of best fit\n",
    "        m, b = np.polyfit(x_np, y_np, 1)\n",
    "        # Calculate predictions\n",
    "        y_pred = m * x_np + b\n",
    "\n",
    "        # Calculate R^2\n",
    "        ss_res = np.sum((y_np - y_pred) ** 2)\n",
    "        ss_tot = np.sum((y_np - np.mean(y_np)) ** 2)\n",
    "        r_squared = 1 - (ss_res / ss_tot)\n",
    "\n",
    "        # Plot the cleaned scatter plot\n",
    "        plt.scatter(x_vals, y_vals, color=colors[accuracy])\n",
    "        # Plot the line of best fit\n",
    "        plt.plot(x_np, y_pred, color=colors[accuracy], label=f'Acc {accuracy}: y = {m:.2f}x + {b:.2f}, $R^2$ = {r_squared:.2f}')\n",
    "\n",
    "# Set the limits of the x and y axes\n",
    "plt.xlim(9, 17)\n",
    "plt.ylim(4, 10)\n",
    "\n",
    "# Add labels and legend\n",
    "plt.xlabel('$\\log_2(Conductor)$')\n",
    "plt.ylabel(\"$\\log_2$(Required number of ap's)\")\n",
    "plt.title('Plotting the required number of ap values for different accuracy levels')\n",
    "plt.legend()\n",
    "\n",
    "# Show the plot\n",
    "plt.show()"
   ]
  },
  {
   "cell_type": "code",
   "execution_count": 11,
   "metadata": {},
   "outputs": [
    {
     "data": {
      "image/png": "[encoded data removed]",
      "text/plain": [
       "<Figure size 640x480 with 1 Axes>"
      ]
     },
     "metadata": {},
     "output_type": "display_data"
    }
   ],
   "source": [
    "accs=np.array([0.7, 0.75, 0.8, 0.85, 0.9, 0.95, 0.98, 0.99])\n",
    "slopes = np.array([0, 0, 0, 0, 0.06, 0.1, 0.24, 0.62])\n",
    "plt.scatter(accs, slopes)\n",
    "a, b, c= np.polyfit(accs, slopes, 2)\n",
    "# Create a polynomial function from the coefficients\n",
    "p = np.poly1d([a, b, c])\n",
    "\n",
    "# Generate a range of x-values for plotting the polynomial\n",
    "x_range = np.linspace(accs.min(), accs.max(), 100)\n",
    "\n",
    "# Calculate the corresponding y-values using the polynomial function\n",
    "y_poly = p(x_range)\n",
    "\n",
    "# Plotting\n",
    "plt.scatter(accs, slopes, label='Data points')\n",
    "plt.plot(x_range, y_poly, color='red', label='Polynomial fit')\n",
    "plt.legend()\n",
    "plt.show()\n"
   ]
  },
  {
   "cell_type": "code",
   "execution_count": 12,
   "metadata": {},
   "outputs": [
    {
     "data": {
      "text/plain": [
       "np.float64(0.4589620136175325)"
      ]
     },
     "execution_count": 12,
     "metadata": {},
     "output_type": "execute_result"
    }
   ],
   "source": [
    "p(1)"
   ]
  },
  {
   "cell_type": "code",
   "execution_count": null,
   "metadata": {},
   "outputs": [],
   "source": []
  }
 ],
 "metadata": {
  "kernelspec": {
   "display_name": "Python 3",
   "language": "python",
   "name": "python3"
  },
  "language_info": {
   "codemirror_mode": {
    "name": "ipython",
    "version": 3
   },
   "file_extension": ".py",
   "mimetype": "text/x-python",
   "name": "python",
   "nbconvert_exporter": "python",
   "pygments_lexer": "ipython3",
   "version": "3.12.0"
  }
 },
 "nbformat": 4,
 "nbformat_minor": 2
}
