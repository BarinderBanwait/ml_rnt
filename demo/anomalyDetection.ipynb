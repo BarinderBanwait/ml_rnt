{
 "cells": [
  {
   "cell_type": "code",
   "execution_count": 2,
   "metadata": {},
   "outputs": [],
   "source": [
    "import pandas as pd\n",
    "from sklearn.linear_model import LogisticRegression\n",
    "from sklearn.metrics import accuracy_score, matthews_corrcoef\n",
    "import utils"
   ]
  },
  {
   "cell_type": "markdown",
   "metadata": {},
   "source": [
    "Load the data"
   ]
  },
  {
   "cell_type": "code",
   "execution_count": 3,
   "metadata": {},
   "outputs": [
    {
     "name": "stdout",
     "output_type": "stream",
     "text": [
      "Loaded the big dataset with 1000 a_p's and 574948 curves..\n",
      "Loaded the big dataset with 1000 a_p's and 1000000 curves..\n"
     ]
    }
   ],
   "source": [
    "#dflmfdb = utils.load_data(\"../data_files/1000_aps/ecq_B_1000_all_one_per_iso_1_524287.parquet\")\n",
    "dflmfdb = utils.load_data(\"../data_files/1000_aps/ecq_B_1000_all_one_per_iso_1_131017.parquet\")\n",
    "#dfcustom = utils.load_data(\"../data_files/custom/custom_dataset.parquet\") # Load entire custom dataset\n",
    "dfcustom = utils.load_data(\"../data_files/custom/custom_dataset_1000000.parquet\") # Load 1 million rows of custom dataset"
   ]
  },
  {
   "cell_type": "markdown",
   "metadata": {},
   "source": [
    "Extract first N a_p values and small/large rank"
   ]
  },
  {
   "cell_type": "code",
   "execution_count": 4,
   "metadata": {},
   "outputs": [
    {
     "name": "stdout",
     "output_type": "stream",
     "text": [
      "|Number of aps|Accuracy|MCC|\n",
      "|---|---|---|\n",
      "|200|0.877719|0.6080748568897506|\n",
      "|400|0.890026|0.6311556614336937|\n",
      "|600|0.896924|0.6446289007944159|\n",
      "|800|0.902101|0.6555438254214333|\n",
      "|1000|0.905832|0.6637688608128365|\n"
     ]
    }
   ],
   "source": [
    "Xlmfdb = dflmfdb.drop(columns=['conductor','rank'])\n",
    "ylmfdb = dflmfdb['rank'] > 1\n",
    "Xcustom = dfcustom.drop(columns=['conductor','rank'])\n",
    "ycustom = dfcustom['rank'] > 1\n",
    "\n",
    "print('|Number of aps|Accuracy|MCC|')\n",
    "print('|---|---|---|')\n",
    "\n",
    "#results = pd.DataFrame(columns=['Number of aps', 'Accuracy', 'MCC'])\n",
    "\n",
    "for i in range(1,6):\n",
    "    num_aps = 200*i\n",
    "    Xlmfdb_restricted = Xlmfdb.iloc[:,:num_aps]\n",
    "    Xcustom_restricted = Xcustom.iloc[:,:num_aps]\n",
    "\n",
    "    model = LogisticRegression()\n",
    "    model.fit(Xlmfdb_restricted, ylmfdb)\n",
    "\n",
    "    ypred = model.predict(Xcustom_restricted)\n",
    "\n",
    "    acc = accuracy_score(ycustom, ypred)\n",
    "    mcc = matthews_corrcoef(ycustom, ypred)\n",
    "\n",
    "    print('|' + str(num_aps) + '|' + str(acc) + '|' + str(mcc) + '|')\n",
    "\n",
    "    #results_i = pd.DataFrame({\"Number of aps\": [num_aps], \"Accuracy\": [acc], \"MCC\": [mcc]}, index=[i])\n",
    "\n",
    "    #results = pd.concat([results,results_i])\n",
    "\n",
    "#print(results)"
   ]
  }
 ],
 "metadata": {
  "kernelspec": {
   "display_name": "Python 3",
   "language": "python",
   "name": "python3"
  },
  "language_info": {
   "codemirror_mode": {
    "name": "ipython",
    "version": 3
   },
   "file_extension": ".py",
   "mimetype": "text/x-python",
   "name": "python",
   "nbconvert_exporter": "python",
   "pygments_lexer": "ipython3",
   "version": "3.12.4"
  }
 },
 "nbformat": 4,
 "nbformat_minor": 2
}
