{
 "cells": [
  {
   "cell_type": "markdown",
   "id": "87997e",
   "metadata": {
    "collapsed": false
   },
   "source": [
    "# Classify if Sha of the Elkies-Klagsbrun curve is trivial"
   ]
  },
  {
   "cell_type": "code",
   "execution_count": 3,
   "id": "303e04",
   "metadata": {
    "collapsed": false
   },
   "outputs": [
   ],
   "source": [
    "from lib import utils\n",
    "from lib import models\n",
    "from lib import executor\n",
    "import torch\n",
    "import pandas as pd\n",
    "import pyarrow.parquet as pq\n",
    "import numpy as np\n",
    "import torch.nn as nn\n",
    "import torch.optim as optim\n",
    "from sklearn.model_selection import train_test_split\n",
    "from sklearn.ensemble import HistGradientBoostingClassifier\n",
    "from sklearn.metrics import mean_squared_error, accuracy_score\n",
    "from sklearn.metrics import matthews_corrcoef\n",
    "import matplotlib.pyplot as plt"
   ]
  },
  {
   "cell_type": "markdown",
   "id": "8b731c",
   "metadata": {
    "collapsed": false
   },
   "source": [
    "# Prepare data"
   ]
  },
  {
   "cell_type": "code",
   "execution_count": 4,
   "id": "05560e",
   "metadata": {
    "collapsed": false
   },
   "outputs": [
    {
     "name": "stderr",
     "output_type": "stream",
     "text": [
      "/tmp/ipykernel_1526/1584176175.py:36: RuntimeWarning: divide by zero encountered in log\n",
      "  X = np.log(X.values)\n"
     ]
    }
   ],
   "source": [
    "# fix the random seed\n",
    "seed = 42\n",
    "\n",
    "# load your data here. The following ensure this will work on Windows as well as Unix\n",
    "# columns to read\n",
    "columns = ['rank', 'regulator', 'torsion', 'sha', 'real_period', 'tamagawa_product']\n",
    "\n",
    "# 1. load the small conductor dataset\n",
    "path = '../data_files/sha/ecq_sha_B_100_conds_1_500000_reg.parquet'\n",
    "# Read the specified columns using PyArrow\n",
    "table = pq.read_table(path, columns=columns)\n",
    "# Convert the PyArrow Table to a Pandas DataFrame\n",
    "df = table.to_pandas()\n",
    "\n",
    "# 2. load the big conductor dataset \n",
    "path = '../data_files/sha/ecq_sha_B_1000_conds_lt_500k.parquet'\n",
    "# Read the specified columns using PyArrow\n",
    "table = pq.read_table(path, columns=columns)\n",
    "# Convert the PyArrow Table to a Pandas DataFrame\n",
    "df_large_cond = table.to_pandas()\n",
    "\n",
    "# 3. concatenate both\n",
    "df = pd.concat([df, df_large_cond], axis=0)\n",
    "\n",
    "# 4. get the sqrt of sha\n",
    "df['sqrt_sha'] = df['sha'].apply(lambda x: int(x**0.5))\n",
    "df.drop('sha', axis=1, inplace=True)\n",
    "label_col = 'sqrt_sha'\n",
    "\n",
    "# 5. convert if sqrt_sha is trivial\n",
    "df['sqrt_sha'] = df['sqrt_sha'].apply(lambda x: x > 1)\n",
    "\n",
    "# 6. log transform X\n",
    "feature_columns = [c for c in df.columns if c != 'sqrt_sha']\n",
    "X = df[feature_columns]\n",
    "X = np.log(X.values)\n",
    "y = df[['sqrt_sha']]\n",
    "X_train, X_test, y_train, y_test = train_test_split(X, y, test_size=0.2, random_state=seed)\n",
    "\n",
    "# 7. prepare the input of the Elkies-Klagsbrun curve\n",
    "# X input: \n",
    "# ['rank', 'regulator', 'torsion', 'real_period', 'tamagawa_product']\n",
    "Elkies_Klagsbrun_X = np.array([29, 1433744182671713097629179252379019849.493842, 1, 3.5090427060633614999186666781786131525e-15, 10725120]).reshape(-1, 5)"
   ]
  },
  {
   "cell_type": "markdown",
   "id": "3ed9dd",
   "metadata": {
    "collapsed": false
   },
   "source": [
    "# Gradient boost model"
   ]
  },
  {
   "cell_type": "code",
   "execution_count": 5,
   "id": "ce5367",
   "metadata": {
    "collapsed": false
   },
   "outputs": [
    {
     "name": "stderr",
     "output_type": "stream",
     "text": [
      "/usr/local/sage/local/var/lib/sage/venv-python3.12.4/lib/python3.12/site-packages/sklearn/utils/validation.py:1339: DataConversionWarning: A column-vector y was passed when a 1d array was expected. Please change the shape of y to (n_samples, ), for example using ravel().\n",
      "  y = column_or_1d(y, warn=True)\n"
     ]
    },
    {
     "name": "stdout",
     "output_type": "stream",
     "text": [
      "In the test set: Accuracy: 0.93135872. MCC: 0.47209114\n",
      "--------------------\n",
      "The model predicts that Elkie-Klagsbrun cuve has Sha trivial: True with probability 0.9999287932325964\n"
     ]
    }
   ],
   "source": [
    "# Run a tree classification model\n",
    "model = HistGradientBoostingClassifier(random_state=seed)\n",
    "model.fit(X_train, y_train)\n",
    "y_pred = model.predict(X_test)\n",
    "\n",
    "# Calculate accuracy\n",
    "accuracy = accuracy_score(y_test, y_pred)\n",
    "\n",
    "# Calculate MCC\n",
    "mcc = matthews_corrcoef(y_test, y_pred)\n",
    "\n",
    "print(f'In the test set: Accuracy: {accuracy:0.8f}. MCC: {mcc:0.8f}')\n",
    "\n",
    "# predict sha of the Elkies-Klagsbrun curve\n",
    "print('-'*20)\n",
    "print(f\"The model predicts that Elkie-Klagsbrun cuve has Sha trivial: {not model.predict(Elkies_Klagsbrun_X)[0]} with probability {model.predict_proba(Elkies_Klagsbrun_X)[0][0]}\")"
   ]
  },
  {
   "cell_type": "markdown",
   "id": "18e730",
   "metadata": {
    "collapsed": false
   },
   "source": [
    "# NN model"
   ]
  },
  {
   "cell_type": "code",
   "execution_count": 7,
   "id": "933275",
   "metadata": {
    "collapsed": false
   },
   "outputs": [
    {
     "name": "stdout",
     "output_type": "stream",
     "text": [
      "Using cuda device\n"
     ]
    }
   ],
   "source": [
    "# check if we have cuda available\n",
    "device = 'cpu' if not torch.cuda.is_available() else 'cuda'\n",
    "print(f'Using {device} device')\n",
    "\n",
    "# choose model parameters\n",
    "hidden_units = [128,64,32]\n",
    "\n",
    "# choose training parameters\n",
    "loss_func = nn.CrossEntropyLoss()\n",
    "num_epochs = 3\n",
    "lr = 0.0005\n",
    "evaluator = matthews_corrcoef"
   ]
  },
  {
   "cell_type": "code",
   "execution_count": 15,
   "id": "2ba0d1",
   "metadata": {
    "collapsed": false
   },
   "outputs": [
    {
     "name": "stdout",
     "output_type": "stream",
     "text": [
      "The model predicts that Elkie-Klagsbrun cuve has Sha trivial: True with probability 1.0\n"
     ]
    }
   ],
   "source": [
    "# train and test the result\n",
    "input_dim, output_dim = utils.get_input_output_dim(df, 'sqrt_sha', if_regression=False)\n",
    "model = models.VanillaNN(input_dim, hidden_units, output_dim, if_dropout=True, dropout_rate=0.6, if_batchnorm=True).to(device)\n",
    "optimizer = optim.Adam(model.parameters(), lr=lr) # reinitialize optimizer\n",
    "train_dataloader, val_dataset, test_dataset = utils.prepare_data(df, 'sqrt_sha', device, if_regression=False, random_state=seed)\n",
    "model, train_eval_hist, val_eval_hist, train_loss_hist, val_loss_hist = executor.train(model, train_dataloader, val_dataset, loss_func, evaluator, optimizer, num_epochs, if_regression=False, verbose=True)\n",
    "mcc = executor.test(model, test_dataset, evaluator, if_regression=False)\n",
    "accuracy = executor.test(model, test_dataset, accuracy_score, if_regression=False)\n",
    "print(f'In the test set: Accuracy: {accuracy:0.8f}. MCC: {mcc:0.8f}')\n",
    "print('-'*20)\n",
    "\n",
    "# predict sha of Elkies-Klagsbrun curve\n",
    "sm = nn.Softmax(1)  # softmax layer\n",
    "pred = model(torch.tensor(Elkies_Klagsbrun_X,dtype=torch.float32).to(device))  # output of the model\n",
    "prob = sm(pred)  # probability predicted by the model\n",
    "print(f\"The model predicts that Elkie-Klagsbrun cuve has Sha trivial: {True if torch.argmax(prob) == 0 else False} with probability {prob[0][torch.argmax(prob)]}\")"
   ]
  }
 ],
 "metadata": {
  "kernelspec": {
   "argv": [
    "sage",
    "--python",
    "-m",
    "ipykernel",
    "-c",
    "%config InlineBackend.figure_formats = set(['retina'])\nimport matplotlib; matplotlib.rcParams['figure.figsize'] = (12, 7)",
    "--matplotlib=inline",
    "-f",
    "{connection_file}"
   ],
   "display_name": "Python 3 (SageMath)",
   "env": {
   },
   "language": "python",
   "name": "python3-sage",
   "resource_dir": "/opt/venv/share/jupyter/kernels/python3-sage"
  },
  "language_info": {
   "codemirror_mode": {
    "name": "ipython",
    "version": 3
   },
   "file_extension": ".py",
   "mimetype": "text/x-python",
   "name": "python",
   "nbconvert_exporter": "python",
   "pygments_lexer": "ipython3",
   "version": "3.12.4"
  }
 },
 "nbformat": 4,
 "nbformat_minor": 4
}