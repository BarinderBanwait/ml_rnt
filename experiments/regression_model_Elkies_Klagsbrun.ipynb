{
 "cells": [
  {
   "cell_type": "markdown",
   "id": "168dc7",
   "metadata": {
    "collapsed": false
   },
   "source": [
    "# Predict the Sha size of the Elkies-Klagsbrun curve"
   ]
  },
  {
   "cell_type": "code",
   "execution_count": 6,
   "id": "5acc6b",
   "metadata": {
    "collapsed": false
   },
   "outputs": [
   ],
   "source": [
    "import torch\n",
    "import pandas as pd\n",
    "import pyarrow.parquet as pq\n",
    "import numpy as np\n",
    "import torch.nn as nn\n",
    "from sklearn.model_selection import train_test_split\n",
    "from sklearn.ensemble import HistGradientBoostingRegressor\n",
    "from sklearn.metrics import accuracy_score\n",
    "from sklearn.metrics import matthews_corrcoef"
   ]
  },
  {
   "cell_type": "markdown",
   "id": "e0b7c2",
   "metadata": {
    "collapsed": false
   },
   "source": [
    "# Prepare data"
   ]
  },
  {
   "cell_type": "code",
   "execution_count": 7,
   "id": "eedf93",
   "metadata": {
    "collapsed": false
   },
   "outputs": [
   ],
   "source": [
    "# fix the random seed\n",
    "seed = 42\n",
    "\n",
    "# load your data here. The following ensure this will work on Windows as well as Unix\n",
    "# columns to read\n",
    "columns = ['rank', 'regulator', 'torsion', 'sha', 'real_period', 'tamagawa_product']\n",
    "\n",
    "# 1. load the small conductor dataset\n",
    "path = '../data_files/sha/ecq_sha_B_100_conds_1_500000_reg.parquet'\n",
    "# Read the specified columns using PyArrow\n",
    "table = pq.read_table(path, columns=columns)\n",
    "# Convert the PyArrow Table to a Pandas DataFrame\n",
    "df = table.to_pandas()\n",
    "\n",
    "# 2. load the big conductor dataset \n",
    "path = '../data_files/sha/ecq_sha_B_1000_conds_lt_500k.parquet'\n",
    "# Read the specified columns using PyArrow\n",
    "table = pq.read_table(path, columns=columns)\n",
    "# Convert the PyArrow Table to a Pandas DataFrame\n",
    "df_large_cond = table.to_pandas()\n",
    "\n",
    "# 3. concatenate both\n",
    "df = pd.concat([df, df_large_cond], axis=0)\n",
    "\n",
    "# 4. get the sqrt of sha\n",
    "df['sqrt_sha'] = df['sha'].apply(lambda x: int(x**0.5))\n",
    "df.drop('sha', axis=1, inplace=True)\n",
    "label_col = 'sqrt_sha'"
   ]
  },
  {
   "cell_type": "markdown",
   "id": "f0aeac",
   "metadata": {
    "collapsed": false
   },
   "source": [
    "# Train the model and evaluate it on test set\n"
   ]
  },
  {
   "cell_type": "code",
   "execution_count": 10,
   "id": "1d16e8",
   "metadata": {
    "collapsed": false
   },
   "outputs": [
   ],
   "source": [
    "# Run a tree regression model\n",
    "\n",
    "feature_columns = [c for c in df.columns if c != 'sqrt_sha']\n",
    "X = df[feature_columns]\n",
    "y = df[['sqrt_sha']]\n",
    "X_train, X_test, y_train, y_test = train_test_split(X, y, test_size=0.2, random_state=seed)\n",
    "model = HistGradientBoostingRegressor(random_state=42)\n",
    "model.fit(X_train, y_train\n",
    "y_pred = model.predict(X_test)\n",
    "y_pred_rounded = np.round(y_pred).astype(int)\n",
    "\n",
    "# # Convert y_test to a 1D list of actual values\n",
    "y_test = y_test.values.flatten()\n",
    "\n",
    "# Calculate accuracy\n",
    "accuracy = accuracy_score(y_test, y_pred_rounded)\n",
    "# calculate MCC\n",
    "MCC = matthews_corrcoef(y_test, y_pred_rounded)\n",
    "\n",
    "print(f'On test set: Accuracy: {accuracy:0.8f}. MCC: {MCC:0.8f}.')"
   ]
  },
  {
   "cell_type": "markdown",
   "id": "2908be",
   "metadata": {
    "collapsed": false
   },
   "source": [
    "# Predict the Sha size of E29"
   ]
  },
  {
   "cell_type": "code",
   "execution_count": 12,
   "id": "abf52e",
   "metadata": {
    "collapsed": false
   },
   "outputs": [
    {
     "name": "stdout",
     "output_type": "stream",
     "text": [
      "The model predicts that Elkie-Klagsbrun cuve has Sha size: 1.0\n"
     ]
    },
    {
     "name": "stderr",
     "output_type": "stream",
     "text": [
      "/usr/local/sage/local/var/lib/sage/venv-python3.12.4/lib/python3.12/site-packages/sklearn/base.py:493: UserWarning: X does not have valid feature names, but HistGradientBoostingRegressor was fitted with feature names\n",
      "  warnings.warn(\n"
     ]
    }
   ],
   "source": [
    "# X input: \n",
    "# ['rank', 'regulator', 'torsion', 'real_period', 'tamagawa_product']\n",
    "Elkies_Klagsbrun_X = np.array([29, 1433744182671713097629179252379019849.493842, 1, 3.5090427060633614999186666781786131525e-15, 10725120]).reshape(-1, 5)\n",
    "print(f\"The model predicts that Elkie-Klagsbrun cuve has Sha size: {np.round(model.predict(Elkies_Klagsbrun_X))[0]}\")"
   ]
  }
 ],
 "metadata": {
  "kernelspec": {
   "argv": [
    "sage",
    "--python",
    "-m",
    "ipykernel",
    "-c",
    "%config InlineBackend.figure_formats = set(['retina'])\nimport matplotlib; matplotlib.rcParams['figure.figsize'] = (12, 7)",
    "--matplotlib=inline",
    "-f",
    "{connection_file}"
   ],
   "display_name": "Python 3 (SageMath)",
   "env": {
   },
   "language": "python",
   "name": "python3-sage",
   "resource_dir": "/opt/venv/share/jupyter/kernels/python3-sage"
  },
  "language_info": {
   "codemirror_mode": {
    "name": "ipython",
    "version": 3
   },
   "file_extension": ".py",
   "mimetype": "text/x-python",
   "name": "python",
   "nbconvert_exporter": "python",
   "pygments_lexer": "ipython3",
   "version": "3.12.4"
  }
 },
 "nbformat": 4,
 "nbformat_minor": 4
}