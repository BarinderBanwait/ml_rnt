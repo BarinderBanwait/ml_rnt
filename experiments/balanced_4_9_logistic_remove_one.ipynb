{
 "cells": [
  {
   "cell_type": "markdown",
   "id": "1bdd70",
   "metadata": {
    "collapsed": false
   },
   "source": [
    "This notebook is for logistic regression on curves with size of Sha equal to 4 and 9 and removing one BSD feature at a time. This includes both the original and log-transformed data."
   ]
  },
  {
   "cell_type": "code",
   "execution_count": 11,
   "id": "e7305b",
   "metadata": {
    "collapsed": false
   },
   "outputs": [
   ],
   "source": [
    "from lib import utils, models, executor\n",
    "import torch.nn as nn\n",
    "import torch.optim as optim\n",
    "from pathlib import Path\n",
    "import pandas as pd\n",
    "from sklearn.metrics import mean_absolute_error, mean_squared_error\n",
    "\n",
    "# fix the seed for reproducibility\n",
    "seed = 42"
   ]
  },
  {
   "cell_type": "markdown",
   "id": "eb0cfa",
   "metadata": {
    "collapsed": false
   },
   "source": [
    "# 1. Create balanced dataset of elliptic curves with size of the Tate-Shafarevich group equal to 4 and 9 containing all BSD features"
   ]
  },
  {
   "cell_type": "code",
   "execution_count": 2,
   "id": "f01dce",
   "metadata": {
    "collapsed": false
   },
   "outputs": [
    {
     "name": "stdout",
     "output_type": "stream",
     "text": [
      "Loaded the dataset with 120 features and 3064705 curves..\n"
     ]
    }
   ],
   "source": [
    "# load your data here. The following ensure this will work on Windows as well as Unix\n",
    "path = Path(\"..\") / \"data_files\" / \"sha\"/ \"ecq_sha_B_100_conds_1_500000_reg.parquet\"\n",
    "df = utils.load_data(path)"
   ]
  },
  {
   "cell_type": "code",
   "execution_count": 4,
   "id": "4c1a64",
   "metadata": {
    "collapsed": false
   },
   "outputs": [
    {
     "data": {
      "text/plain": [
       "sha\n",
       "4    50428\n",
       "9    50428\n",
       "Name: count, dtype: int64"
      ]
     },
     "execution_count": 4,
     "metadata": {
     },
     "output_type": "execute_result"
    }
   ],
   "source": [
    "len_9 = df[df['sha'] == 9].shape[0]\n",
    "df_balanced = df[df['sha'] == 4].sample(len_9, random_state=seed) \n",
    "df_balanced = pd.concat([df_balanced, df[df['sha'] == 9]])\n",
    "df_balanced.sha.value_counts()"
   ]
  },
  {
   "cell_type": "code",
   "execution_count": 5,
   "id": "8f89a2",
   "metadata": {
    "collapsed": false
   },
   "outputs": [
   ],
   "source": [
    "#Get columns with all the BSD features, from which we will eventually remove one at a time\n",
    "bsd_features = ['special_value', 'torsion', 'real_period', 'regulator', 'tamagawa_product', 'sha']\n",
    "\n",
    "df_balanced_bsd = df_balanced[bsd_features].copy()"
   ]
  },
  {
   "cell_type": "code",
   "execution_count": 15,
   "id": "8c29ee",
   "metadata": {
    "collapsed": false
   },
   "outputs": [
    {
     "data": {
      "text/html": [
       "<div>\n",
       "<style scoped>\n",
       "    .dataframe tbody tr th:only-of-type {\n",
       "        vertical-align: middle;\n",
       "    }\n",
       "\n",
       "    .dataframe tbody tr th {\n",
       "        vertical-align: top;\n",
       "    }\n",
       "\n",
       "    .dataframe thead th {\n",
       "        text-align: right;\n",
       "    }\n",
       "</style>\n",
       "<table border=\"1\" class=\"dataframe\">\n",
       "  <thead>\n",
       "    <tr style=\"text-align: right;\">\n",
       "      <th></th>\n",
       "      <th>special_value</th>\n",
       "      <th>torsion</th>\n",
       "      <th>real_period</th>\n",
       "      <th>regulator</th>\n",
       "      <th>tamagawa_product</th>\n",
       "      <th>sha</th>\n",
       "    </tr>\n",
       "  </thead>\n",
       "  <tbody>\n",
       "    <tr>\n",
       "      <th>334625</th>\n",
       "      <td>2.19751</td>\n",
       "      <td>2</td>\n",
       "      <td>0.54938</td>\n",
       "      <td>1.0</td>\n",
       "      <td>4</td>\n",
       "      <td>4</td>\n",
       "    </tr>\n",
       "    <tr>\n",
       "      <th>1086182</th>\n",
       "      <td>3.22805</td>\n",
       "      <td>1</td>\n",
       "      <td>0.80701</td>\n",
       "      <td>1.0</td>\n",
       "      <td>1</td>\n",
       "      <td>4</td>\n",
       "    </tr>\n",
       "    <tr>\n",
       "      <th>1782926</th>\n",
       "      <td>3.98612</td>\n",
       "      <td>2</td>\n",
       "      <td>0.49826</td>\n",
       "      <td>1.0</td>\n",
       "      <td>8</td>\n",
       "      <td>4</td>\n",
       "    </tr>\n",
       "    <tr>\n",
       "      <th>2484030</th>\n",
       "      <td>2.99537</td>\n",
       "      <td>1</td>\n",
       "      <td>0.09361</td>\n",
       "      <td>1.0</td>\n",
       "      <td>8</td>\n",
       "      <td>4</td>\n",
       "    </tr>\n",
       "    <tr>\n",
       "      <th>3053287</th>\n",
       "      <td>2.23394</td>\n",
       "      <td>1</td>\n",
       "      <td>0.09308</td>\n",
       "      <td>1.0</td>\n",
       "      <td>6</td>\n",
       "      <td>4</td>\n",
       "    </tr>\n",
       "  </tbody>\n",
       "</table>\n",
       "</div>"
      ],
      "text/plain": [
       "         special_value  torsion  real_period  regulator  tamagawa_product  sha\n",
       "334625         2.19751        2      0.54938        1.0                 4    4\n",
       "1086182        3.22805        1      0.80701        1.0                 1    4\n",
       "1782926        3.98612        2      0.49826        1.0                 8    4\n",
       "2484030        2.99537        1      0.09361        1.0                 8    4\n",
       "3053287        2.23394        1      0.09308        1.0                 6    4"
      ]
     },
     "execution_count": 15,
     "metadata": {
     },
     "output_type": "execute_result"
    }
   ],
   "source": [
    "df_balanced_bsd.head(5)"
   ]
  },
  {
   "cell_type": "markdown",
   "id": "22b838",
   "metadata": {
    "collapsed": false
   },
   "source": [
    "# 2. Delete one feature at a time on original data\n",
    "\n",
    "The best accuracy is about 65%."
   ]
  },
  {
   "cell_type": "code",
   "execution_count": 9,
   "id": "3c2994",
   "metadata": {
    "collapsed": false
   },
   "outputs": [
   ],
   "source": [
    "import numpy as np\n",
    "from sklearn.model_selection import train_test_split\n",
    "from sklearn.linear_model import LogisticRegression\n",
    "from sklearn.metrics import accuracy_score"
   ]
  },
  {
   "cell_type": "code",
   "execution_count": 18,
   "id": "e6f4a5",
   "metadata": {
    "collapsed": false
   },
   "outputs": [
    {
     "name": "stdout",
     "output_type": "stream",
     "text": [
      "Running model without special_value..\n"
     ]
    },
    {
     "name": "stdout",
     "output_type": "stream",
     "text": [
      "Running model without torsion..\n"
     ]
    },
    {
     "name": "stdout",
     "output_type": "stream",
     "text": [
      "Running model without real_period..\n"
     ]
    },
    {
     "name": "stdout",
     "output_type": "stream",
     "text": [
      "Running model without regulator..\n"
     ]
    },
    {
     "name": "stdout",
     "output_type": "stream",
     "text": [
      "Running model without tamagawa_product..\n",
      "    Feature Deleted  Accuracy\n",
      "0     special_value  0.613722\n",
      "1           torsion  0.646589\n",
      "2       real_period  0.609310\n",
      "3         regulator  0.613425\n",
      "4  tamagawa_product  0.650109\n"
     ]
    }
   ],
   "source": [
    "# Initialize an empty DataFrame to store the results\n",
    "results_df_lr = pd.DataFrame({\n",
    "    'Feature Deleted': pd.Series(dtype='str'),\n",
    "    'Accuracy': pd.Series(dtype='float')})\n",
    "\n",
    "\n",
    "for i in range(len(bsd_features[:-1])):\n",
    "    print(f'Running model without {bsd_features[i]}..')\n",
    "    df_sub = df_balanced_bsd.drop(columns=[bsd_features[i]]).copy()\n",
    "    X = df_sub[[c for c in df_sub.columns if c != 'sha']]\n",
    "    y = df_sub['sha']\n",
    "    X_train, X_test, y_train, y_test = train_test_split(X, y, test_size=0.2, random_state=seed)\n",
    "    model = LogisticRegression()\n",
    "    model.fit(X_train, y_train)\n",
    "    y_pred = model.predict(X_test)\n",
    "    accuracy = accuracy_score(y_test, y_pred)\n",
    "    \n",
    "   # Append the results to the DataFrame\n",
    "    results_df_lr = pd.concat([results_df_lr, pd.DataFrame([{'Feature Deleted': bsd_features[i], 'Accuracy': accuracy}])], ignore_index=True)\n",
    "    \n",
    "print(results_df_lr)"
   ]
  },
  {
   "cell_type": "markdown",
   "id": "bc87d3",
   "metadata": {
    "collapsed": false
   },
   "source": [
    "# 3. Delete one feature at a time on log-transformed data\n",
    "\n",
    "Now, the best accuracy is at ~95% for missing regulator."
   ]
  },
  {
   "cell_type": "code",
   "execution_count": 19,
   "id": "a31f27",
   "metadata": {
    "collapsed": false
   },
   "outputs": [
   ],
   "source": [
    "import numpy as np\n",
    "from sklearn.model_selection import train_test_split\n",
    "from sklearn.linear_model import LogisticRegression\n",
    "from sklearn.metrics import accuracy_score"
   ]
  },
  {
   "cell_type": "code",
   "execution_count": 23,
   "id": "ef5dfa",
   "metadata": {
    "collapsed": false
   },
   "outputs": [
    {
     "name": "stdout",
     "output_type": "stream",
     "text": [
      "Running model without special_value..\n",
      "Running model without torsion..\n"
     ]
    },
    {
     "name": "stdout",
     "output_type": "stream",
     "text": [
      "Running model without real_period..\n",
      "Running model without regulator..\n"
     ]
    },
    {
     "name": "stdout",
     "output_type": "stream",
     "text": [
      "Running model without tamagawa_product..\n",
      "    Feature Deleted  Accuracy\n",
      "0     special_value  0.697849\n",
      "1           torsion  0.716984\n",
      "2       real_period  0.610946\n",
      "3         regulator  0.948493\n",
      "4  tamagawa_product  0.642871\n"
     ]
    }
   ],
   "source": [
    "# Initialize an empty DataFrame to store the results\n",
    "results_df_lr = pd.DataFrame({\n",
    "    'Feature Deleted': pd.Series(dtype='str'),\n",
    "    'Accuracy': pd.Series(dtype='float')})\n",
    "\n",
    "\n",
    "for i in range(len(bsd_features[:-1])):\n",
    "    print(f'Running model without {bsd_features[i]}..')\n",
    "    df_sub_log = df_balanced_bsd.drop(columns=[bsd_features[i]]).copy()\n",
    "    print\n",
    "    X = df_sub_log[[c for c in df_sub_log.columns if c != 'sha']].apply(np.log)\n",
    "    y = df_sub_log['sha']\n",
    "    X_train, X_test, y_train, y_test = train_test_split(X, y, test_size=0.2, random_state=seed)\n",
    "    model = LogisticRegression()\n",
    "    model.fit(X_train, y_train)\n",
    "    y_pred = model.predict(X_test)\n",
    "    accuracy = accuracy_score(y_test, y_pred)\n",
    "    \n",
    "   # Append the results to the DataFrame\n",
    "    results_df_lr = pd.concat([results_df_lr, pd.DataFrame([{'Feature Deleted': bsd_features[i], 'Accuracy': accuracy}])], ignore_index=True)\n",
    "    \n",
    "print(results_df_lr)"
   ]
  },
  {
   "cell_type": "code",
   "execution_count": 0,
   "id": "82a130",
   "metadata": {
    "collapsed": false
   },
   "outputs": [
   ],
   "source": [
   ]
  }
 ],
 "metadata": {
  "kernelspec": {
   "argv": [
    "sage",
    "--python",
    "-m",
    "ipykernel",
    "-c",
    "%config InlineBackend.figure_formats = set(['retina'])\nimport matplotlib; matplotlib.rcParams['figure.figsize'] = (12, 7)",
    "--matplotlib=inline",
    "-f",
    "{connection_file}"
   ],
   "display_name": "Python 3 (SageMath)",
   "env": {
   },
   "language": "python",
   "name": "python3-sage",
   "resource_dir": "/opt/venv/share/jupyter/kernels/python3-sage"
  },
  "language_info": {
   "codemirror_mode": {
    "name": "ipython",
    "version": 3
   },
   "file_extension": ".py",
   "mimetype": "text/x-python",
   "name": "python",
   "nbconvert_exporter": "python",
   "pygments_lexer": "ipython3",
   "version": "3.10.12"
  }
 },
 "nbformat": 4,
 "nbformat_minor": 4
}