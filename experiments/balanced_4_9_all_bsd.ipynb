{
 "cells": [
  {
   "cell_type": "code",
   "execution_count": 3,
   "id": "75e194",
   "metadata": {
    "collapsed": false
   },
   "outputs": [
   ],
   "source": [
    "from lib import utils, models, executor\n",
    "import torch.nn as nn\n",
    "import torch.optim as optim\n",
    "from pathlib import Path\n",
    "import pandas as pd\n",
    "from sklearn.metrics import mean_absolute_error, mean_squared_error"
   ]
  },
  {
   "cell_type": "markdown",
   "id": "67b46a",
   "metadata": {
    "collapsed": false
   },
   "source": [
    "## Create the balanced dataset"
   ]
  },
  {
   "cell_type": "code",
   "execution_count": 4,
   "id": "4c9151",
   "metadata": {
    "collapsed": false
   },
   "outputs": [
    {
     "name": "stdout",
     "output_type": "stream",
     "text": [
      "Loaded the dataset with 120 features and 3064705 curves..\n"
     ]
    }
   ],
   "source": [
    "# load your data here. The following ensure this will work on Windows as well as Unix\n",
    "\n",
    "path = Path(\"..\") / \"data_files\" / \"sha\"/ \"ecq_sha_B_100_conds_1_500000_reg.parquet\"\n",
    "df = utils.load_data(path)"
   ]
  },
  {
   "cell_type": "code",
   "execution_count": 5,
   "id": "1d5832",
   "metadata": {
    "collapsed": false
   },
   "outputs": [
    {
     "data": {
      "text/plain": [
       "sha\n",
       "4    50428\n",
       "9    50428\n",
       "Name: count, dtype: int64"
      ]
     },
     "execution_count": 5,
     "metadata": {
     },
     "output_type": "execute_result"
    }
   ],
   "source": [
    "# The first experiment will be to take a balanced 4/9 dataset with all the BSD features, and only the BSD features (i.e. no ap vals). This is a sanity check\n",
    "\n",
    "len_9 = df[df['sha'] == 9].shape[0]\n",
    "df_balanced = df[df['sha'] == 4].sample(len_9) \n",
    "df_balanced = pd.concat([df_balanced, df[df['sha'] == 9]])\n",
    "df_balanced.sha.value_counts()"
   ]
  },
  {
   "cell_type": "code",
   "execution_count": 6,
   "id": "76c754",
   "metadata": {
    "collapsed": false
   },
   "outputs": [
   ],
   "source": [
    "bsd_features = ['special_value', 'torsion', 'real_period', 'regulator', 'tamagawa_product', 'sha']\n",
    "\n",
    "df_balanced_bsd = df_balanced[bsd_features].copy()"
   ]
  },
  {
   "cell_type": "code",
   "execution_count": 7,
   "id": "271b02",
   "metadata": {
    "collapsed": false
   },
   "outputs": [
    {
     "data": {
      "text/html": [
       "<div>\n",
       "<style scoped>\n",
       "    .dataframe tbody tr th:only-of-type {\n",
       "        vertical-align: middle;\n",
       "    }\n",
       "\n",
       "    .dataframe tbody tr th {\n",
       "        vertical-align: top;\n",
       "    }\n",
       "\n",
       "    .dataframe thead th {\n",
       "        text-align: right;\n",
       "    }\n",
       "</style>\n",
       "<table border=\"1\" class=\"dataframe\">\n",
       "  <thead>\n",
       "    <tr style=\"text-align: right;\">\n",
       "      <th></th>\n",
       "      <th>special_value</th>\n",
       "      <th>torsion</th>\n",
       "      <th>real_period</th>\n",
       "      <th>regulator</th>\n",
       "      <th>tamagawa_product</th>\n",
       "      <th>sha</th>\n",
       "    </tr>\n",
       "  </thead>\n",
       "  <tbody>\n",
       "    <tr>\n",
       "      <th>1648936</th>\n",
       "      <td>4.77592</td>\n",
       "      <td>2</td>\n",
       "      <td>0.14925</td>\n",
       "      <td>1.0</td>\n",
       "      <td>32</td>\n",
       "      <td>4</td>\n",
       "    </tr>\n",
       "    <tr>\n",
       "      <th>262328</th>\n",
       "      <td>6.08918</td>\n",
       "      <td>1</td>\n",
       "      <td>0.16914</td>\n",
       "      <td>1.0</td>\n",
       "      <td>9</td>\n",
       "      <td>4</td>\n",
       "    </tr>\n",
       "    <tr>\n",
       "      <th>1667600</th>\n",
       "      <td>2.41156</td>\n",
       "      <td>2</td>\n",
       "      <td>0.30145</td>\n",
       "      <td>1.0</td>\n",
       "      <td>8</td>\n",
       "      <td>4</td>\n",
       "    </tr>\n",
       "    <tr>\n",
       "      <th>2134251</th>\n",
       "      <td>3.07913</td>\n",
       "      <td>2</td>\n",
       "      <td>0.38489</td>\n",
       "      <td>1.0</td>\n",
       "      <td>8</td>\n",
       "      <td>4</td>\n",
       "    </tr>\n",
       "    <tr>\n",
       "      <th>1054165</th>\n",
       "      <td>1.35681</td>\n",
       "      <td>2</td>\n",
       "      <td>0.16960</td>\n",
       "      <td>1.0</td>\n",
       "      <td>8</td>\n",
       "      <td>4</td>\n",
       "    </tr>\n",
       "  </tbody>\n",
       "</table>\n",
       "</div>"
      ],
      "text/plain": [
       "         special_value  torsion  real_period  regulator  tamagawa_product  sha\n",
       "1648936        4.77592        2      0.14925        1.0                32    4\n",
       "262328         6.08918        1      0.16914        1.0                 9    4\n",
       "1667600        2.41156        2      0.30145        1.0                 8    4\n",
       "2134251        3.07913        2      0.38489        1.0                 8    4\n",
       "1054165        1.35681        2      0.16960        1.0                 8    4"
      ]
     },
     "execution_count": 7,
     "metadata": {
     },
     "output_type": "execute_result"
    }
   ],
   "source": [
    "df_balanced_bsd.head(5)"
   ]
  },
  {
   "cell_type": "markdown",
   "id": "3fcb02",
   "metadata": {
    "collapsed": false
   },
   "source": [
    "### The following cell runs logistic regression on the data as-is, and yields about 64% accuracy."
   ]
  },
  {
   "cell_type": "code",
   "execution_count": 9,
   "id": "49cec2",
   "metadata": {
    "collapsed": false
   },
   "outputs": [
    {
     "name": "stdout",
     "output_type": "stream",
     "text": [
      "Accuracy: 0.6395994447749356\n"
     ]
    }
   ],
   "source": [
    "import numpy as np\n",
    "from sklearn.model_selection import train_test_split\n",
    "from sklearn.linear_model import LogisticRegression\n",
    "from sklearn.metrics import accuracy_score\n",
    "\n",
    "# Splitting features and target\n",
    "X = df_balanced_bsd[['special_value', 'torsion', 'real_period', 'regulator', 'tamagawa_product']]\n",
    "y = df_balanced_bsd['sha']\n",
    "\n",
    "# 80/20 train-test split\n",
    "X_train, X_test, y_train, y_test = train_test_split(X, y, test_size=0.2, random_state=42)\n",
    "\n",
    "# Train logistic regression model\n",
    "model = LogisticRegression()\n",
    "model.fit(X_train, y_train)\n",
    "\n",
    "# Predict on the test set\n",
    "y_pred = model.predict(X_test)\n",
    "\n",
    "# Calculate accuracy score\n",
    "accuracy = accuracy_score(y_test, y_pred)\n",
    "\n",
    "# Display the accuracy score\n",
    "print(\"Accuracy:\", accuracy)"
   ]
  },
  {
   "cell_type": "markdown",
   "id": "4cd563",
   "metadata": {
    "collapsed": false
   },
   "source": [
    "### Do the same as above, but this time take the logarithm of the data"
   ]
  },
  {
   "cell_type": "code",
   "execution_count": 8,
   "id": "30a990",
   "metadata": {
    "collapsed": false
   },
   "outputs": [
    {
     "name": "stdout",
     "output_type": "stream",
     "text": [
      "Accuracy: 1.0\n"
     ]
    }
   ],
   "source": [
    "import numpy as np\n",
    "from sklearn.model_selection import train_test_split\n",
    "from sklearn.linear_model import LogisticRegression\n",
    "from sklearn.metrics import accuracy_score\n",
    "\n",
    "# Log transform the dataframe\n",
    "df_log_transformed = df_balanced_bsd.apply(np.log)\n",
    "\n",
    "# Convert the log-transformed 'sha' column back to categorical labels\n",
    "df_log_transformed['sha'] = df_balanced_bsd['sha']\n",
    "\n",
    "# Splitting features and target\n",
    "X = df_log_transformed[['special_value', 'torsion', 'real_period', 'regulator', 'tamagawa_product']]\n",
    "y = df_log_transformed['sha']\n",
    "\n",
    "# 80/20 train-test split\n",
    "X_train, X_test, y_train, y_test = train_test_split(X, y, test_size=0.2, random_state=42)\n",
    "\n",
    "# Train logistic regression model\n",
    "model = LogisticRegression()\n",
    "model.fit(X_train, y_train)\n",
    "\n",
    "# Predict on the test set\n",
    "y_pred = model.predict(X_test)\n",
    "\n",
    "# Calculate accuracy score\n",
    "accuracy = accuracy_score(y_test, y_pred)\n",
    "\n",
    "# Display the accuracy score\n",
    "print(\"Accuracy:\", accuracy)"
   ]
  },
  {
   "cell_type": "markdown",
   "id": "dcec17",
   "metadata": {
    "collapsed": false
   },
   "source": [
    "### Run a linear regression model and give the relationship it thinks exists between the BSD features. It yields the BSD formula. As written in the paper, this is not evidence for BSD."
   ]
  },
  {
   "cell_type": "code",
   "execution_count": 10,
   "id": "ff22b8",
   "metadata": {
    "collapsed": false
   },
   "outputs": [
    {
     "name": "stdout",
     "output_type": "stream",
     "text": [
      "Mean Squared Error: 9.191485945949486e-09\n",
      "Intercept: 5.026547875264242e-06\n",
      "Coefficients: [ 0.99999986  2.00000005 -0.99999814 -0.99999949 -1.00000108]\n",
      "Linear Regression Equation: y = 0.0000 + 1.0000 * special_value + 2.0000 * torsion + -1.0000 * real_period + -1.0000 * regulator + -1.0000 * tamagawa_product\n"
     ]
    }
   ],
   "source": [
    "from sklearn.linear_model import LinearRegression\n",
    "from sklearn.metrics import mean_squared_error\n",
    "\n",
    "# Log transform the dataframe\n",
    "df_log_transformed = df_balanced_bsd.apply(np.log)\n",
    "\n",
    "# Splitting features and target\n",
    "X = df_log_transformed[['special_value', 'torsion', 'real_period', 'regulator', 'tamagawa_product']]\n",
    "y = df_log_transformed['sha']\n",
    "\n",
    "# 80/20 train-test split\n",
    "X_train, X_test, y_train, y_test = train_test_split(X, y, test_size=0.2, random_state=42)\n",
    "\n",
    "# Train linear regression model\n",
    "model = LinearRegression()\n",
    "model.fit(X_train, y_train)\n",
    "\n",
    "# Predict on the test set\n",
    "y_pred = model.predict(X_test)\n",
    "\n",
    "# Calculate mean squared error\n",
    "mse = mean_squared_error(y_test, y_pred)\n",
    "\n",
    "# Display the mean squared error\n",
    "print(\"Mean Squared Error:\", mse)\n",
    "\n",
    "# Display the linear regression equation coefficients\n",
    "print(\"Intercept:\", model.intercept_)\n",
    "print(\"Coefficients:\", model.coef_)\n",
    "\n",
    "# Display the equation\n",
    "equation = \"y = {:.4f} + \".format(model.intercept_)\n",
    "equation += \" + \".join([\"{:.4f} * {}\".format(coef, feature) for coef, feature in zip(model.coef_, X.columns)])\n",
    "print(\"Linear Regression Equation:\", equation)"
   ]
  },
  {
   "cell_type": "markdown",
   "id": "9f1e08",
   "metadata": {
    "collapsed": false
   },
   "source": [
    "### Run a histogram-based gradient boosting machine on the data"
   ]
  },
  {
   "cell_type": "code",
   "execution_count": 15,
   "id": "1c4fe0",
   "metadata": {
    "collapsed": false
   },
   "outputs": [
    {
     "name": "stdout",
     "output_type": "stream",
     "text": [
      "Accuracy: 0.9828970850684117\n",
      "              precision    recall  f1-score   support\n",
      "\n",
      "           4       0.98      0.99      0.98     10173\n",
      "           9       0.99      0.98      0.98      9999\n",
      "\n",
      "    accuracy                           0.98     20172\n",
      "   macro avg       0.98      0.98      0.98     20172\n",
      "weighted avg       0.98      0.98      0.98     20172\n",
      "\n"
     ]
    }
   ],
   "source": [
    "from sklearn.ensemble import HistGradientBoostingClassifier\n",
    "from sklearn.metrics import accuracy_score, classification_report\n",
    "\n",
    "# Splitting features and target\n",
    "X = df_balanced_bsd[['special_value', 'torsion', 'real_period', 'regulator', 'tamagawa_product']]\n",
    "y = df_balanced_bsd['sha']\n",
    "\n",
    "# 80/20 train-test split\n",
    "X_train, X_test, y_train, y_test = train_test_split(X, y, test_size=0.2, random_state=42)\n",
    "\n",
    "# Train a Histogram-based Gradient Boosting classifier\n",
    "model = HistGradientBoostingClassifier(random_state=42)\n",
    "model.fit(X_train, y_train)\n",
    "\n",
    "# Make predictions on the test set\n",
    "y_pred = model.predict(X_test)\n",
    "\n",
    "# Evaluate model performance\n",
    "accuracy = accuracy_score(y_test, y_pred)\n",
    "print(f'Accuracy: {accuracy}')\n",
    "print(classification_report(y_test, y_pred))"
   ]
  },
  {
   "cell_type": "markdown",
   "id": "9882e7",
   "metadata": {
    "collapsed": false
   },
   "source": [
    "### As mentioned in the paper, taking the log of the data makes no difference"
   ]
  },
  {
   "cell_type": "code",
   "execution_count": 16,
   "id": "74bac9",
   "metadata": {
    "collapsed": false
   },
   "outputs": [
    {
     "name": "stdout",
     "output_type": "stream",
     "text": [
      "Accuracy: 0.9828970850684117\n",
      "              precision    recall  f1-score   support\n",
      "\n",
      "           4       0.98      0.99      0.98     10173\n",
      "           9       0.99      0.98      0.98      9999\n",
      "\n",
      "    accuracy                           0.98     20172\n",
      "   macro avg       0.98      0.98      0.98     20172\n",
      "weighted avg       0.98      0.98      0.98     20172\n",
      "\n"
     ]
    }
   ],
   "source": [
    "# Log transform the dataframe\n",
    "df_log_transformed = df_balanced_bsd.apply(np.log)\n",
    "\n",
    "# Convert the log-transformed 'sha' column back to categorical labels\n",
    "df_log_transformed['sha'] = df_balanced_bsd['sha']\n",
    "\n",
    "# Splitting features and target\n",
    "X = df_log_transformed[['special_value', 'torsion', 'real_period', 'regulator', 'tamagawa_product']]\n",
    "y = df_log_transformed['sha']\n",
    "\n",
    "# 80/20 train-test split\n",
    "X_train, X_test, y_train, y_test = train_test_split(X, y, test_size=0.2, random_state=42)\n",
    "\n",
    "# Train a Histogram-based Gradient Boosting classifier\n",
    "model = HistGradientBoostingClassifier(random_state=42)\n",
    "model.fit(X_train, y_train)\n",
    "\n",
    "# Make predictions on the test set\n",
    "y_pred = model.predict(X_test)\n",
    "\n",
    "# Evaluate model performance\n",
    "accuracy = accuracy_score(y_test, y_pred)\n",
    "print(f'Accuracy: {accuracy}')\n",
    "print(classification_report(y_test, y_pred))"
   ]
  }
 ],
 "metadata": {
  "kernelspec": {
   "argv": [
    "sage",
    "--python",
    "-m",
    "ipykernel",
    "-c",
    "%config InlineBackend.figure_formats = set(['retina'])\nimport matplotlib; matplotlib.rcParams['figure.figsize'] = (12, 7)",
    "--matplotlib=inline",
    "-f",
    "{connection_file}"
   ],
   "display_name": "Python 3 (SageMath)",
   "env": {
   },
   "language": "python",
   "name": "python3-sage",
   "resource_dir": "/opt/venv/share/jupyter/kernels/python3-sage"
  },
  "language_info": {
   "codemirror_mode": {
    "name": "ipython",
    "version": 3
   },
   "file_extension": ".py",
   "mimetype": "text/x-python",
   "name": "python",
   "nbconvert_exporter": "python",
   "pygments_lexer": "ipython3",
   "version": "3.12.4"
  }
 },
 "nbformat": 4,
 "nbformat_minor": 4
}