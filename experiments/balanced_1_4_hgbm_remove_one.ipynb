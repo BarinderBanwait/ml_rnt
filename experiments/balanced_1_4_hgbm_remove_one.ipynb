{
 "cells": [
  {
   "cell_type": "markdown",
   "id": "f703d3",
   "metadata": {
    "collapsed": false
   },
   "source": [
    "This notebook is for HGBM on curves with positive rank and size of Sha equal to 1 and 4 and removing one BSD feature at a time. This includes both the original and log-transformed data."
   ]
  },
  {
   "cell_type": "code",
   "execution_count": 1,
   "id": "6d3e25",
   "metadata": {
    "collapsed": false
   },
   "outputs": [
   ],
   "source": [
    "from lib import utils, models, executor\n",
    "import torch.nn as nn\n",
    "import torch.optim as optim\n",
    "from pathlib import Path\n",
    "import pandas as pd\n",
    "from sklearn.metrics import mean_absolute_error, mean_squared_error\n",
    "\n",
    "# fix the seed for reproducibility\n",
    "seed = 42"
   ]
  },
  {
   "cell_type": "markdown",
   "id": "215a71",
   "metadata": {
    "collapsed": false
   },
   "source": [
    "# 1. Create balanced dataset of elliptic curves with positive rank and size of the Tate-Shafarevich group equal to 1 and 4 containing all BSD features"
   ]
  },
  {
   "cell_type": "code",
   "execution_count": 2,
   "id": "5bbbc7",
   "metadata": {
    "collapsed": false
   },
   "outputs": [
    {
     "name": "stdout",
     "output_type": "stream",
     "text": [
      "Loaded the dataset with 120 features and 3064705 curves..\n"
     ]
    }
   ],
   "source": [
    "# load your data here. The following ensure this will work on Windows as well as Unix\n",
    "path = Path(\"..\") / \"data_files\" / \"sha\"/ \"ecq_sha_B_100_conds_1_500000_reg.parquet\"\n",
    "df = utils.load_data(path)\n",
    "df=df[df['rank']>0]"
   ]
  },
  {
   "cell_type": "code",
   "execution_count": 3,
   "id": "9d0925",
   "metadata": {
    "collapsed": false
   },
   "outputs": [
    {
     "data": {
      "text/plain": [
       "sha\n",
       "1    18710\n",
       "4    18710\n",
       "Name: count, dtype: int64"
      ]
     },
     "execution_count": 3,
     "metadata": {
     },
     "output_type": "execute_result"
    }
   ],
   "source": [
    "len_4 = df[df['sha'] == 4].shape[0]\n",
    "df_balanced = df[df['sha'] == 1].sample(len_4, random_state=seed) \n",
    "df_balanced = pd.concat([df_balanced, df[df['sha'] == 4]])\n",
    "df_balanced.sha.value_counts()"
   ]
  },
  {
   "cell_type": "code",
   "execution_count": 4,
   "id": "0ba8c0",
   "metadata": {
    "collapsed": false
   },
   "outputs": [
   ],
   "source": [
    "#Get columns with all the BSD features, from which we will eventually remove one at a time\n",
    "bsd_features = ['special_value', 'torsion', 'real_period', 'regulator', 'tamagawa_product', 'sha']\n",
    "\n",
    "df_balanced_bsd = df_balanced[bsd_features].copy()"
   ]
  },
  {
   "cell_type": "code",
   "execution_count": 5,
   "id": "50f1ac",
   "metadata": {
    "collapsed": false
   },
   "outputs": [
    {
     "data": {
      "text/html": [
       "<div>\n",
       "<style scoped>\n",
       "    .dataframe tbody tr th:only-of-type {\n",
       "        vertical-align: middle;\n",
       "    }\n",
       "\n",
       "    .dataframe tbody tr th {\n",
       "        vertical-align: top;\n",
       "    }\n",
       "\n",
       "    .dataframe thead th {\n",
       "        text-align: right;\n",
       "    }\n",
       "</style>\n",
       "<table border=\"1\" class=\"dataframe\">\n",
       "  <thead>\n",
       "    <tr style=\"text-align: right;\">\n",
       "      <th></th>\n",
       "      <th>special_value</th>\n",
       "      <th>torsion</th>\n",
       "      <th>real_period</th>\n",
       "      <th>regulator</th>\n",
       "      <th>tamagawa_product</th>\n",
       "      <th>sha</th>\n",
       "    </tr>\n",
       "  </thead>\n",
       "  <tbody>\n",
       "    <tr>\n",
       "      <th>393967</th>\n",
       "      <td>7.08730</td>\n",
       "      <td>4</td>\n",
       "      <td>0.87493</td>\n",
       "      <td>8.10043</td>\n",
       "      <td>16</td>\n",
       "      <td>1</td>\n",
       "    </tr>\n",
       "    <tr>\n",
       "      <th>811492</th>\n",
       "      <td>5.28675</td>\n",
       "      <td>2</td>\n",
       "      <td>0.31006</td>\n",
       "      <td>1.70505</td>\n",
       "      <td>40</td>\n",
       "      <td>1</td>\n",
       "    </tr>\n",
       "    <tr>\n",
       "      <th>872987</th>\n",
       "      <td>9.43579</td>\n",
       "      <td>1</td>\n",
       "      <td>1.05987</td>\n",
       "      <td>2.22569</td>\n",
       "      <td>4</td>\n",
       "      <td>1</td>\n",
       "    </tr>\n",
       "    <tr>\n",
       "      <th>761927</th>\n",
       "      <td>2.52192</td>\n",
       "      <td>2</td>\n",
       "      <td>0.54553</td>\n",
       "      <td>0.57786</td>\n",
       "      <td>32</td>\n",
       "      <td>1</td>\n",
       "    </tr>\n",
       "    <tr>\n",
       "      <th>2647019</th>\n",
       "      <td>5.41466</td>\n",
       "      <td>1</td>\n",
       "      <td>0.31870</td>\n",
       "      <td>4.24740</td>\n",
       "      <td>4</td>\n",
       "      <td>1</td>\n",
       "    </tr>\n",
       "  </tbody>\n",
       "</table>\n",
       "</div>"
      ],
      "text/plain": [
       "         special_value  torsion  real_period  regulator  tamagawa_product  sha\n",
       "393967         7.08730        4      0.87493    8.10043                16    1\n",
       "811492         5.28675        2      0.31006    1.70505                40    1\n",
       "872987         9.43579        1      1.05987    2.22569                 4    1\n",
       "761927         2.52192        2      0.54553    0.57786                32    1\n",
       "2647019        5.41466        1      0.31870    4.24740                 4    1"
      ]
     },
     "execution_count": 5,
     "metadata": {
     },
     "output_type": "execute_result"
    }
   ],
   "source": [
    "df_balanced_bsd.head(5)"
   ]
  },
  {
   "cell_type": "markdown",
   "id": "72100d",
   "metadata": {
    "collapsed": false
   },
   "source": [
    "# 2. Delete one feature at a time on original data\n",
    "The best accuracy is about 92% when removing the special value."
   ]
  },
  {
   "cell_type": "code",
   "execution_count": 6,
   "id": "3618ec",
   "metadata": {
    "collapsed": false
   },
   "outputs": [
   ],
   "source": [
    "import numpy as np\n",
    "from sklearn.model_selection import train_test_split\n",
    "from sklearn.metrics import accuracy_score\n",
    "from sklearn.ensemble import HistGradientBoostingClassifier, HistGradientBoostingRegressor"
   ]
  },
  {
   "cell_type": "code",
   "execution_count": 7,
   "id": "806563",
   "metadata": {
    "collapsed": false
   },
   "outputs": [
    {
     "name": "stdout",
     "output_type": "stream",
     "text": [
      "Running model without special_value..\n"
     ]
    },
    {
     "name": "stdout",
     "output_type": "stream",
     "text": [
      "Running model without torsion..\n"
     ]
    },
    {
     "name": "stdout",
     "output_type": "stream",
     "text": [
      "Running model without real_period..\n"
     ]
    },
    {
     "name": "stdout",
     "output_type": "stream",
     "text": [
      "Running model without regulator..\n"
     ]
    },
    {
     "name": "stdout",
     "output_type": "stream",
     "text": [
      "Running model without tamagawa_product..\n"
     ]
    },
    {
     "name": "stdout",
     "output_type": "stream",
     "text": [
      "    Feature Deleted  Accuracy\n",
      "0     special_value  0.920230\n",
      "1           torsion  0.811865\n",
      "2       real_period  0.781935\n",
      "3         regulator  0.831106\n",
      "4  tamagawa_product  0.766569\n"
     ]
    }
   ],
   "source": [
    "# Initialize an empty DataFrame to store the results\n",
    "results_df_hist_grad = pd.DataFrame({\n",
    "    'Feature Deleted': pd.Series(dtype='str'),\n",
    "    'Accuracy': pd.Series(dtype='float')})\n",
    "\n",
    "\n",
    "for i in range(len(bsd_features[:-1])):\n",
    "    print(f'Running model without {bsd_features[i]}..')\n",
    "    df_sub = df_balanced_bsd.drop(columns=[bsd_features[i]]).copy()\n",
    "    X = df_sub[[c for c in df_sub.columns if c != 'sha']]\n",
    "    y = df_sub['sha']\n",
    "    X_train, X_test, y_train, y_test = train_test_split(X, y, test_size=0.2, random_state=seed)\n",
    "    model = HistGradientBoostingClassifier(random_state=42)\n",
    "    model.fit(X_train, y_train)\n",
    "    y_pred = model.predict(X_test)\n",
    "    accuracy = accuracy_score(y_test, y_pred)\n",
    "    \n",
    "   # Append the results to the DataFrame\n",
    "    results_df_hist_grad = pd.concat([results_df_hist_grad, pd.DataFrame([{'Feature Deleted': bsd_features[i], 'Accuracy': accuracy}])], ignore_index=True)\n",
    "    \n",
    "print(results_df_hist_grad)"
   ]
  },
  {
   "cell_type": "markdown",
   "id": "b184c0",
   "metadata": {
    "collapsed": false
   },
   "source": [
    "# 3. Delete one feature at a time on log-transformed data\n",
    "Again, note that the accuracy scores are identical to those of the original data."
   ]
  },
  {
   "cell_type": "code",
   "execution_count": 8,
   "id": "4e10cf",
   "metadata": {
    "collapsed": false
   },
   "outputs": [
   ],
   "source": [
    "import numpy as np\n",
    "from sklearn.model_selection import train_test_split\n",
    "from sklearn.metrics import accuracy_score\n",
    "from sklearn.ensemble import HistGradientBoostingClassifier, HistGradientBoostingRegressor"
   ]
  },
  {
   "cell_type": "code",
   "execution_count": 9,
   "id": "c616af",
   "metadata": {
    "collapsed": false
   },
   "outputs": [
    {
     "name": "stdout",
     "output_type": "stream",
     "text": [
      "Running model without special_value..\n"
     ]
    },
    {
     "name": "stdout",
     "output_type": "stream",
     "text": [
      "Running model without torsion..\n"
     ]
    },
    {
     "name": "stdout",
     "output_type": "stream",
     "text": [
      "Running model without real_period..\n"
     ]
    },
    {
     "name": "stdout",
     "output_type": "stream",
     "text": [
      "Running model without regulator..\n"
     ]
    },
    {
     "name": "stdout",
     "output_type": "stream",
     "text": [
      "Running model without tamagawa_product..\n"
     ]
    },
    {
     "name": "stdout",
     "output_type": "stream",
     "text": [
      "    Feature Deleted  Accuracy\n",
      "0     special_value  0.920230\n",
      "1           torsion  0.811865\n",
      "2       real_period  0.781935\n",
      "3         regulator  0.831106\n",
      "4  tamagawa_product  0.766569\n"
     ]
    }
   ],
   "source": [
    "# Initialize an empty DataFrame to store the results\n",
    "results_df_hist_grad_log = pd.DataFrame({\n",
    "    'Feature Deleted': pd.Series(dtype='str'),\n",
    "    'Accuracy': pd.Series(dtype='float')})\n",
    "\n",
    "\n",
    "for i in range(len(bsd_features[:-1])):\n",
    "    print(f'Running model without {bsd_features[i]}..')\n",
    "    df_sub_log = df_balanced_bsd.drop(columns=[bsd_features[i]]).copy()\n",
    "    print\n",
    "    X = df_sub_log[[c for c in df_sub_log.columns if c != 'sha']].apply(np.log)\n",
    "    y = df_sub_log['sha']\n",
    "    X_train, X_test, y_train, y_test = train_test_split(X, y, test_size=0.2, random_state=seed)\n",
    "    model = HistGradientBoostingClassifier(random_state=seed)\n",
    "    model.fit(X_train, y_train)\n",
    "    y_pred = model.predict(X_test)\n",
    "    accuracy = accuracy_score(y_test, y_pred)\n",
    "    \n",
    "   # Append the results to the DataFrame\n",
    "    results_df_hist_grad_log = pd.concat([results_df_hist_grad_log, pd.DataFrame([{'Feature Deleted': bsd_features[i], 'Accuracy': accuracy}])], ignore_index=True)\n",
    "    \n",
    "print(results_df_hist_grad_log)"
   ]
  },
  {
   "cell_type": "code",
   "execution_count": 0,
   "id": "74b087",
   "metadata": {
    "collapsed": false
   },
   "outputs": [
   ],
   "source": [
   ]
  }
 ],
 "metadata": {
  "kernelspec": {
   "argv": [
    "sage",
    "--python",
    "-m",
    "ipykernel",
    "-c",
    "%config InlineBackend.figure_formats = set(['retina'])\nimport matplotlib; matplotlib.rcParams['figure.figsize'] = (12, 7)",
    "--matplotlib=inline",
    "-f",
    "{connection_file}"
   ],
   "display_name": "Python 3 (SageMath)",
   "env": {
   },
   "language": "python",
   "name": "python3-sage",
   "resource_dir": "/opt/venv/share/jupyter/kernels/python3-sage"
  },
  "language_info": {
   "codemirror_mode": {
    "name": "ipython",
    "version": 3
   },
   "file_extension": ".py",
   "mimetype": "text/x-python",
   "name": "python",
   "nbconvert_exporter": "python",
   "pygments_lexer": "ipython3",
   "version": "3.10.12"
  }
 },
 "nbformat": 4,
 "nbformat_minor": 4
}